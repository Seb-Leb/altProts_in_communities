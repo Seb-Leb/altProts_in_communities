{
 "cells": [
  {
   "cell_type": "code",
   "execution_count": 21,
   "metadata": {
    "ExecuteTime": {
     "end_time": "2021-06-08T15:38:52.308921Z",
     "start_time": "2021-06-08T15:38:52.302556Z"
    }
   },
   "outputs": [],
   "source": [
    "import pickle\n",
    "import itertools as itt\n",
    "from scipy import stats\n",
    "from statsmodels.stats.multitest import multipletests"
   ]
  },
  {
   "cell_type": "code",
   "execution_count": 40,
   "metadata": {
    "ExecuteTime": {
     "end_time": "2021-06-10T16:58:49.607975Z",
     "start_time": "2021-06-10T16:58:19.434119Z"
    }
   },
   "outputs": [],
   "source": [
    "from altProts_in_communities.utils import *"
   ]
  },
  {
   "cell_type": "code",
   "execution_count": 23,
   "metadata": {
    "ExecuteTime": {
     "end_time": "2021-06-08T15:38:52.564920Z",
     "start_time": "2021-06-08T15:38:52.328236Z"
    }
   },
   "outputs": [],
   "source": [
    "clusters_dict = pickle.load(open('clusters_dict.pkl', 'rb'))"
   ]
  },
  {
   "cell_type": "code",
   "execution_count": 24,
   "metadata": {
    "ExecuteTime": {
     "end_time": "2021-06-08T15:38:53.196666Z",
     "start_time": "2021-06-08T15:38:52.567810Z"
    }
   },
   "outputs": [
    {
     "name": "stdout",
     "output_type": "stream",
     "text": [
      "32375\n"
     ]
    }
   ],
   "source": [
    "with open('curated_gene_disease_associations.tsv', 'r') as f:\n",
    "    disgenet = []\n",
    "    for n,l in enumerate(f):\n",
    "        ls = l.strip().split('\\t')\n",
    "        if n==0:\n",
    "            keys=ls\n",
    "            continue\n",
    "        line = dict(zip(keys, ls))\n",
    "        if float(line['score'])<=0.3:continue\n",
    "        disgenet.append(line)\n",
    "print(len(disgenet))"
   ]
  },
  {
   "cell_type": "code",
   "execution_count": 25,
   "metadata": {
    "ExecuteTime": {
     "end_time": "2021-06-08T15:38:53.240011Z",
     "start_time": "2021-06-08T15:38:53.199058Z"
    }
   },
   "outputs": [
    {
     "name": "stdout",
     "output_type": "stream",
     "text": [
      "Disgenet relates 6970 genes with 8141 diseases in 32375 associations.\n"
     ]
    }
   ],
   "source": [
    "n_genes = len(set(x['geneSymbol'] for x in disgenet))\n",
    "n_diseases = len(set(x['diseaseName'] for x in disgenet))\n",
    "n_assoc = len(disgenet)\n",
    "print('Disgenet relates {} genes with {} diseases in {} associations.'.format(n_genes, n_diseases, n_assoc))"
   ]
  },
  {
   "cell_type": "code",
   "execution_count": 26,
   "metadata": {
    "ExecuteTime": {
     "end_time": "2021-06-08T15:38:53.298001Z",
     "start_time": "2021-06-08T15:38:53.242437Z"
    }
   },
   "outputs": [],
   "source": [
    "asso_scores = {((d['geneSymbol'], d['diseaseId'])):float(d['score']) for d in disgenet}"
   ]
  },
  {
   "cell_type": "code",
   "execution_count": 27,
   "metadata": {
    "ExecuteTime": {
     "end_time": "2021-06-08T15:38:53.757825Z",
     "start_time": "2021-06-08T15:38:53.300642Z"
    }
   },
   "outputs": [],
   "source": [
    "gene_diseases_ls = [(d['geneSymbol'], d['diseaseId'] , d['diseaseSemanticType'], d['diseaseClass'], d['diseaseName']) for d in disgenet]\n",
    "\n",
    "diseaseid_diseasename = {}\n",
    "for diseaseid, grp in itt.groupby(sorted(gene_diseases_ls, key=lambda x: x[1]), lambda x: x[1]):\n",
    "    diseaseid_diseasename[diseaseid] = [x[4] for x in grp][0]\n",
    "    \n",
    "gene_diseases = {}\n",
    "for gene, diseases in itt.groupby(sorted(gene_diseases_ls), lambda x: x[0]):\n",
    "    gene_diseases[gene] = [x[1] for x in diseases]\n",
    "\n",
    "disease_genes = {}\n",
    "for disease, genes in itt.groupby(sorted(gene_diseases_ls, key=lambda x: x[1]), lambda x: x[1]):\n",
    "    disease_genes[disease] = [x[0] for x in genes]\n",
    "\n",
    "disease_types = {}\n",
    "for disease, disease_grp in itt.groupby(sorted(gene_diseases_ls, key=lambda x: x[1]), lambda x: x[1]):\n",
    "    distyp_set = set([x[2] for x in disease_grp])\n",
    "    if len(distyp_set)>1:\n",
    "        print(disease, distyp_set)\n",
    "    disease_types[disease] = list(distyp_set)[0]\n",
    "\n",
    "disease_classes = {}\n",
    "for disease, disease_grp in itt.groupby(sorted(gene_diseases_ls, key=lambda x: x[1]), lambda x: x[1]):\n",
    "    disclass_set = set(x for y in [x[3].split(';') for x in disease_grp] for x in y)\n",
    "    disease_classes[disease] = disclass_set"
   ]
  },
  {
   "cell_type": "markdown",
   "metadata": {
    "ExecuteTime": {
     "end_time": "2021-06-08T15:38:04.622687Z",
     "start_time": "2021-06-08T15:38:04.616671Z"
    }
   },
   "source": [
    "# Contingency table\n",
    "Fisher's exact test to verify wether disease genes are enriched in protein communities\n",
    "(computed per disease for each community)\n",
    "community genes, population genes\n",
    "disease genes, \n",
    "\n",
    "null hypothesis: the cluster is not enriched in disease genes\n",
    "alt  hypothesis: the cluster is enriched in disease genes\n",
    "\n",
    "place all genes in contingency table:\n",
    "                  in_clust              not_in_clust\n",
    "    is_disease   intersect            non_comm disease genes\n",
    "is_not_disease   non-disease comm     non-disease, non-comm genes"
   ]
  },
  {
   "cell_type": "code",
   "execution_count": 28,
   "metadata": {
    "ExecuteTime": {
     "end_time": "2021-06-08T15:38:53.770669Z",
     "start_time": "2021-06-08T15:38:53.760238Z"
    }
   },
   "outputs": [],
   "source": [
    "pop = set(x for y in [clust['graph'].nodes() for clust in clusters_dict.values()] for x in y if 'IP_' not in x)"
   ]
  },
  {
   "cell_type": "code",
   "execution_count": 29,
   "metadata": {
    "ExecuteTime": {
     "end_time": "2021-06-08T15:39:06.667300Z",
     "start_time": "2021-06-08T15:38:53.774231Z"
    }
   },
   "outputs": [
    {
     "name": "stdout",
     "output_type": "stream",
     "text": [
      "687 clusters of which 93 contain at least one altProt are found in association with 2612 diseases in 2743 cluster-disease associations.\n"
     ]
    }
   ],
   "source": [
    "clust_diseases = []\n",
    "for clust_n, clust in clusters_dict.items():\n",
    "    clust_genes = set(x for x in clust['graph'].nodes() if 'IP_' not in x and 'II_' not in x)\n",
    "    non_clust_genes = pop - clust_genes\n",
    "    assoc_diseases = set(x for y in [gene_diseases[x] for x in list(clust_genes) if x in gene_diseases] for x in y)\n",
    "    for dis in assoc_diseases:\n",
    "        dis_genes = set(disease_genes[dis])\n",
    "        non_dis_genes = pop - dis_genes\n",
    "        # Build a contingency table for each test\n",
    "        cont_table = [[len(clust_genes.intersection(dis_genes)), len(dis_genes.difference(clust_genes))],\n",
    "                      [len(clust_genes.difference(dis_genes)),   len(non_clust_genes.difference(dis_genes))]]\n",
    "        odds_ratio, pval = stats.fisher_exact(cont_table, alternative='greater')\n",
    "        # Run the test\n",
    "        clust_diseases.append((clust_n, dis, odds_ratio, pval))\n",
    "\n",
    "clust_diseases = sorted(clust_diseases, key=lambda x: x[-1])\n",
    "\n",
    "clust_diseases_pvals = [x[-1] for x in clust_diseases]\n",
    "\n",
    "fdr_bh = multipletests(clust_diseases_pvals, method='fdr_bh', alpha=0.01, is_sorted=True)\n",
    "corrected_pvals = fdr_bh[1]\n",
    "fdr_bh = fdr_bh[0]\n",
    "sig_clust_diseases = list(itt.compress(clust_diseases, fdr_bh))\n",
    "\n",
    "n_dieases = len(set(x[1] for x in sig_clust_diseases))\n",
    "n_clust   = len(set(x[0] for x in sig_clust_diseases))\n",
    "n_clust_alt = sum([clusters_dict[x]['contains_alt'] for x in list(set(x[0] for x in sig_clust_diseases))])\n",
    "print('{} clusters of which {} contain at least one altProt are found in association with {} diseases in {} cluster-disease associations.'.format(\n",
    "    n_clust, n_clust_alt, n_dieases, len(sig_clust_diseases)))"
   ]
  },
  {
   "cell_type": "code",
   "execution_count": 30,
   "metadata": {
    "ExecuteTime": {
     "end_time": "2021-06-08T15:39:06.685014Z",
     "start_time": "2021-06-08T15:39:06.669958Z"
    }
   },
   "outputs": [],
   "source": [
    "for clust_n, diseases in itt.groupby(sorted(sig_clust_diseases), key=lambda x: x[0]):\n",
    "    clusters_dict[clust_n]['diseases'] = [x[1:] for x in diseases]\n",
    "\n",
    "for clust_n, clust in clusters_dict.items():\n",
    "    if clust['contains_alt'] and 'diseases' in clust:\n",
    "        clust['disease_gene_counts'] = {}\n",
    "        for dis in clust['diseases']:\n",
    "            clust['disease_gene_counts'][dis[0]] = set.intersection(set(clusters_dict[clust_n]['graph'].nodes()), set(disease_genes[dis[0]]))"
   ]
  },
  {
   "cell_type": "code",
   "execution_count": 61,
   "metadata": {
    "ExecuteTime": {
     "end_time": "2021-06-29T19:32:21.644604Z",
     "start_time": "2021-06-29T19:32:21.572002Z"
    }
   },
   "outputs": [],
   "source": [
    "# clusters-GO-diseases expanded view table\n",
    "import csv\n",
    "def remove_altgene(edge):\n",
    "    edge = [node.split('|')[0] for node in edge]\n",
    "    return edge\n",
    "cols = ('cluster number', 'PPIs (edges)', 'GOterm_pval', 'disease_pval')\n",
    "with open('bioplex_tables/Table_EV5.tsv', 'w') as f:\n",
    "    writer = csv.writer(f, delimiter='\\t')\n",
    "    writer.writerow(cols)\n",
    "    for clust_n, clust in clusters_dict.items():\n",
    "        clust_name = '#{}'.format(clust_n)\n",
    "        edges = '|'.join(['-'.join(remove_altgene(e)) for e in clust['graph'].edges()])\n",
    "        \n",
    "        row = [clust_name, edges, ]\n",
    "        writer.writerow(row)"
   ]
  },
  {
   "cell_type": "code",
   "execution_count": 31,
   "metadata": {
    "ExecuteTime": {
     "end_time": "2021-06-08T15:39:06.704377Z",
     "start_time": "2021-06-08T15:39:06.687008Z"
    },
    "code_folding": [
     0
    ]
   },
   "outputs": [],
   "source": [
    "# MeSh\n",
    "mesh = \"Infections [C01];\\\n",
    "Neoplasms [C04];\\\n",
    "Musculoskeletal Diseases [C05];\\\n",
    "Digestive System Diseases [C06];\\\n",
    "Stomatognathic Diseases [C07];\\\n",
    "Respiratory Tract Diseases [C08];\\\n",
    "Otorhinolaryngologic Diseases [C09];\\\n",
    "Nervous System Diseases [C10];\\\n",
    "Eye Diseases [C11];\\\n",
    "Male Urogenital Diseases [C12];\\\n",
    "Female Urogenital Diseases and Pregnancy Complications [C13];\\\n",
    "Cardiovascular Diseases [C14];\\\n",
    "Hemic and Lymphatic Diseases [C15];\\\n",
    "Congenital, Hereditary, and Neonatal Diseases and Abnormalities [C16];\\\n",
    "Skin and Connective Tissue Diseases [C17];\\\n",
    "Nutritional and Metabolic Diseases [C18];\\\n",
    "Endocrine System Diseases [C19];\\\n",
    "Immune System Diseases [C20];\\\n",
    "Disorders of Environmental Origin [C21];\\\n",
    "Animal Diseases [C22];\\\n",
    "Pathological Conditions, Signs and Symptoms [C23];\\\n",
    "Occupational Diseases [C24];\\\n",
    "Chemically-Induced Disorders [C25];\\\n",
    "Wounds and Injuries [C26];\\\n",
    "Behavior and Behavior Mechanisms [F01];\\\n",
    "Psychological Phenomena [F02];\\\n",
    "Mental Disorders [F03] \"\n",
    "\n",
    "mesh = [[x.strip().replace(']','') for x in m.split('[')] for m in mesh.split(';')]\n",
    "\n",
    "mesh_dict = {x[1]:x[0] for x in mesh}"
   ]
  },
  {
   "cell_type": "code",
   "execution_count": 32,
   "metadata": {
    "ExecuteTime": {
     "end_time": "2021-06-08T15:39:06.718215Z",
     "start_time": "2021-06-08T15:39:06.706788Z"
    }
   },
   "outputs": [],
   "source": [
    "dis_classes = list(mesh_dict.keys())"
   ]
  },
  {
   "cell_type": "code",
   "execution_count": 33,
   "metadata": {
    "ExecuteTime": {
     "end_time": "2021-06-08T15:39:06.770809Z",
     "start_time": "2021-06-08T15:39:06.720093Z"
    }
   },
   "outputs": [],
   "source": [
    "dis_class_summary = {d:{'alt_clust':0, 'no_alt_clust':0} for d in dis_classes}\n",
    "for dis_class in dis_classes:\n",
    "    for clust_n, diseaseid, OR, pval in sig_clust_diseases:\n",
    "        if dis_class in disease_classes[diseaseid]:\n",
    "            if clusters_dict[clust_n]['contains_alt']:\n",
    "                dis_class_summary[dis_class]['alt_clust'] += 1\n",
    "            else:\n",
    "                dis_class_summary[dis_class]['no_alt_clust'] += 1"
   ]
  },
  {
   "cell_type": "code",
   "execution_count": 34,
   "metadata": {
    "ExecuteTime": {
     "end_time": "2021-06-08T15:39:07.577543Z",
     "start_time": "2021-06-08T15:39:06.772782Z"
    }
   },
   "outputs": [
    {
     "data": {
      "image/png": "[encoded data removed]",
      "text/plain": [
       "<Figure size 216x360 with 2 Axes>"
      ]
     },
     "metadata": {},
     "output_type": "display_data"
    }
   ],
   "source": [
    "fig, axs = plt.subplots(1,2,figsize=(3,5), sharey=True, facecolor='w')\n",
    "height=0.8\n",
    "disclasses, alt_cnts, no_alt_cnts, alt_percent = \\\n",
    "list(zip(*sorted([(k, v['alt_clust'], v['no_alt_clust'], 100*v['alt_clust']/(v['alt_clust']+v['no_alt_clust'])) for k,v in dis_class_summary.items() if  v['alt_clust']+v['no_alt_clust']>10], key=lambda x: sum(x[1:3]))))\n",
    "axs[0].barh([mesh_dict[d] for d in disclasses], alt_cnts, color='#d81159', height=height)\n",
    "\n",
    "#plt.xticks([5, 10, 15, 20])\n",
    "axs[1].barh([mesh_dict[d] for d in disclasses], no_alt_cnts, color='#133e56', height=height)\n",
    "#plt.xticks([0, 500, 1000, 1500])\n",
    "plt.savefig('bioplex_figures/disease_counts_bar.svg')\n",
    "plt.show()"
   ]
  },
  {
   "cell_type": "code",
   "execution_count": 35,
   "metadata": {
    "ExecuteTime": {
     "end_time": "2021-06-08T15:39:08.053322Z",
     "start_time": "2021-06-08T15:39:07.579427Z"
    }
   },
   "outputs": [
    {
     "data": {
      "image/png": "[encoded data removed]",
      "text/plain": [
       "<Figure size 216x360 with 1 Axes>"
      ]
     },
     "metadata": {
      "needs_background": "light"
     },
     "output_type": "display_data"
    }
   ],
   "source": [
    "fig, ax = plt.subplots(figsize=(3,5))\n",
    "disclasses, alt_percent, alt_clust, alt_no_clust = \\\n",
    "list(zip(*sorted([(k, 100*v['alt_clust']/(v['no_alt_clust']+v['alt_clust']), v['alt_clust'], v['no_alt_clust']) for k,v in dis_class_summary.items() if  v['alt_clust']+v['no_alt_clust']>10], key=lambda x: sum(x[2:]))))\n",
    "ax.barh([mesh_dict[d] for d in disclasses], alt_percent, color='#7a3350', height=height)\n",
    "plt.xticks([5, 10, 15, 20])\n",
    "plt.savefig('bioplex_figures/disease_ratio_bar.svg')\n",
    "plt.show()"
   ]
  },
  {
   "cell_type": "code",
   "execution_count": 41,
   "metadata": {
    "ExecuteTime": {
     "end_time": "2021-06-10T16:58:49.620519Z",
     "start_time": "2021-06-10T16:58:49.611035Z"
    }
   },
   "outputs": [],
   "source": [
    "HCIP_baits = pickle.load(open('HCIP_baits.pkl', 'rb'))\n",
    "\n",
    "def tt_type_node_attrs(G, HCIP_baits):    \n",
    "    node_attrs = {}\n",
    "    for n in G.nodes():\n",
    "        node_attrs[n] = {}\n",
    "        if is_alt(n):\n",
    "            node_attrs[n]['tt_type'] = 'alt'\n",
    "            node_attrs[n]['node_type'] = 'prey'\n",
    "        else:\n",
    "            node_attrs[n]['tt_type'] = 'ref'\n",
    "            if n in HCIP_baits:\n",
    "                node_attrs[n]['node_type'] = 'bait'\n",
    "            else:\n",
    "                node_attrs[n]['node_type'] = 'prey'\n",
    "\n",
    "    return node_attrs"
   ]
  },
  {
   "cell_type": "code",
   "execution_count": 51,
   "metadata": {
    "ExecuteTime": {
     "end_time": "2021-06-11T18:09:03.423048Z",
     "start_time": "2021-06-11T18:09:03.414619Z"
    }
   },
   "outputs": [
    {
     "data": {
      "text/plain": [
       "'Diffuse Large B-Cell Lymphoma'"
      ]
     },
     "execution_count": 51,
     "metadata": {},
     "output_type": "execute_result"
    }
   ],
   "source": [
    "diseaseid_diseasename['C0079744']"
   ]
  },
  {
   "cell_type": "code",
   "execution_count": 53,
   "metadata": {
    "ExecuteTime": {
     "end_time": "2021-06-11T18:13:12.184495Z",
     "start_time": "2021-06-11T18:13:11.894966Z"
    }
   },
   "outputs": [
    {
     "name": "stdout",
     "output_type": "stream",
     "text": [
      "42 ['EIF3LP2|IP_790907', 'EIF4A1P7|IP_758374']\n",
      "\t 1 PARKINSON DISEASE 18 {'EIF4G1'}\n",
      "\t 1 INTELLECTUAL DEVELOPMENTAL DISORDER, AUTOSOMAL RECESSIVE 67 {'EIF3F'}\n",
      "43 ['ALPK3|IP_236856']\n",
      "\t 2 Rubinstein-Taybi Syndrome {'CREBBP', 'EP300'}\n",
      "\t 3 Diffuse Large B-Cell Lymphoma {'SKP2', 'CREBBP', 'EP300'}\n",
      "\t 1 RUBINSTEIN-TAYBI SYNDROME 2 {'EP300'}\n",
      "\t 1 MEIER-GORLIN SYNDROME 4 {'CDT1'}\n",
      "\t 2 RUBINSTEIN-TAYBI SYNDROME 1 {'CREBBP', 'EP300'}\n",
      "\t 1 INTELLECTUAL DEVELOPMENTAL DISORDER AND RETINITIS PIGMENTOSA {'SCAPER'}\n",
      "50 ['SLC38A10|IP_711690']\n",
      "\t 1 Insulin-dependent diabetes mellitus secretory diarrhea syndrome {'FOXP3'}\n",
      "\t 1 Apraxia, Verbal {'FOXP2'}\n",
      "\t 1 Apraxia, Oral {'FOXP2'}\n",
      "\t 1 Specific language impairment {'FOXP2'}\n",
      "\t 1 Microcephaly, Primary Autosomal Recessive, 6 {'CENPJ'}\n",
      "\t 1 Combined Oxidative Phosphorylation Deficiency 3 {'TSFM'}\n",
      "\t 1 PERRAULT SYNDROME 2 {'HARS2'}\n",
      "\t 1 SECKEL SYNDROME 4 {'CENPJ'}\n",
      "51 ['CEPT1|IP_679545']\n",
      "\t 1 Marden Walker like syndrome {'SCARF2'}\n",
      "\t 1 SURFACTANT METABOLISM DYSFUNCTION, PULMONARY, 2 (disorder) {'SFTPC'}\n",
      "\t 1 46, XY Sex Reversal 5 {'CBX2'}\n",
      "\t 1 MICROCEPHALY 11, PRIMARY, AUTOSOMAL RECESSIVE {'PHC1'}\n",
      "52 ['RPL23AP29|IP_637308', 'LOC101927245|IP_3397633', 'CLEC3A|IP_246844']\n",
      "\t 1 PARKINSON DISEASE 22, AUTOSOMAL DOMINANT {'CHCHD2'}\n",
      "\t 1 PROGRESSIVE EXTERNAL OPHTHALMOPLEGIA WITH MITOCHONDRIAL DNA DELETIONS, AUTOSOMAL RECESSIVE 2 {'RNASEH1'}\n",
      "55 ['SPINK9|IP_611467']\n",
      "\t 1 HYPOCALCIURIC HYPERCALCEMIA, FAMILIAL, TYPE III {'AP2S1'}\n",
      "\t 1 SCHIZOPHRENIA 11 {'STON2'}\n",
      "\t 1 NEURODEGENERATION WITH BRAIN IRON ACCUMULATION 7 {'REPS1'}\n",
      "56 ['PRKAR2B|IP_156019', 'ATRX|IP_301371']\n",
      "\t 2 Cushing Syndrome {'PRKACB', 'PRKAR1A'}\n",
      "\t 1 Myxoma {'PRKAR1A'}\n",
      "\t 1 Carney Complex {'PRKAR1A'}\n",
      "\t 1 Atrial myxoma, familial {'PRKAR1A'}\n",
      "\t 1 Carney Complex, Type 2 {'PRKAR1A'}\n",
      "\t 1 PIGMENTED NODULAR ADRENOCORTICAL DISEASE, PRIMARY, 1 (disorder) {'PRKAR1A'}\n",
      "\t 1 Carney Complex, Type 1 {'PRKAR1A'}\n",
      "\t 1 Intracardiac myxoma {'PRKAR1A'}\n",
      "\t 1 PIGMENTED NODULAR ADRENOCORTICAL DISEASE, PRIMARY, 4 {'PRKACA'}\n",
      "68 ['EEF1A1P4|IP_762589', 'EEF1GP5|IP_558531', 'EEF1A1P8|IP_623047', 'EEF1A1P22|IP_737074', 'EEF1A1P11|IP_672870', 'EEF1A1P24|IP_624363']\n",
      "\t 1 EPILEPTIC ENCEPHALOPATHY, EARLY INFANTILE, 33 {'EEF1A2'}\n",
      "\t 1 MENTAL RETARDATION, AUTOSOMAL DOMINANT 38 {'EEF1A2'}\n",
      "69 ['HSPD1P1|IP_603739', 'HSPD1P7|IP_658154', 'SNCAIP|IP_130051', 'HSPD1P4|IP_761691', 'HSPD1P10|IP_591826']\n",
      "\t 1 Endotoxemia {'HSPD1'}\n",
      "\t 1 Spastic paraplegia 13, autosomal dominant {'HSPD1'}\n",
      "\t 1 Leukodystrophy, Hypomyelinating, 4 {'HSPD1'}\n",
      "78 ['ADAM10|IP_233890']\n",
      "\t 4 Malignant neoplasm of lung {'JUNB', 'FOS', 'JUND', 'JUN'}\n",
      "80 ['RPS27AP12|IP_579683', 'SMIM20|IP_117002', 'UBBP4|IP_710744']\n",
      "\t 1 Retinitis Pigmentosa 31 {'TOPORS'}\n",
      "96 ['LINC02198|IP_135866', 'SLC25A3P1|IP_670861']\n",
      "\t 2 Neuroendocrine Tumors {'ATRX', 'DAXX'}\n",
      "\t 1 Hecht syndrome (disorder) {'MYH8'}\n",
      "\t 1 Alpha-Thalassemia Myelodysplasia Syndrome {'ATRX'}\n",
      "\t 1 Juberg-Marsidi syndrome {'ATRX'}\n",
      "\t 1 Mental retardation Smith Fineman Myers type {'ATRX'}\n",
      "\t 1 Carney Complex Variant {'MYH8'}\n",
      "\t 1 ALPHA-THALASSEMIA/MENTAL RETARDATION SYNDROME, NONDELETION TYPE, X-LINKED {'ATRX'}\n",
      "\t 1 Cardiomyopathy, Dilated, 1AA {'ACTN2'}\n",
      "100 ['SETP21|IP_603079']\n",
      "\t 1 CILIARY DYSKINESIA, PRIMARY, 6 {'NME8'}\n",
      "\t 1 NEPHRONOPHTHISIS 18 {'CEP83'}\n",
      "\t 1 MENTAL RETARDATION, AUTOSOMAL DOMINANT 58 {'SET'}\n",
      "104 ['C17orf82|IP_258612']\n",
      "\t 1 DEAFNESS, AUTOSOMAL DOMINANT 6 {'WFS1'}\n",
      "\t 1 Congenital disorder of glycosylation type 1K {'ALG1'}\n",
      "\t 1 DEAFNESS, AUTOSOMAL RECESSIVE 76 {'SYNE4'}\n",
      "\t 1 NAIL DISORDER, NONSYNDROMIC CONGENITAL, 10 {'FZD6'}\n",
      "\t 1 Wolfram-Like Syndrome, Autosomal Dominant {'WFS1'}\n",
      "\t 1 CATARACT 41 {'WFS1'}\n",
      "\t 1 Wolfram-like syndrome {'WFS1'}\n",
      "\t 1 Wolfram Syndrome 1 {'WFS1'}\n",
      "\t 1 MICROCEPHALY 22, PRIMARY, AUTOSOMAL RECESSIVE {'NCAPD3'}\n",
      "107 ['AC004706.3|IP_250569']\n",
      "\t 1 Citrullinemia {'ASS1'}\n",
      "\t 1 Argininosuccinic Acid Synthetase Deficiency, Complete {'ASS1'}\n",
      "\t 1 Diarrhea 4, Malabsorptive, Congenital {'NEUROG3'}\n",
      "\t 1 Arterial Occlusive Disease, Progressive, with Hypertension, Heart Defects, Bone Fragility, and Brachysyndactyly {'YY1AP1'}\n",
      "\t 1 Citrullinemia Type 1 {'ASS1'}\n",
      "113 ['AL390728.1|IP_667404']\n",
      "\t 1 CONE-ROD DYSTROPHY AND HEARING LOSS {'CEP78'}\n",
      "117 ['HSP90AA4P|IP_610386']\n",
      "\t 1 CHOPS SYNDROME {'AFF4'}\n",
      "118 ['NPM1P19|IP_662403', 'NPM1P52|IP_570964']\n",
      "\t 1 Lymphomatoid Papulosis {'NPM1'}\n",
      "\t 1 Primary Cutaneous Anaplastic Large Cell Lymphoma {'NPM1'}\n",
      "128 ['ZMAT4|IP_3396701']\n",
      "\t 1 RETINITIS PIGMENTOSA 60 {'PRPF6'}\n",
      "142 ['AC114485.1|IP_670441']\n",
      "\t 1 Tay-Sachs Disease, Variant B1 {'HEXA'}\n",
      "\t 1 Spondyloepimetaphyseal dysplasia with multiple dislocations {'KIF22'}\n",
      "\t 1 Gm2-Gangliosidosis, Variant B1 {'HEXA'}\n",
      "\t 1 MENTAL RETARDATION, X-LINKED 90 (disorder) {'DLG3'}\n",
      "\t 1 FBXL4-related encephalomyopathic mitochondrial DNA depletion syndrome {'FBXL4'}\n",
      "\t 1 CEREBRORETINAL MICROANGIOPATHY WITH CALCIFICATIONS AND CYSTS 1 {'CTC1'}\n",
      "143 ['LINC01977|IP_708040']\n",
      "\t 1 PIGMENTARY DISORDER, RETICULATE, WITH SYSTEMIC MANIFESTATIONS {'POLA1'}\n",
      "\t 1 MEIER-GORLIN SYNDROME 3 {'ORC6'}\n",
      "144 ['SVOP|IP_214654']\n",
      "\t 1 Cerebral Thrombosis {'SERPINC1'}\n",
      "\t 1 Antithrombin III Deficiency {'SERPINC1'}\n",
      "\t 1 Hereditary Antithrombin Deficiency {'SERPINC1'}\n",
      "153 ['SLC38A10|IP_711679']\n",
      "\t 2 Multiple Sclerosis {'HLA-DRA', 'HLA-DRB1'}\n",
      "\t 1 Typhoid Fever {'HLA-DRB1'}\n",
      "\t 1 Eosinophilia-Myalgia Syndrome {'HLA-DRB1'}\n",
      "\t 1 CREST Syndrome {'HLA-DRB1'}\n",
      "\t 1 Orofaciodigital syndrome 4 {'TCTN3'}\n",
      "\t 1 Congenital disorder of glycosylation type 2A {'MGAT2'}\n",
      "\t 1 JOUBERT SYNDROME 18 {'TCTN3'}\n",
      "\t 1 ALACRIMA, ACHALASIA, AND MENTAL RETARDATION SYNDROME {'GMPPA'}\n",
      "163 ['DGKK|IP_299795']\n",
      "\t 1 LUSCAN-LUMISH SYNDROME {'SETD2'}\n",
      "165 ['ZNF408|IP_195271']\n",
      "\t 1 Arachnodactyly {'FBN1'}\n",
      "\t 2 Cutis Laxa {'LTBP4', 'FBLN5'}\n",
      "\t 1 Ectopia Lentis {'FBN1'}\n",
      "\t 1 Pathological accumulation of air in tissues {'FBLN5'}\n",
      "\t 1 Myofibromatosis {'NOTCH3'}\n",
      "\t 1 Cutis Laxa, Autosomal Recessive, Type I {'FBLN5'}\n",
      "\t 1 Lateral meningocele {'NOTCH3'}\n",
      "\t 1 Infantile myofibromatosis {'NOTCH3'}\n",
      "\t 1 CADASIL Syndrome {'NOTCH3'}\n",
      "\t 1 Shprintzen-Goldberg syndrome {'FBN1'}\n",
      "\t 1 Ectopia lentis isolated {'FBN1'}\n",
      "\t 1 LATERAL MENINGOCELE SYNDROME {'NOTCH3'}\n",
      "\t 1 OVERLAP CONNECTIVE TISSUE DISEASE {'FBN1'}\n",
      "\t 1 Stiff Skin Syndrome {'FBN1'}\n",
      "\t 1 MACROPHTHALMIA, COLOBOMATOUS, WITH MICROCORNEA {'CRIM1'}\n",
      "\t 1 Weill-Marchesani Syndrome, Autosomal Recessive {'FBN1'}\n",
      "\t 1 Weill-Marchesani Syndrome, Autosomal Dominant {'FBN1'}\n",
      "\t 1 Familial ectopia lentis {'FBN1'}\n",
      "\t 1 Cutis Laxa With Severe Pulmonary, Gastrointestinal, And Urinary Abnormalities {'LTBP4'}\n",
      "\t 1 Cutis laxa, recessive {'FBLN5'}\n",
      "\t 1 GELEOPHYSIC DYSPLASIA 2 {'FBN1'}\n",
      "\t 1 ECTOPIA LENTIS 1, ISOLATED, AUTOSOMAL DOMINANT {'FBN1'}\n",
      "\t 1 MYOFIBROMATOSIS, INFANTILE, 2 {'NOTCH3'}\n",
      "\t 1 Neonatal Marfan syndrome {'FBN1'}\n",
      "\t 1 RETINITIS PIGMENTOSA 72 {'ZNF408'}\n",
      "\t 1 EXUDATIVE VITREORETINOPATHY 6 {'ZNF408'}\n",
      "\t 1 NEUROPATHY, HEREDITARY, WITH OR WITHOUT AGE-RELATED MACULAR DEGENERATION {'FBLN5'}\n",
      "\t 1 MARFAN LIPODYSTROPHY SYNDROME {'FBN1'}\n",
      "\t 1 CEREBRAL ARTERIOPATHY, AUTOSOMAL DOMINANT, WITH SUBCORTICAL INFARCTS AND LEUKOENCEPHALOPATHY, TYPE 1 {'NOTCH3'}\n",
      "\t 1 Marfan Syndrome, Type I {'FBN1'}\n",
      "180 ['NPAS1|IP_276857']\n",
      "\t 1 Lassa Fever {'DAG1'}\n",
      "\t 1 MUSCULAR DYSTROPHY-DYSTROGLYCANOPATHY (LIMB-GIRDLE), TYPE C, 9 {'DAG1'}\n",
      "\t 1 MUSCULAR DYSTROPHY-DYSTROGLYCANOPATHY (CONGENITAL WITH BRAIN AND EYE ANOMALIES), TYPE A, 9 {'DAG1'}\n",
      "\t 1 EPILEPSY, FAMILIAL TEMPORAL LOBE, 8 {'GAL'}\n",
      "183 ['LOC105370890|IP_2288861']\n",
      "\t 2 Glycogen Storage Disease {'PHKG2', 'PHKA2'}\n",
      "\t 1 Glycogen Storage Disease IXB {'PHKB'}\n",
      "\t 1 Glycogen Storage Disease IXC {'PHKG2'}\n",
      "\t 1 GLYCOGEN STORAGE DISEASE IXa1 {'PHKA2'}\n",
      "\t 1 Optic atrophy, intellectual disability syndrome {'NR2F1'}\n",
      "186 ['HSP90AB6P|IP_755625']\n",
      "\t 2 Brain Neoplasms {'CDKN2A', 'CDK4'}\n",
      "\t 5 Malignant Neoplasms {'CDKN2C', 'CDKN2A', 'CCND2', 'CDK4', 'CDKN2B'}\n",
      "\t 2 Glaucoma {'CDKN2A', 'CDKN2B'}\n",
      "\t 3 Glioma {'CDKN2C', 'CDKN2A', 'CDKN2B'}\n",
      "\t 1 Vulvar Lichen Sclerosus {'CDKN2A'}\n",
      "\t 3 Lymphoma {'CDKN2A', 'CDK4', 'CDKN2B'}\n",
      "\t 2 Multiple Endocrine Neoplasia Type 1 {'CDKN2C', 'CDKN2B'}\n",
      "\t 2 Multiple Myeloma {'CDKN2C', 'CDKN2A'}\n",
      "\t 2 Cutaneous Melanoma {'CDKN2A', 'CDK4'}\n",
      "\t 2 Malignant neoplasm of brain {'CDKN2A', 'CDK4'}\n",
      "\t 1 Liposarcoma, Pleomorphic {'CDK4'}\n",
      "\t 1 Nerve Sheath Tumors {'CDKN2A'}\n",
      "\t 1 Hyperphosphatasemia with bone disease {'TNFRSF11B'}\n",
      "\t 2 Malignant Glioma {'CDKN2A', 'CDKN2B'}\n",
      "\t 1 Peripheral Nerve Sheath Neoplasm {'CDKN2A'}\n",
      "\t 2 Squamous cell carcinoma of the head and neck {'CDKN2A', 'CDK4'}\n",
      "\t 2 Hereditary Melanoma {'CDKN2A', 'CDK4'}\n",
      "\t 2 Neoplasms, Intracranial {'CDKN2A', 'CDK4'}\n",
      "\t 1 Melanoma astrocytoma syndrome {'CDKN2A'}\n",
      "\t 1 MELANOMA, CUTANEOUS MALIGNANT, SUSCEPTIBILITY TO, 2 {'CDKN2A'}\n",
      "\t 1 MELANOMA, CUTANEOUS MALIGNANT, SUSCEPTIBILITY TO, 3 {'CDK4'}\n",
      "\t 1 MELANOMA-PANCREATIC CANCER SYNDROME {'CDKN2A'}\n",
      "\t 1 Familial Atypical Mole Melanoma Syndrome {'CDKN2A'}\n",
      "\t 1 MEGALENCEPHALY-POLYMICROGYRIA-POLYDACTYLY-HYDROCEPHALUS SYNDROME 3 {'CCND2'}\n",
      "198 ['LOC105371768|IP_2278370', 'LOC105376850|IP_2393965']\n",
      "\t 1 Sudden Infant Death with Dysgenesis of the Testes Syndrome {'TSPYL1'}\n",
      "206 ['LOC105378807|IP_2391344']\n",
      "\t 1 DANDY-WALKER MALFORMATION WITH MENTAL RETARDATION, BASAL GANGLIA DISEASE, AND SEIZURES {'AP1S2'}\n",
      "\t 1 Fried syndrome {'AP1S2'}\n",
      "211 ['AC239600.2|IP_557390']\n",
      "\t 1 IMMUNODEFICIENCY 47 {'ATP6AP1'}\n",
      "\t 1 MITOCHONDRIAL COMPLEX I DEFICIENCY, NUCLEAR TYPE 22 {'NDUFA10'}\n",
      "226 ['AC008567.1|IP_689722']\n",
      "\t 1 Cerebral calcification {'FARSB'}\n",
      "\t 1 Bruck syndrome {'FKBP10'}\n",
      "\t 1 Bruck syndrome 1 {'FKBP10'}\n",
      "\t 1 EHLERS-DANLOS SYNDROME, MUSCULOCONTRACTURAL TYPE 1 {'CHST14'}\n",
      "\t 1 Brain calcification Rajab type {'FARSB'}\n",
      "\t 1 OSTEOGENESIS IMPERFECTA, TYPE XI {'FKBP10'}\n",
      "\t 1 IMMUNODEFICIENCY 8 {'CORO1A'}\n",
      "235 ['HECW2|IP_3435248']\n",
      "\t 1 Cerebral Cavernous Malformations 3 {'PDCD10'}\n",
      "\t 1 Familial cerebral cavernous malformation {'PDCD10'}\n",
      "236 ['MEF2C-AS1|IP_135974']\n",
      "\t 1 Mucolipidoses {'MCOLN1'}\n",
      "\t 1 Mucolipidosis Type IV {'MCOLN1'}\n",
      "237 ['LINC01123|IP_099004']\n",
      "\t 1 Wolfram Syndrome {'CISD2'}\n",
      "\t 1 WOLFRAM SYNDROME 2 {'CISD2'}\n",
      "\t 1 MENTAL RETARDATION, X-LINKED, SYNDROMIC, RAYMOND TYPE {'ZDHHC9'}\n",
      "\t 1 MICROCEPHALY, SHORT STATURE, AND IMPAIRED GLUCOSE METABOLISM 2 {'PPP1R15B'}\n",
      "255 ['UBBP4|IP_710742']\n",
      "\t 1 Primary lateral sclerosis juvenile {'ERLIN2'}\n",
      "\t 1 SPASTIC PARAPLEGIA 18, AUTOSOMAL RECESSIVE (disorder) {'ERLIN2'}\n",
      "\t 1 Spinocerebellar ataxia 36 {'NOP56'}\n",
      "300 ['EEA1|IP_765964']\n",
      "\t 1 Cytomegalovirus Infections {'VCP'}\n",
      "\t 1 Alveolar Soft Part Sarcoma {'ASPSCR1'}\n",
      "\t 1 AMYOTROPHIC LATERAL SCLEROSIS 14 WITH OR WITHOUT FRONTOTEMPORAL DEMENTIA {'VCP'}\n",
      "\t 1 CHARCOT-MARIE-TOOTH DISEASE, AXONAL, TYPE 2Y {'VCP'}\n",
      "\t 1 Inclusion Body Myopathy with Early-Onset Paget Disease with or without Frontotemporal Dementia 1 {'VCP'}\n",
      "304 ['ELP4|IP_194273']\n",
      "\t 1 Lissencephaly 3 {'TUBA1A'}\n",
      "310 ['TUBB4AP1|IP_557240', 'AC068896.1|IP_791587', 'TUBB3P1|IP_591777', 'TUBBP1|IP_572422']\n",
      "\t 1 Congenital Fibrosis of the Extraocular Muscles {'TUBB3'}\n",
      "\t 1 FIBROSIS OF EXTRAOCULAR MUSCLES, CONGENITAL, 3A, WITH OR WITHOUT EXTRAOCULAR INVOLVEMENT {'TUBB3'}\n",
      "\t 1 CORTICAL DYSPLASIA, COMPLEX, WITH OTHER BRAIN MALFORMATIONS 1 {'TUBB3'}\n",
      "329 ['FAM91A1|IP_166967']\n",
      "\t 1 Intrauterine Growth Retardation, Metaphyseal Dysplasia, Adrenal Hypoplasia Congenita, And Genital Anomalies {'POLE'}\n",
      "\t 1 COLORECTAL CANCER, SUSCEPTIBILITY TO, 12 {'POLE'}\n",
      "\t 1 FACIAL DYSMORPHISM, IMMUNODEFICIENCY, LIVEDO, AND SHORT STATURE {'POLE'}\n",
      "\t 1 CATARACT 33, MULTIPLE TYPES {'BFSP1'}\n",
      "336 ['SLC25A5P5|IP_581916']\n",
      "\t 1 Ceroid Lipofuscinosis, Neuronal, 7 {'MFSD8'}\n",
      "\t 1 MACULAR DYSTROPHY WITH CENTRAL CONE INVOLVEMENT {'MFSD8'}\n",
      "344 ['KCNC4|IP_068073']\n",
      "\t 1 Glycogen storage disease type II {'GAA'}\n",
      "\t 1 Generalized glycogen storage disease of infants {'GAA'}\n",
      "\t 1 Glycogen Storage Disease Type II, Infantile {'GAA'}\n",
      "\t 1 Glycogen storage disease due to acid maltase deficiency, infantile onset {'GAA'}\n",
      "368 ['AC010395.2|IP_602155']\n",
      "\t 1 Ter Haar syndrome {'SH3PXD2B'}\n",
      "\t 1 EPILEPTIC ENCEPHALOPATHY, EARLY INFANTILE, 18 {'SZT2'}\n",
      "\t 1 MENTAL RETARDATION, AUTOSOMAL RECESSIVE 41 {'KPTN'}\n",
      "373 ['CASR|IP_108384', 'CCT6P4|IP_620044']\n",
      "\t 1 Saldino-Noonan Syndrome {'WDR34'}\n",
      "\t 1 Short rib-polydactyly syndrome, Verma-Naumoff type {'WDR34'}\n",
      "\t 1 MICROCEPHALY, PRIMARY AUTOSOMAL RECESSIVE, 2 (disorder) {'WDR62'}\n",
      "\t 1 Microlissencephaly {'WDR62'}\n",
      "\t 1 SHORT-RIB THORACIC DYSPLASIA 11 WITH OR WITHOUT POLYDACTYLY {'WDR34'}\n",
      "386 ['SLC25A13|IP_154569']\n",
      "\t 1 Nevus comedonicus {'NEK9'}\n",
      "\t 1 ARTHROGRYPOSIS, PERTHES DISEASE, AND UPWARD GAZE PALSY {'NEK9'}\n",
      "\t 1 LETHAL CONGENITAL CONTRACTURE SYNDROME 10 {'NEK9'}\n",
      "394 ['F13B|IP_2396153', 'LOC105379404|IP_2362092']\n",
      "\t 1 Cerebellar atrophy {'PCYT2'}\n",
      "\t 1 LEPROSY, SUSCEPTIBILITY TO, 2 {'PRKN'}\n",
      "414 ['C11orf65|IP_2311662']\n",
      "\t 1 Arthralgia {'MVK'}\n",
      "\t 1 Exanthema {'MVK'}\n",
      "\t 1 Deficiency of mevalonate kinase {'MVK'}\n",
      "\t 1 Hyperimmunoglobulinemia D {'MVK'}\n",
      "\t 1 Porokeratosis of Mibelli {'MVK'}\n",
      "\t 1 POROKERATOSIS, DISSEMINATED SUPERFICIAL ACTINIC, 1 {'MVK'}\n",
      "\t 1 Mevalonic Aciduria {'MVK'}\n",
      "438 ['LOC107986087|IP_2370699']\n",
      "\t 1 Microvillus inclusion disease {'STX3'}\n",
      "\t 1 Primary lateral sclerosis juvenile {'ALS2'}\n",
      "\t 1 AMYOTROPHIC LATERAL SCLEROSIS 2, JUVENILE (disorder) {'ALS2'}\n",
      "\t 1 Hereditary spastic paralysis, infantile onset ascending {'ALS2'}\n",
      "\t 1 Juvenile amyotrophic lateral sclerosis {'ALS2'}\n",
      "456 ['RPSAP54|IP_755938', 'RPSAP2|IP_597202']\n",
      "\t 1 Aplasia Cutis Congenita {'BMS1'}\n",
      "\t 1 Splenic Hypoplasia {'RPSA'}\n",
      "463 ['HSPA8P20|IP_557223']\n",
      "\t 1 Infantile neuronal ceroid lipofuscinosis {'PPT1'}\n",
      "\t 1 Early myoclonic encephalopathy {'SLC25A22'}\n",
      "\t 1 CEROID LIPOFUSCINOSIS, NEURONAL, 1 {'PPT1'}\n",
      "\t 1 Ceroid lipofuscinosis, neuronal 1, infantile {'PPT1'}\n",
      "475 ['LDHBP2|IP_556449', 'LDHAP4|IP_564999']\n",
      "\t 1 Myoglobinuria {'LDHA'}\n",
      "\t 1 Lactate dehydrogenase deficiency type A {'LDHA'}\n",
      "\t 1 Lactate Dehydrogenase B Deficiency {'LDHB'}\n",
      "484 ['OR4M1|IP_3427612']\n",
      "\t 1 MENTAL RETARDATION, AUTOSOMAL RECESSIVE 58 {'ELP2'}\n",
      "485 ['PGAM1P8|IP_775497', 'PGAM1P4|IP_628102']\n",
      "\t 1 Glycogen storage disease type X {'PGAM2'}\n",
      "\t 1 Deficiency of bisphosphoglycerate mutase {'BPGM'}\n",
      "491 ['EXOSC1|IP_3400766']\n",
      "\t 1 Proline dehydrogenase deficiency {'PRODH'}\n",
      "\t 1 SCHIZOPHRENIA 4 (disorder) {'PRODH'}\n",
      "500 ['GLULP6|IP_635387', 'LOC107984234|IP_2316724']\n",
      "\t 1 Glutamine deficiency, congenital {'GLUL'}\n",
      "\t 1 POLYENDOCRINE-POLYNEUROPATHY SYNDROME {'DMXL2'}\n",
      "503 ['RIC1|IP_3398894']\n",
      "\t 1 MENTAL RETARDATION, AUTOSOMAL RECESSIVE 47 {'FMN2'}\n",
      "508 ['ANXA2P3|IP_789305', 'ANXA2P1|IP_3390265', 'SYNPR-AS1|IP_113964']\n",
      "\t 2 Leukemia, Myelocytic, Acute {'ANXA2', 'S100A10'}\n",
      "\t 1 Major depression, single episode {'S100A10'}\n",
      "512 ['XRCC6P1|IP_788703']\n",
      "\t 1 Werner Syndrome {'WRN'}\n",
      "\t 1 Premature aging syndrome {'WRN'}\n",
      "526 ['C17orf51|IP_710756']\n",
      "\t 1 Tauopathies {'CDK5'}\n",
      "\t 1 LISSENCEPHALY 7 WITH CEREBELLAR HYPOPLASIA {'CDK5'}\n",
      "531 ['TUBAP2|IP_774695']\n",
      "\t 1 Catalepsy {'TH'}\n",
      "\t 1 Dystonia, Diurnal {'TH'}\n",
      "\t 1 Dopa-Responsive Dystonia {'TH'}\n",
      "\t 1 DYSTONIA, DOPA-RESPONSIVE, WITH OR WITHOUT HYPERPHENYLALANINEMIA, AUTOSOMAL RECESSIVE (disorder) {'TH'}\n",
      "\t 1 Segawa syndrome {'TH'}\n",
      "533 ['CCDC69|IP_133080']\n",
      "\t 1 MICROCEPHALY, GROWTH RESTRICTION, AND INCREASED SISTER CHROMATID EXCHANGE 2 {'TOP3A'}\n",
      "\t 1 PROGRESSIVE EXTERNAL OPHTHALMOPLEGIA WITH MITOCHONDRIAL DNA DELETIONS, AUTOSOMAL RECESSIVE 5 {'TOP3A'}\n",
      "589 ['LRRC4C|IP_788569']\n",
      "\t 1 Skin Ulcer {'LAMA3'}\n",
      "\t 1 Epidermolysis Bullosa Progressiva {'LAMA3'}\n",
      "\t 1 Herlitz Disease {'LAMA3'}\n",
      "\t 1 Adult junctional epidermolysis bullosa (disorder) {'LAMA3'}\n",
      "\t 1 Laryngoonychocutaneous syndrome {'LAMA3'}\n",
      "\t 1 EPIDERMOLYSIS BULLOSA, JUNCTIONAL, LOCALISATA VARIANT (disorder) {'LAMA3'}\n",
      "\t 1 THYROID CANCER, NONMEDULLARY, 2 {'MINPP1'}\n",
      "598 ['LOC102725180|IP_3412977']\n",
      "\t 1 Osteoporosis, Senile {'LRP5'}\n",
      "\t 1 Retinopathy of Prematurity {'LRP5'}\n",
      "\t 1 Polycystic liver disease {'LRP5'}\n",
      "\t 1 Familial Exudative Vitreoretinopathy {'LRP5'}\n",
      "\t 1 Osteoporosis with pseudoglioma {'LRP5'}\n",
      "\t 1 Van Buchem disease {'LRP5'}\n",
      "\t 1 Worth disease {'LRP5'}\n",
      "\t 1 Arnold-Chiari Malformation, Type I {'DKK1'}\n",
      "\t 1 Van Buchem disease type 2 {'LRP5'}\n",
      "\t 1 OSTEOPETROSIS, AUTOSOMAL DOMINANT 1 {'LRP5'}\n",
      "\t 1 Exudative vitreoretinopathy 1 {'LRP5'}\n",
      "\t 1 BONE MINERAL DENSITY QUANTITATIVE TRAIT LOCUS 1 {'LRP5'}\n",
      "\t 1 EXUDATIVE VITREORETINOPATHY 4 (disorder) {'LRP5'}\n",
      "\t 1 POLYCYSTIC LIVER DISEASE 4 WITH OR WITHOUT KIDNEY CYSTS {'LRP5'}\n",
      "605 ['HSPA8P1|IP_557270']\n",
      "\t 1 CARDIOMYOPATHY, DILATED, 1N {'TCAP'}\n",
      "\t 1 Muscular Dystrophy, Limb-Girdle, Type 2G {'TCAP'}\n",
      "\t 1 CARDIOMYOPATHY, FAMILIAL HYPERTROPHIC, 25 {'TCAP'}\n",
      "617 ['FIP1L1|IP_118035']\n",
      "\t 3 Maple Syrup Urine Disease {'PPM1K', 'DBT', 'BCKDHB'}\n",
      "\t 1 Maple Syrup Urine Disease, Thiamine Responsive {'DBT'}\n",
      "\t 1 Intermediate Maple Syrup Urine Disease {'PPM1K'}\n",
      "\t 1 MAPLE SYRUP URINE DISEASE, TYPE II {'DBT'}\n",
      "\t 1 Maple syrup urine disease, type 1B {'BCKDHB'}\n",
      "620 ['RPL18P13|IP_723386']\n",
      "\t 1 Anemia, Diamond-Blackfan, 3 {'RPS24'}\n",
      "623 ['LOC107985687|IP_2260355']\n",
      "\t 1 Juvenile-Onset Still Disease {'CLU'}\n",
      "\t 1 Mental deterioration {'CLU'}\n",
      "\t 1 Impaired cognition {'CLU'}\n",
      "\t 1 Mild cognitive disorder {'CLU'}\n",
      "\t 1 Amyotrophic Lateral Sclerosis, Sporadic {'CLU'}\n",
      "643 ['AL354702.1|IP_672618']\n",
      "\t 1 Protein S Deficiency {'PROS1'}\n",
      "\t 1 Activated Protein C Resistance {'PROS1'}\n",
      "\t 1 THROMBOPHILIA DUE TO PROTEIN S DEFICIENCY, AUTOSOMAL DOMINANT {'PROS1'}\n"
     ]
    },
    {
     "name": "stdout",
     "output_type": "stream",
     "text": [
      "\t 1 THROMBOPHILIA DUE TO PROTEIN S DEFICIENCY, AUTOSOMAL RECESSIVE {'PROS1'}\n",
      "649 ['GATB|IP_618814']\n",
      "\t 1 Mitochondrial cardiomyopathy {'QRSL1'}\n",
      "653 ['TUBB8P5|IP_762158']\n",
      "\t 1 Growth retardation, Alopecia, Pseudoanodontia and Optic atrophy {'ANTXR1'}\n",
      "\t 1 Cortisone reductase deficiency {'H6PD'}\n",
      "\t 1 HEMANGIOMA, CAPILLARY INFANTILE {'ANTXR1'}\n",
      "\t 1 CORTISONE REDUCTASE DEFICIENCY 1 {'H6PD'}\n",
      "663 ['GLB1|IP_101889']\n",
      "\t 1 Mucopolysaccharidosis IV {'GLB1'}\n",
      "\t 1 Gangliosidosis GM1 {'GLB1'}\n",
      "\t 1 Mucopolysaccharidosis, MPS-IV-A {'GLB1'}\n",
      "\t 1 Mucopolysaccharidosis type IVB {'GLB1'}\n",
      "\t 1 GALACTOSIALIDOSIS {'CTSA'}\n",
      "\t 1 Gangliosidosis, Generalized GM1, Type 1 (disorder) {'GLB1'}\n",
      "\t 1 Gangliosidosis, Generalized GM1, Type 2 {'GLB1'}\n",
      "\t 1 Gangliosidosis, Generalized GM1, Type 3 {'GLB1'}\n",
      "\t 1 beta-Galactosidase Deficiency {'GLB1'}\n",
      "\t 1 Familial hypertryptophanemia {'TDO2'}\n",
      "\t 1 GALNS Deficiency {'GLB1'}\n",
      "682 ['ITGB8|IP_150650']\n",
      "\t 1 Long chain acyl-CoA dehydrogenase deficiency {'ACADL'}\n",
      "\t 1 MYASTHENIC SYNDROME, CONGENITAL, 7, PRESYNAPTIC {'SYT2'}\n",
      "695 ['LOC107986982|IP_2333422']\n",
      "\t 1 Corticosteroid-Binding Globulin Deficiency {'SERPINA6'}\n",
      "703 ['PTPN20|IP_2320285']\n",
      "\t 1 Deafness, Autosomal Recessive 79 {'TPRN'}\n",
      "\t 1 DEAFNESS, AUTOSOMAL RECESSIVE 103 {'CLIC5'}\n",
      "732 ['RSPO3|IP_145259', 'LOC105371269|IP_2285029', 'ZNF84|IP_767719']\n",
      "\t 1 Meckel-Gruber syndrome {'CSPP1'}\n",
      "\t 1 JOUBERT SYNDROME 21 {'CSPP1'}\n",
      "733 ['AKR7A2P1|IP_3381524']\n",
      "\t 1 Spondyloepimetaphyseal Dysplasia, Shohat Type {'DDRGK1'}\n",
      "740 ['CDRT1|IP_251871']\n",
      "\t 1 Hidradenitis Suppurativa {'NCSTN'}\n",
      "\t 1 Hidradenitis suppurativa, familial {'NCSTN'}\n",
      "\t 1 ACNE INVERSA, FAMILIAL, 1 {'NCSTN'}\n",
      "746 ['RPL23AP32|IP_639798']\n",
      "\t 1 Chronic schizophrenia {'ASAH1'}\n",
      "\t 1 Farber Lipogranulomatosis {'ASAH1'}\n",
      "\t 1 Jankovic Rivera syndrome {'ASAH1'}\n",
      "757 ['AC093157.1|IP_081175']\n",
      "\t 1 PLATELET ABNORMALITIES WITH EOSINOPHILIA AND IMMUNE-MEDIATED INFLAMMATORY DISEASE {'ARPC1B'}\n",
      "820 ['LOC729291|IP_762400']\n",
      "\t 1 FANCONI ANEMIA, COMPLEMENTATION GROUP V {'MAD2L2'}\n",
      "859 ['SUZ12|IP_717395']\n",
      "\t 1 Hepatitis, Chronic {'STAT3'}\n",
      "\t 1 Leukemia, T-Cell {'STAT3'}\n",
      "\t 1 T-Cell Lymphoma {'STAT3'}\n",
      "\t 1 Carcinomatosis {'STAT3'}\n",
      "\t 1 Ki-1+ Anaplastic Large Cell Lymphoma {'STAT3'}\n",
      "\t 1 Chronic Lymphoproliferative Disorder of NK-Cells {'STAT3'}\n",
      "\t 1 T-Cell Large Granular Lymphocyte Leukemia {'STAT3'}\n",
      "\t 1 Hyper-Immunoglobulin E Syndrome, Autosomal Recessive {'STAT3'}\n",
      "\t 1 Hyper-Immunoglobulin E Syndrome, Autosomal Dominant {'STAT3'}\n",
      "\t 1 Hyper-Ige Recurrent Infection Syndrome, Autosomal Dominant {'STAT3'}\n",
      "\t 1 Job Syndrome {'STAT3'}\n",
      "\t 1 AUTOIMMUNE DISEASE, MULTISYSTEM, INFANTILE-ONSET, 1 {'STAT3'}\n",
      "\t 1 Usual Interstitial Pneumonia {'STAT3'}\n",
      "\t 1 HYPER-IgE RECURRENT INFECTION SYNDROME 1, AUTOSOMAL DOMINANT {'STAT3'}\n",
      "863 ['TAP2|IP_139467', 'AL954650.1|IP_667737']\n",
      "\t 1 Bare Lymphocyte Syndrome, Type I {'TAP2'}\n",
      "897 ['BMP1|IP_162095']\n",
      "\t 1 OSTEOGENESIS IMPERFECTA, TYPE XIII {'BMP1'}\n",
      "917 ['FAT2|IP_133161']\n",
      "\t 1 BRANCHED-CHAIN KETO ACID DEHYDROGENASE KINASE DEFICIENCY {'BCKDK'}\n",
      "924 ['AP001318.1|IP_773722']\n",
      "\t 1 Patent ductus arteriosus {'PRDM6'}\n",
      "\t 1 PATENT DUCTUS ARTERIOSUS 3 {'PRDM6'}\n",
      "936 ['COL7A1|IP_104022']\n",
      "\t 1 Purine-nucleoside phosphorylase deficiency {'PNP'}\n",
      "943 ['AL121916.1|IP_665467']\n",
      "\t 1 Sideroblastic anemia {'GLRX5'}\n",
      "\t 1 Hyperoxaluria {'HOGA1'}\n",
      "\t 1 Primary Hyperoxaluria {'HOGA1'}\n",
      "\t 1 Anemia, Sideroblastic, Pyridoxine-Refractory, Autosomal Recessive {'GLRX5'}\n",
      "\t 1 Primary hyperoxaluria type III {'HOGA1'}\n",
      "\t 1 ANEMIA, SIDEROBLASTIC, 3, PYRIDOXINE-REFRACTORY {'GLRX5'}\n",
      "\t 1 Childhood-onset spasticity with hyperglycinemia {'GLRX5'}\n",
      "963 ['SMPX|IP_562397']\n",
      "\t 1 Basal Cell Nevus Syndrome {'SUFU'}\n",
      "\t 1 Desmoplastic Medulloblastoma {'SUFU'}\n",
      "\t 1 Medulloblastoma with extensive nodularity {'SUFU'}\n",
      "\t 1 JOUBERT SYNDROME 32 {'SUFU'}\n",
      "971 ['ENO1P1|IP_079312']\n",
      "\t 1 Anophthalmos {'SOX2'}\n",
      "\t 1 Septo-Optic Dysplasia {'SOX2'}\n",
      "\t 1 Brain Tumor, Primary {'SOX2'}\n",
      "\t 1 Microphthalmia, Syndromic 3 {'SOX2'}\n",
      "1020 ['PSAT1P1|IP_571913', 'PSAT1P3|IP_671420']\n",
      "\t 1 Neu-Laxova syndrome {'PSAT1'}\n",
      "\t 1 Phosphoserine Aminotransferase Deficiency {'PSAT1'}\n",
      "\t 1 NEU-LAXOVA SYNDROME 2 {'PSAT1'}\n",
      "1023 ['ARF3|IP_209309', 'RPL14|IP_630937']\n",
      "\t 1 Depression in children {'TPPP'}\n",
      "1024 ['FADD|IP_198808']\n",
      "\t 1 INFECTIONS, RECURRENT, WITH ENCEPHALOPATHY, HEPATIC DYSFUNCTION, AND CARDIOVASCULAR MALFORMATIONS {'FADD'}\n",
      "1051 ['KCNQ1OT1|IP_204360']\n",
      "\t 1 Hemorrhage {'CYP2C9'}\n",
      "\t 1 Coumarin Resistance {'CYP2C9'}\n",
      "\t 1 Neoplasms, Intracranial {'CYP2C9'}\n",
      "\t 1 WARFARIN SENSITIVITY (disorder) {'CYP2C9'}\n"
     ]
    }
   ],
   "source": [
    "for clust_n, clust in clusters_dict.items():\n",
    "    if not clust['contains_alt']: continue\n",
    "    if not 'diseases' in clust: continue\n",
    "    print(clust_n, clust['alts'])\n",
    "    for disease, genes in clust['disease_gene_counts'].items():\n",
    "        print('\\t', len(genes), diseaseid_diseasename[disease], genes)\n",
    "    "
   ]
  },
  {
   "cell_type": "code",
   "execution_count": 55,
   "metadata": {
    "ExecuteTime": {
     "end_time": "2021-06-11T18:24:27.616847Z",
     "start_time": "2021-06-11T18:24:27.611099Z"
    }
   },
   "outputs": [],
   "source": [
    "plt.rcParams['svg.fonttype'] = 'none'"
   ]
  },
  {
   "cell_type": "code",
   "execution_count": 56,
   "metadata": {
    "ExecuteTime": {
     "end_time": "2021-06-11T18:24:28.959499Z",
     "start_time": "2021-06-11T18:24:28.464194Z"
    }
   },
   "outputs": [
    {
     "data": {
      "image/png": "[encoded data removed]",
      "text/plain": [
       "<Figure size 360x360 with 1 Axes>"
      ]
     },
     "metadata": {},
     "output_type": "display_data"
    }
   ],
   "source": [
    "node_size = 600\n",
    "margin = 0.1\n",
    "clust_n = 43\n",
    "G_neig = clusters_dict[clust_n]['graph']\n",
    "nx.set_node_attributes(G_neig, tt_type_node_attrs(G_neig, HCIP_baits))\n",
    "file_name, legend = get_graph_vis(\n",
    "                G_neig, '{}'.format(clust_n), figsize=(5,5),\n",
    "                node_size=node_size,\n",
    "                alt_node_size=node_size,\n",
    "                layout_params={'k':0.1, 'iterations':50},\n",
    "                file_name='cluster#{}.svg'.format(clust_n),\n",
    "                file_path='bioplex_figures/subnets/',\n",
    "                draw_labels=True,\n",
    "                margin=margin,\n",
    "        )"
   ]
  },
  {
   "cell_type": "code",
   "execution_count": 58,
   "metadata": {
    "ExecuteTime": {
     "end_time": "2021-06-11T18:24:41.974587Z",
     "start_time": "2021-06-11T18:24:41.495330Z"
    }
   },
   "outputs": [
    {
     "data": {
      "image/png": "[encoded data removed]",
      "text/plain": [
       "<Figure size 360x360 with 1 Axes>"
      ]
     },
     "metadata": {},
     "output_type": "display_data"
    }
   ],
   "source": [
    "node_size = 600\n",
    "margin = 0.1\n",
    "clust_n = 50\n",
    "G_neig = clusters_dict[clust_n]['graph']\n",
    "nx.set_node_attributes(G_neig, tt_type_node_attrs(G_neig, HCIP_baits))\n",
    "file_name, legend = get_graph_vis(\n",
    "                G_neig, '{}'.format(clust_n), figsize=(5,5),\n",
    "                node_size=node_size,\n",
    "                alt_node_size=node_size,\n",
    "                layout_params={'k':0.1, 'iterations':50},\n",
    "                file_name='cluster#{}.svg'.format(clust_n),\n",
    "                file_path='bioplex_figures/subnets/',\n",
    "                draw_labels=True,\n",
    "                margin=margin,\n",
    "        )"
   ]
  },
  {
   "cell_type": "code",
   "execution_count": 59,
   "metadata": {
    "ExecuteTime": {
     "end_time": "2021-06-11T18:25:00.408145Z",
     "start_time": "2021-06-11T18:24:59.959974Z"
    }
   },
   "outputs": [
    {
     "data": {
      "image/png": "[encoded data removed]",
      "text/plain": [
       "<Figure size 360x360 with 1 Axes>"
      ]
     },
     "metadata": {},
     "output_type": "display_data"
    }
   ],
   "source": [
    "node_size = 600\n",
    "margin = 0.1\n",
    "clust_n = 78\n",
    "G_neig = clusters_dict[clust_n]['graph']\n",
    "nx.set_node_attributes(G_neig, tt_type_node_attrs(G_neig, HCIP_baits))\n",
    "file_name, legend = get_graph_vis(\n",
    "                G_neig, '{}'.format(clust_n), figsize=(5,5),\n",
    "                node_size=node_size,\n",
    "                alt_node_size=node_size,\n",
    "                layout_params={'k':0.1, 'iterations':50},\n",
    "                file_name='cluster#{}.svg'.format(clust_n),\n",
    "                file_path='bioplex_figures/subnets/',\n",
    "                draw_labels=True,\n",
    "                margin=margin,\n",
    "        )"
   ]
  }
 ],
 "metadata": {
  "kernelspec": {
   "display_name": "Python 3",
   "language": "python",
   "name": "python3"
  },
  "language_info": {
   "codemirror_mode": {
    "name": "ipython",
    "version": 3
   },
   "file_extension": ".py",
   "mimetype": "text/x-python",
   "name": "python",
   "nbconvert_exporter": "python",
   "pygments_lexer": "ipython3",
   "version": "3.7.3"
  }
 },
 "nbformat": 4,
 "nbformat_minor": 4
}
