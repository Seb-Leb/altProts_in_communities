{
 "cells": [
  {
   "cell_type": "code",
   "execution_count": 2,
   "metadata": {
    "ExecuteTime": {
     "end_time": "2021-06-15T12:33:17.829590Z",
     "start_time": "2021-06-15T12:33:17.825263Z"
    }
   },
   "outputs": [],
   "source": [
    "# survey of identified altProts"
   ]
  },
  {
   "cell_type": "code",
   "execution_count": 54,
   "metadata": {
    "ExecuteTime": {
     "end_time": "2021-06-29T17:51:22.353109Z",
     "start_time": "2021-06-29T17:51:22.348916Z"
    }
   },
   "outputs": [],
   "source": [
    "import pickle\n",
    "import numpy as np\n",
    "from collections import Counter\n",
    "from matplotlib import pyplot as plt\n",
    "from gtfparse import read_gtf\n",
    "from altProts_in_communities.utils import *"
   ]
  },
  {
   "cell_type": "code",
   "execution_count": 55,
   "metadata": {
    "ExecuteTime": {
     "end_time": "2021-06-29T17:54:45.220895Z",
     "start_time": "2021-06-29T17:51:22.355282Z"
    }
   },
   "outputs": [],
   "source": [
    "bioplex_psms = pickle.load(open('OP16_bioplex_all_psms.pkl', 'rb'))"
   ]
  },
  {
   "cell_type": "code",
   "execution_count": 56,
   "metadata": {
    "ExecuteTime": {
     "end_time": "2021-06-29T17:54:45.335420Z",
     "start_time": "2021-06-29T17:54:45.255431Z"
    }
   },
   "outputs": [
    {
     "data": {
      "text/plain": [
       "278"
      ]
     },
     "execution_count": 56,
     "metadata": {},
     "output_type": "execute_result"
    }
   ],
   "source": [
    "detection_summary = pickle.load(open('detection_summary.pkl', 'rb'))\n",
    "detected_alts = set([x[0] for x in detection_summary if x[-1]])\n",
    "len(detected_alts)"
   ]
  },
  {
   "cell_type": "code",
   "execution_count": 57,
   "metadata": {
    "ExecuteTime": {
     "end_time": "2021-06-29T17:54:45.428863Z",
     "start_time": "2021-06-29T17:54:45.338236Z"
    }
   },
   "outputs": [],
   "source": [
    "pickle.dump(detected_alts, open('detected_alts.pkl', 'wb'))"
   ]
  },
  {
   "cell_type": "code",
   "execution_count": 58,
   "metadata": {
    "ExecuteTime": {
     "end_time": "2021-06-29T17:54:48.335028Z",
     "start_time": "2021-06-29T17:54:45.431928Z"
    }
   },
   "outputs": [
    {
     "name": "stdout",
     "output_type": "stream",
     "text": [
      "OP_unfiltered_edges: 1072268\n",
      "altProts:  426\n"
     ]
    }
   ],
   "source": [
    "OP_unfiltered_edges = set()\n",
    "altProts = set()\n",
    "for bait, exps in bioplex_psms.items():\n",
    "    for exp_id, exp in exps['exps'].items():\n",
    "        for prey, psms in exp['psms'].items():\n",
    "            OP_unfiltered_edges.add(frozenset((bait, prey)))\n",
    "            if is_alt(prey):\n",
    "                altProts.add(prey)\n",
    "print('OP_unfiltered_edges:', len(OP_unfiltered_edges))\n",
    "print('altProts: ', len(altProts))"
   ]
  },
  {
   "cell_type": "code",
   "execution_count": 59,
   "metadata": {
    "ExecuteTime": {
     "end_time": "2021-06-29T17:54:52.986187Z",
     "start_time": "2021-06-29T17:54:48.337291Z"
    }
   },
   "outputs": [
    {
     "name": "stdout",
     "output_type": "stream",
     "text": [
      "alt med len: \t 77.0\n",
      " alt mean len: \t 108.66187050359713\n",
      " ref med len: \t 472.0\n",
      " ref mean len: \t 624.7265060240964\n",
      "\n"
     ]
    },
    {
     "name": "stderr",
     "output_type": "stream",
     "text": [
      "/home/sleblanc/anaconda3/lib/python3.7/site-packages/numpy/core/_asarray.py:83: VisibleDeprecationWarning: Creating an ndarray from ragged nested sequences (which is a list-or-tuple of lists-or-tuples-or ndarrays with different lengths or shapes) is deprecated. If you meant to do this, you must specify 'dtype=object' when creating the ndarray\n",
      "  return array(a, dtype, copy=False, order=order)\n"
     ]
    },
    {
     "data": {
      "image/png": "[encoded data removed]",
      "text/plain": [
       "<Figure size 432x288 with 1 Axes>"
      ]
     },
     "metadata": {
      "needs_background": "light"
     },
     "output_type": "display_data"
    },
    {
     "name": "stderr",
     "output_type": "stream",
     "text": [
      "/home/sleblanc/anaconda3/lib/python3.7/site-packages/numpy/core/_asarray.py:83: VisibleDeprecationWarning: Creating an ndarray from ragged nested sequences (which is a list-or-tuple of lists-or-tuples-or ndarrays with different lengths or shapes) is deprecated. If you meant to do this, you must specify 'dtype=object' when creating the ndarray\n",
      "  return array(a, dtype, copy=False, order=order)\n"
     ]
    },
    {
     "data": {
      "image/png": "[encoded data removed]",
      "text/plain": [
       "<Figure size 432x288 with 1 Axes>"
      ]
     },
     "metadata": {
      "needs_background": "light"
     },
     "output_type": "display_data"
    }
   ],
   "source": [
    "# distribution of protein lengths\n",
    "all_refs = set([x for y in list(OP_unfiltered_edges) for x in y if not is_alt(x)])\n",
    "alt_prot_lens = [protgene_len_dict[alt_acc] for alt_acc in list(detected_alts)]\n",
    "ref_prot_lens = [protgene_len_dict[x] for x in list(all_refs) if x in protgene_len_dict]\n",
    "missing_gene_protlen = [x for x in list(all_refs) if x not in protgene_len_dict]\n",
    "\n",
    "print(\n",
    "    'alt med len: \\t {}\\n'.format(np.median(alt_prot_lens)),\n",
    "    'alt mean len: \\t {}\\n'.format(np.mean(alt_prot_lens)),\n",
    "    'ref med len: \\t {}\\n'.format(np.median(ref_prot_lens)),\n",
    "    'ref mean len: \\t {}\\n'.format(np.mean(ref_prot_lens)),\n",
    "     )\n",
    "\n",
    "plt.boxplot((np.log10(np.array(ref_prot_lens)), np.log10(np.array(alt_prot_lens))))\n",
    "plt.savefig('bioplex_figures/prot_len_boxplot.svg')\n",
    "plt.show()\n",
    "\n",
    "plt.boxplot((np.array(ref_prot_lens), np.array(alt_prot_lens)))\n",
    "plt.yscale('log')\n",
    "plt.savefig('bioplex_figures/prot_len_boxplot_log.svg')"
   ]
  },
  {
   "cell_type": "code",
   "execution_count": 60,
   "metadata": {
    "ExecuteTime": {
     "end_time": "2021-06-29T17:55:24.301412Z",
     "start_time": "2021-06-29T17:54:52.988499Z"
    }
   },
   "outputs": [
    {
     "data": {
      "image/png": "[encoded data removed]",
      "text/plain": [
       "<Figure size 432x288 with 1 Axes>"
      ]
     },
     "metadata": {
      "needs_background": "light"
     },
     "output_type": "display_data"
    }
   ],
   "source": [
    "# conservation\n",
    "ortho_species  = []\n",
    "processed_alts = set()\n",
    "with open('human-openprot-r1_6-refprots+altprots+isoforms-+uniprot2019_03_01.tsv', 'r') as f:\n",
    "    reader = csv.reader(f, delimiter='\\t')\n",
    "    for n,row in enumerate(reader):\n",
    "        if n==0:continue\n",
    "        if n==1:\n",
    "            tsv_row = row\n",
    "            continue\n",
    "        line=dict(zip(tsv_row, row))\n",
    "        if not is_alt(line['protein accession numbers']): continue\n",
    "        if line['protein accession numbers'] in detected_alts and line['protein accession numbers'] not in processed_alts:\n",
    "            processed_alts.add(line['protein accession numbers'])\n",
    "            if int(line['Orthology Across 10 Species # : Species Names'].split(':')[0])>0:\n",
    "                species = line['Orthology Across 10 Species # : Species Names'].split(':')[1].split(',')\n",
    "                for s in species:\n",
    "                    ortho_species.append(s)\n",
    "\n",
    "lab, cnt = zip(*sorted(Counter(ortho_species).items(), key=lambda x: x[1]))\n",
    "species = ['{}. {}'.format(sp.split()[0][0], ' '.join(sp.split()[1:])) for sp in lab]\n",
    "\n",
    "plt.barh(species, cnt, color='#AE8395')\n",
    "plt.xlabel('count altORFs')\n",
    "plt.xticks([0, 50, 100, 150])\n",
    "plt.savefig('bioplex_figures/ortho_bars.svg')\n",
    "plt.show()"
   ]
  },
  {
   "cell_type": "code",
   "execution_count": 61,
   "metadata": {
    "ExecuteTime": {
     "end_time": "2021-06-29T17:56:02.987352Z",
     "start_time": "2021-06-29T17:55:24.305433Z"
    }
   },
   "outputs": [],
   "source": [
    "# load trxp gene and biotype dictionaries\n",
    "trxp_biotypes = pickle.load(open('trxp_biotypes.pkl', 'rb'))\n",
    "refseq_trxp_gene, refseq_pseudo_set = pickle.load(open('refseq_trxp_gene.pkl', 'rb'))\n",
    "gene_biotypes = pickle.load(open('gene_biotypes.pkl', 'rb'))\n",
    "interpro = pickle.load(open('interpro.pkl', 'rb'))\n",
    "coding_gene_alt_locs = pickle.load(open('coding_gene_alt_locs.pkl', 'rb'))\n",
    "reports_all_alts = pickle.load(open('reports_all_alts.pkl', 'rb'))\n",
    "prot_trxp_dict = pickle.load(open('prot_trxp_dict.pkl', 'rb'))\n",
    "trxp_genes = pickle.load(open('trxp_genes.pkl', 'rb'))\n",
    "alt_trxp_locs = pickle.load(open('alt_trxp_locs.pkl', 'rb')) # start-stop coord\n",
    "trxp_len_dict = pickle.load(open('trxp_len_dict.pkl', 'rb'))"
   ]
  },
  {
   "cell_type": "code",
   "execution_count": 62,
   "metadata": {
    "ExecuteTime": {
     "end_time": "2021-06-29T17:56:30.950798Z",
     "start_time": "2021-06-29T17:56:02.992881Z"
    },
    "code_folding": [
     1
    ]
   },
   "outputs": [],
   "source": [
    "trxp_alt_loc = dict()\n",
    "with open('human-openprot-r1_6-refprots+altprots+isoforms-+uniprot2019_03_01.tsv', 'r') as f:\n",
    "    reader = csv.reader(f, delimiter='\\t')\n",
    "    for n, row in enumerate(reader):\n",
    "        if n==0: continue\n",
    "        if n==1:\n",
    "            cols = row\n",
    "            continue\n",
    "        line = dict(zip(cols, row))\n",
    "        if line['protein type'] == 'AltProt':\n",
    "            trxp_acc = line['transcript accession'].split('.')[0]\n",
    "            trxp_alt_loc[(line['protein accession numbers'], trxp_acc)] = line['localization']"
   ]
  },
  {
   "cell_type": "code",
   "execution_count": 63,
   "metadata": {
    "ExecuteTime": {
     "end_time": "2021-06-29T17:56:30.984825Z",
     "start_time": "2021-06-29T17:56:30.953886Z"
    }
   },
   "outputs": [
    {
     "name": "stdout",
     "output_type": "stream",
     "text": [
      "'LOC107986577':'ncRNA'\n",
      "'LOC729291':'ncRNA'\n",
      "'LOC105371269':'ncRNA'\n",
      "'LOC105378533':'ncRNA'\n",
      "'LOC105376850':'ncRNA'\n",
      "'LOC643387':'ncRNA'\n",
      "'LOC107985687':'ncRNA'\n",
      "'LOC101927245':'ncRNA'\n",
      "'LOC105371768':'ncRNA'\n",
      "'LOC105372310':'ncRNA'\n",
      "'LOC105372558':'ncRNA'\n",
      "'LOC105379404':'ncRNA'\n",
      "'LOC105378773':'ncRNA'\n",
      "'LOC105376156':'ncRNA'\n"
     ]
    }
   ],
   "source": [
    "alt_gene_biotypes = []\n",
    "for alt in list(detected_alts):\n",
    "    gene = prot_gene_dict[alt]\n",
    "    gene_biotype, short_biotype  = 'NA', 'NA'\n",
    "    if gene in gene_biotypes:\n",
    "        gene_biotype = gene_biotypes[gene]\n",
    "    if 'pseudogene' in gene_biotype:\n",
    "        short_biotype = 'pseudogene'\n",
    "    elif gene_biotype == 'protein_coding':\n",
    "        short_biotype = 'protein_coding'\n",
    "    else:\n",
    "        short_biotype = 'non_coding'\n",
    "    alt_sig_id, alt_sig_desc, alt_inter_ids = ['NA']*3\n",
    "    if alt in interpro:\n",
    "        alt_sig_id = '|'.join(list(set([str(x) for x in interpro[alt]['sig_accs']])))\n",
    "        alt_sig_desc = '|'.join(list(set([str(x) for x in interpro[alt]['sig_desc']])))\n",
    "        alt_inter_ids = '|'.join(list(set([str(x) for x in interpro[alt]['ipr_ids']])))\n",
    "    prot_len = protgene_len_dict[alt]\n",
    "    gene_type = 'protein coding'\n",
    "    if alt in coding_gene_alt_locs:\n",
    "        if 'CDS' in coding_gene_alt_locs[alt]:\n",
    "            gene_type = 'dual coding'\n",
    "        elif 'UTR' in coding_gene_alt_locs[alt]:\n",
    "            gene_type = 'bicistronic'\n",
    "        else:\n",
    "            gene_type = 'protein coding'\n",
    "    else:\n",
    "        gene_type = 'protein coding'\n",
    "        \n",
    "    peptides = list(set([x[0] for x in reports_all_alts[alt.replace('IP_243680', 'IP_2287811')]['psms']]))\n",
    "    \n",
    "    alt_gene_biotype = (alt, gene, gene_biotype, short_biotype, gene_type, prot_len, len(peptides), '|'.join(peptides), alt_sig_desc, alt_inter_ids, alt_sig_id)\n",
    "    if any(x=='NA' for x in [gene_biotype, short_biotype]):\n",
    "        print(\"'{}':'ncRNA'\".format(alt_gene_biotype[1]))\n",
    "    alt_gene_biotypes.append(alt_gene_biotype)"
   ]
  },
  {
   "cell_type": "code",
   "execution_count": 64,
   "metadata": {
    "ExecuteTime": {
     "end_time": "2021-06-29T17:56:30.998329Z",
     "start_time": "2021-06-29T17:56:30.986914Z"
    },
    "code_folding": [
     0
    ]
   },
   "outputs": [],
   "source": [
    "alt_gene_biotypes_cols = (\n",
    "    'altProt accession', \n",
    "    'gene', \n",
    "    'gene biotype', \n",
    "    'gene biotype summarized', \n",
    "    'gene coding type', \n",
    "    'length (aa)', \n",
    "    'n unique peptides', \n",
    "    'peptides', \n",
    "    'interpro signature description', \n",
    "    'interpro signature accession', \n",
    "    'interpro signature ids'\n",
    ")\n",
    "alt_gene_biotypes_dict = {}\n",
    "for alt_gene_biotype in alt_gene_biotypes:\n",
    "    alt_gene_biotype_dict = dict(zip(alt_gene_biotypes_cols, alt_gene_biotype))\n",
    "    alt_gene_biotypes_dict[alt_gene_biotype_dict['altProt accession']] = alt_gene_biotype_dict"
   ]
  },
  {
   "cell_type": "code",
   "execution_count": 65,
   "metadata": {
    "ExecuteTime": {
     "end_time": "2021-06-29T17:56:31.025870Z",
     "start_time": "2021-06-29T17:56:31.000660Z"
    },
    "code_folding": [
     1
    ]
   },
   "outputs": [],
   "source": [
    "selected_trxps = {}\n",
    "for alt_acc in list(detected_alts):\n",
    "    if alt_acc == 'IP_2287811':\n",
    "        alt_acc = 'IP_243680'\n",
    "    trxps = []\n",
    "    for t_acc in prot_trxp_dict[alt_acc]:\n",
    "        if t_acc in trxp_biotypes and trxp_biotypes[t_acc]=='protein_coding':\n",
    "            t_biotype = 1\n",
    "        elif any(x in t_acc for x in ['NM_', 'XM_']):\n",
    "            t_biotype = 1\n",
    "        else:\n",
    "            t_biotype = 0\n",
    "        trxps.append(\n",
    "            {\n",
    "                't_acc':t_acc,\n",
    "                't_gene':trxp_genes[t_acc],\n",
    "                't_biotype':t_biotype,\n",
    "                't_len':trxp_len_dict[t_acc],\n",
    "            }\n",
    "        )\n",
    "    trxps = sorted(trxps, key=lambda x: [-x['t_biotype'], -x['t_len']])\n",
    "    selected_trxps[alt_acc] = trxps[0]['t_acc']"
   ]
  },
  {
   "cell_type": "code",
   "execution_count": 66,
   "metadata": {
    "ExecuteTime": {
     "end_time": "2021-06-29T17:56:31.052092Z",
     "start_time": "2021-06-29T17:56:31.028033Z"
    },
    "code_folding": [
     1
    ]
   },
   "outputs": [],
   "source": [
    "trxp_mult_alts = []\n",
    "for gene, alt_grp in itt.groupby(sorted([x for x in ev1 if x['gene biotype']!='protein_coding'], key=lambda x: x['gene']), key=lambda x: x['gene']):\n",
    "    gene_alts = list(alt_grp)\n",
    "    alt_acc_set = set(x['altProt accession'] for x in gene_alts)\n",
    "    if len(alt_acc_set)>1:\n",
    "        for gene_alt in gene_alts:\n",
    "            alt_trxp = (gene_alt['altProt accession'], gene_alt['transcript accession'])\n",
    "            trxp_mult_alts.append((gene_alt['transcript accession'], gene_alt['altProt accession'], alt_trxp_locs[alt_trxp]['start'], alt_trxp_locs[alt_trxp]['end']))"
   ]
  },
  {
   "cell_type": "code",
   "execution_count": 67,
   "metadata": {
    "ExecuteTime": {
     "end_time": "2021-06-29T17:56:31.066175Z",
     "start_time": "2021-06-29T17:56:31.055209Z"
    },
    "code_folding": [
     0
    ]
   },
   "outputs": [],
   "source": [
    "def ranges_overlap(range1, range2):\n",
    "    s1, e1 = range1\n",
    "    s2, e2 = range2\n",
    "    total_len = max((e1, e2)) - min((s1, s2))\n",
    "    total_seq = np.zeros(total_len)\n",
    "    total_seq[s1:e1] += 1\n",
    "    total_seq[s2:e2] += 1\n",
    "    if max(total_seq)>1:\n",
    "        return True\n",
    "    return False"
   ]
  },
  {
   "cell_type": "code",
   "execution_count": 68,
   "metadata": {
    "ExecuteTime": {
     "end_time": "2021-06-29T17:56:31.125869Z",
     "start_time": "2021-06-29T17:56:31.068251Z"
    },
    "code_folding": [
     1
    ]
   },
   "outputs": [],
   "source": [
    "trxp_mult_alts_biotypes = {}\n",
    "for trxp_acc, trxp_alt_grp in itt.groupby(sorted(trxp_mult_alts), key=lambda x: x[0]):\n",
    "    trxp_alt = [x[1:] for x in trxp_alt_grp]\n",
    "    if not len(trxp_alt)>1: continue\n",
    "    range1 = trxp_alt[0][1:]\n",
    "    range2 = trxp_alt[1][1:]\n",
    "    if ranges_overlap(range1, range2):\n",
    "        trxp_mult_alts_biotypes[trxp_acc] = 'dual coding'\n",
    "    else:\n",
    "        trxp_mult_alts_biotypes[trxp_acc] = 'bicistronic'"
   ]
  },
  {
   "cell_type": "code",
   "execution_count": 69,
   "metadata": {
    "ExecuteTime": {
     "end_time": "2021-06-29T17:56:31.150343Z",
     "start_time": "2021-06-29T17:56:31.128095Z"
    },
    "code_folding": [
     1
    ]
   },
   "outputs": [],
   "source": [
    "alt_trxps = {}\n",
    "for tt_acc in list(detected_alts):\n",
    "    if tt_acc == 'IP_2287811':\n",
    "        tt_acc = 'IP_243680'\n",
    "    for t_acc in prot_trxp_dict[tt_acc]:\n",
    "        gene = trxp_genes[t_acc]\n",
    "        g_biotype = gene_biotypes[gene] if gene in gene_biotypes else 'NA'\n",
    "        if t_acc in trxp_biotypes:\n",
    "            t_biotype = trxp_biotypes[t_acc]\n",
    "        elif any(x in t_acc for x in ['NM_', 'XM_']):\n",
    "            t_biotype = 'protein_coding'\n",
    "        else:\n",
    "            t_biotype = 'non_coding'\n",
    "        loc = trxp_alt_loc[(tt_acc, t_acc)] if (tt_acc, t_acc) in trxp_alt_loc else 'NA'\n",
    "        \n",
    "        trxp_code_type = 'single CDS'\n",
    "        if 'CDS' in loc:\n",
    "            trxp_code_type = 'dual coding'\n",
    "        elif 'UTR' in loc:\n",
    "            trxp_code_type = 'bicistronic'\n",
    "        if t_acc in trxp_mult_alts_biotypes:\n",
    "            trxp_code_type = trxp_mult_alts_biotypes[t_acc]\n",
    "        alt_trxps[(t_acc, tt_acc)] = {\n",
    "            't_biotype':t_biotype, \n",
    "            'loc':loc, \n",
    "            'gene':gene, \n",
    "            'g_biotype':g_biotype,\n",
    "            'transcript coding type':trxp_code_type,\n",
    "            'selected_trxp':tt_acc==selected_trxps[tt_acc]\n",
    "        }"
   ]
  },
  {
   "cell_type": "code",
   "execution_count": 70,
   "metadata": {
    "ExecuteTime": {
     "end_time": "2021-06-29T17:56:31.177994Z",
     "start_time": "2021-06-29T17:56:31.152582Z"
    }
   },
   "outputs": [],
   "source": [
    "ev1 = []\n",
    "for t_acc, alt_acc in alt_trxps:\n",
    "    ev1.append(\n",
    "        {\n",
    "            'altProt accession':alt_acc,\n",
    "            'length (aa)':protgene_len_dict[alt_acc],\n",
    "            'gene':alt_trxps[(t_acc, alt_acc)]['gene'],\n",
    "            'gene biotype':alt_trxps[(t_acc, alt_acc)]['g_biotype'],\n",
    "            'transcript accession':t_acc,\n",
    "            'transcript biotype':alt_trxps[(t_acc, alt_acc)]['t_biotype'],\n",
    "            'proposed transcript biotype':'protein_coding',\n",
    "            'location relative to ref':alt_trxps[(t_acc, alt_acc)]['loc'],\n",
    "            'multi-coding type':alt_trxps[(t_acc, alt_acc)]['transcript coding type'], \n",
    "            'interpro description':alt_gene_biotypes_dict[alt_acc]['interpro signature description'], \n",
    "            'interpro accession':alt_gene_biotypes_dict[alt_acc]['interpro signature accession'], \n",
    "            'interpro ids':alt_gene_biotypes_dict[alt_acc]['interpro signature ids']\n",
    "        }\n",
    "    )\n",
    "\n",
    "pickle.dump(ev1, open('ev1.pkl', 'wb'))"
   ]
  },
  {
   "cell_type": "code",
   "execution_count": 71,
   "metadata": {
    "ExecuteTime": {
     "end_time": "2021-06-29T17:56:31.219045Z",
     "start_time": "2021-06-29T17:56:31.180120Z"
    }
   },
   "outputs": [],
   "source": [
    "ev1 = pickle.load(open('ev1.pkl', 'rb'))"
   ]
  },
  {
   "cell_type": "code",
   "execution_count": 72,
   "metadata": {
    "ExecuteTime": {
     "end_time": "2021-06-29T17:56:31.235445Z",
     "start_time": "2021-06-29T17:56:31.221911Z"
    }
   },
   "outputs": [
    {
     "data": {
      "text/plain": [
       "278"
      ]
     },
     "execution_count": 72,
     "metadata": {},
     "output_type": "execute_result"
    }
   ],
   "source": [
    "len(set(x['altProt accession'] for x in ev1))"
   ]
  },
  {
   "cell_type": "code",
   "execution_count": 73,
   "metadata": {
    "ExecuteTime": {
     "end_time": "2021-06-29T17:56:31.250883Z",
     "start_time": "2021-06-29T17:56:31.238416Z"
    }
   },
   "outputs": [
    {
     "data": {
      "text/plain": [
       "971"
      ]
     },
     "execution_count": 73,
     "metadata": {},
     "output_type": "execute_result"
    }
   ],
   "source": [
    "len(set(x['transcript accession'] for x in ev1))"
   ]
  },
  {
   "cell_type": "code",
   "execution_count": 74,
   "metadata": {
    "ExecuteTime": {
     "end_time": "2021-06-29T17:56:31.269160Z",
     "start_time": "2021-06-29T17:56:31.253167Z"
    }
   },
   "outputs": [
    {
     "data": {
      "text/plain": [
       "147"
      ]
     },
     "execution_count": 74,
     "metadata": {},
     "output_type": "execute_result"
    }
   ],
   "source": [
    "len(set([x['altProt accession'] for x in ev1 if x['interpro ids']!='NA']))"
   ]
  },
  {
   "cell_type": "code",
   "execution_count": 75,
   "metadata": {
    "ExecuteTime": {
     "end_time": "2021-06-29T17:56:31.285881Z",
     "start_time": "2021-06-29T17:56:31.272140Z"
    }
   },
   "outputs": [
    {
     "data": {
      "text/plain": [
       "Counter({'bicistronic': 298, 'dual coding': 384, 'single CDS': 304})"
      ]
     },
     "execution_count": 75,
     "metadata": {},
     "output_type": "execute_result"
    }
   ],
   "source": [
    "Counter([x['multi-coding type'] for x in ev1])"
   ]
  },
  {
   "cell_type": "code",
   "execution_count": 76,
   "metadata": {
    "ExecuteTime": {
     "end_time": "2021-06-29T17:56:31.302231Z",
     "start_time": "2021-06-29T17:56:31.288225Z"
    }
   },
   "outputs": [
    {
     "data": {
      "text/plain": [
       "56"
      ]
     },
     "execution_count": 76,
     "metadata": {},
     "output_type": "execute_result"
    }
   ],
   "source": [
    "len(set([x['gene'] for x in ev1 if x['multi-coding type'] == 'dual coding']))"
   ]
  },
  {
   "cell_type": "code",
   "execution_count": 77,
   "metadata": {
    "ExecuteTime": {
     "end_time": "2021-06-29T17:56:31.317181Z",
     "start_time": "2021-06-29T17:56:31.305946Z"
    }
   },
   "outputs": [
    {
     "data": {
      "text/plain": [
       "70"
      ]
     },
     "execution_count": 77,
     "metadata": {},
     "output_type": "execute_result"
    }
   ],
   "source": [
    "len(set([x['gene'] for x in ev1 if x['multi-coding type'] == 'bicistronic']))"
   ]
  },
  {
   "cell_type": "code",
   "execution_count": 78,
   "metadata": {
    "ExecuteTime": {
     "end_time": "2021-06-29T17:56:31.333703Z",
     "start_time": "2021-06-29T17:56:31.320070Z"
    }
   },
   "outputs": [
    {
     "data": {
      "text/plain": [
       "0"
      ]
     },
     "execution_count": 78,
     "metadata": {},
     "output_type": "execute_result"
    }
   ],
   "source": [
    "len(set([x['gene'] for x in ev1 if x['multi-coding type'] == 'dual coding' and 'pseudogene' in x['gene biotype']]))"
   ]
  },
  {
   "cell_type": "code",
   "execution_count": 79,
   "metadata": {
    "ExecuteTime": {
     "end_time": "2021-06-29T17:56:31.349486Z",
     "start_time": "2021-06-29T17:56:31.336698Z"
    }
   },
   "outputs": [
    {
     "data": {
      "text/plain": [
       "3"
      ]
     },
     "execution_count": 79,
     "metadata": {},
     "output_type": "execute_result"
    }
   ],
   "source": [
    "len(set([x['gene'] for x in ev1 if x['multi-coding type'] == 'bicistronic' and 'pseudogene' in x['gene biotype']]))"
   ]
  },
  {
   "cell_type": "code",
   "execution_count": 80,
   "metadata": {
    "ExecuteTime": {
     "end_time": "2021-06-29T17:56:31.366015Z",
     "start_time": "2021-06-29T17:56:31.356533Z"
    }
   },
   "outputs": [
    {
     "data": {
      "text/plain": [
       "Counter({'antisense': 51,\n",
       "         'protein_coding': 739,\n",
       "         'NA': 24,\n",
       "         'processed_transcript': 3,\n",
       "         'processed_pseudogene': 95,\n",
       "         'transcribed_unprocessed_pseudogene': 26,\n",
       "         'lincRNA': 15,\n",
       "         'TEC': 1,\n",
       "         'ncRNA': 10,\n",
       "         'transcribed_processed_pseudogene': 14,\n",
       "         'unprocessed_pseudogene': 7,\n",
       "         'pseudogene': 1})"
      ]
     },
     "execution_count": 80,
     "metadata": {},
     "output_type": "execute_result"
    }
   ],
   "source": [
    "Counter([x['gene biotype'] for x in ev1])"
   ]
  },
  {
   "cell_type": "code",
   "execution_count": 81,
   "metadata": {
    "ExecuteTime": {
     "end_time": "2021-06-29T17:56:31.392817Z",
     "start_time": "2021-06-29T17:56:31.369208Z"
    },
    "code_folding": []
   },
   "outputs": [],
   "source": [
    "cols = (\n",
    "    'altProt accession',\n",
    "    'length (aa)',\n",
    "    'gene',\n",
    "    'gene biotype',    \n",
    "    'transcript accession',\n",
    "    'transcript biotype',\n",
    "    'location relative to ref',\n",
    "    'proposed transcript biotype',\n",
    "    'multi-coding type',\n",
    "    'interpro description', \n",
    "    'interpro accession', \n",
    "    'interpro ids'\n",
    ")\n",
    "\n",
    "with open('bioplex_tables/Table_EV1.tsv', 'w') as f:\n",
    "    writer = csv.writer(f, delimiter='\\t')\n",
    "    writer.writerow(cols)\n",
    "    for row in ev1:\n",
    "        writer.writerow([row[col] for col in cols])"
   ]
  },
  {
   "cell_type": "code",
   "execution_count": 82,
   "metadata": {
    "ExecuteTime": {
     "end_time": "2021-06-29T17:56:33.944362Z",
     "start_time": "2021-06-29T17:56:31.395595Z"
    },
    "code_folding": []
   },
   "outputs": [],
   "source": [
    "# excel\n",
    "from openpyxl import Workbook\n",
    "from openpyxl.utils import get_column_letter\n",
    "from openpyxl.styles import PatternFill, Border, Side, Alignment, Protection, Font\n",
    "\n",
    "select_trxp_ft = Font(bold=True)\n",
    "\n",
    "wb = Workbook()\n",
    "dest_filename = 'bioplex_tables/Table_EV1.xlsx'\n",
    "ws1 = wb.active\n",
    "ws1.title = \"EV1\"\n",
    "ws1.append(cols)\n",
    "for n, row in enumerate(ev1):\n",
    "    row_idx = n+2\n",
    "    ws1.append([row[col] for col in cols])\n",
    "    if n<1:\n",
    "        last_merge_idx = row_idx\n",
    "        prev_alt_acc = row['altProt accession']\n",
    "        continue\n",
    "    if row['altProt accession'] != prev_alt_acc:\n",
    "        for merge_col in ['A', 'B', 'J', 'K', 'L']:\n",
    "            ws1.merge_cells('{merge_col}{range_start}:{merge_col}{range_end}'.format(merge_col=merge_col, range_start=last_merge_idx, range_end=row_idx-1))\n",
    "        last_merge_idx = row_idx\n",
    "    if selected_trxps[row['altProt accession']] == row['transcript accession']:\n",
    "        ws1['E{}'.format(row_idx)].font = select_trxp_ft\n",
    "    prev_alt_acc = row['altProt accession']\n",
    "    \n",
    "wb.save(filename = dest_filename)"
   ]
  },
  {
   "cell_type": "code",
   "execution_count": 51,
   "metadata": {
    "ExecuteTime": {
     "end_time": "2021-06-15T13:03:56.323733Z",
     "start_time": "2021-06-15T13:03:56.312357Z"
    }
   },
   "outputs": [
    {
     "name": "stdout",
     "output_type": "stream",
     "text": [
      "{'protein coding': 118, 'pseudogene': 117, 'non coding': 43} 278\n"
     ]
    }
   ],
   "source": [
    "cnt_prot_coding = len(set([x['altProt accession'] for x in ev1 if x['gene biotype'] == 'protein_coding']))\n",
    "cnt_pseudo = len(set([x['altProt accession'] for x in ev1 if 'pseudogene' in x['gene biotype']]))\n",
    "\n",
    "alt_biotype_cnts = {\n",
    "    'protein coding':cnt_prot_coding,\n",
    "    'pseudogene':cnt_pseudo, \n",
    "    'non coding':len(detected_alts)-cnt_prot_coding-cnt_pseudo, \n",
    "}\n",
    "\n",
    "print(alt_biotype_cnts, sum(alt_biotype_cnts.values()))"
   ]
  },
  {
   "cell_type": "code",
   "execution_count": 52,
   "metadata": {
    "ExecuteTime": {
     "end_time": "2021-06-15T13:03:57.619172Z",
     "start_time": "2021-06-15T13:03:57.495732Z"
    }
   },
   "outputs": [
    {
     "data": {
      "image/png": "[encoded data removed]",
      "text/plain": [
       "<Figure size 432x288 with 1 Axes>"
      ]
     },
     "metadata": {},
     "output_type": "display_data"
    }
   ],
   "source": [
    "labels, counts = zip(*alt_biotype_cnts.items())\n",
    "plt.pie(counts, labels=labels)\n",
    "plt.savefig('bioplex_figures/biotype_pie.svg')\n",
    "plt.show()"
   ]
  },
  {
   "cell_type": "code",
   "execution_count": 54,
   "metadata": {
    "ExecuteTime": {
     "end_time": "2021-06-15T13:04:02.938899Z",
     "start_time": "2021-06-15T13:04:02.928671Z"
    }
   },
   "outputs": [
    {
     "name": "stdout",
     "output_type": "stream",
     "text": [
      "{'CDS': 50, \"5'UTR\": 16, \"3'UTR\": 37, '-': 15} 118\n"
     ]
    }
   ],
   "source": [
    "location_cnts = dict(Counter(\n",
    "    [x['location relative to ref'] for x in ev1 if x['transcript accession']==selected_trxps[x['altProt accession']] and x['gene biotype']=='protein_coding']\n",
    "))\n",
    "print(location_cnts, sum(location_cnts.values()))"
   ]
  },
  {
   "cell_type": "code",
   "execution_count": 55,
   "metadata": {
    "ExecuteTime": {
     "end_time": "2021-06-15T13:04:03.767781Z",
     "start_time": "2021-06-15T13:04:03.758577Z"
    }
   },
   "outputs": [
    {
     "data": {
      "text/plain": [
       "103"
      ]
     },
     "execution_count": 55,
     "metadata": {},
     "output_type": "execute_result"
    }
   ],
   "source": [
    "sum(location_cnts[loc] for loc in ['CDS', \"3'UTR\", \"5'UTR\"])"
   ]
  },
  {
   "cell_type": "code",
   "execution_count": 56,
   "metadata": {
    "ExecuteTime": {
     "end_time": "2021-06-15T13:04:04.589874Z",
     "start_time": "2021-06-15T13:04:04.476449Z"
    }
   },
   "outputs": [
    {
     "data": {
      "image/png": "[encoded data removed]",
      "text/plain": [
       "<Figure size 432x288 with 1 Axes>"
      ]
     },
     "metadata": {},
     "output_type": "display_data"
    }
   ],
   "source": [
    "labels, counts = zip(*location_cnts.items())\n",
    "plt.pie(counts, labels=labels)\n",
    "plt.savefig('bioplex_figures/trxp_loc_pie.svg')\n",
    "plt.show()"
   ]
  },
  {
   "cell_type": "code",
   "execution_count": null,
   "metadata": {},
   "outputs": [],
   "source": []
  }
 ],
 "metadata": {
  "kernelspec": {
   "display_name": "Python 3",
   "language": "python",
   "name": "python3"
  },
  "language_info": {
   "codemirror_mode": {
    "name": "ipython",
    "version": 3
   },
   "file_extension": ".py",
   "mimetype": "text/x-python",
   "name": "python",
   "nbconvert_exporter": "python",
   "pygments_lexer": "ipython3",
   "version": "3.7.3"
  }
 },
 "nbformat": 4,
 "nbformat_minor": 4
}
