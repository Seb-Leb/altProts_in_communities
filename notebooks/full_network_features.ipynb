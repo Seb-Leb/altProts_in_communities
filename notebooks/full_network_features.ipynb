{
 "cells": [
  {
   "cell_type": "code",
   "execution_count": 7,
   "metadata": {
    "ExecuteTime": {
     "end_time": "2021-06-09T13:25:34.123320Z",
     "start_time": "2021-06-09T13:25:34.110588Z"
    }
   },
   "outputs": [],
   "source": [
    "import pickle\n",
    "import numpy as np\n",
    "import networkx as nx\n",
    "from multiprocessing import Pool\n",
    "from collections import Counter\n",
    "\n",
    "import matplotlib as mplt\n",
    "from matplotlib import pyplot as plt\n",
    "from matplotlib.colors import LinearSegmentedColormap\n",
    "\n",
    "from altProts_in_communities.utils import *"
   ]
  },
  {
   "cell_type": "code",
   "execution_count": 8,
   "metadata": {
    "ExecuteTime": {
     "end_time": "2021-06-09T13:25:34.530361Z",
     "start_time": "2021-06-09T13:25:34.483260Z"
    }
   },
   "outputs": [],
   "source": [
    "G_o = pickle.load(open('G_o.pkl', 'rb'))"
   ]
  },
  {
   "cell_type": "code",
   "execution_count": 10,
   "metadata": {
    "ExecuteTime": {
     "end_time": "2021-06-09T13:25:35.232558Z",
     "start_time": "2021-06-09T13:25:35.226370Z"
    },
    "code_folding": [
     0,
     9
    ]
   },
   "outputs": [],
   "source": [
    "color_palette = {\n",
    "    'ref_prey': '#2582c6',\n",
    "    'ref_bait': '#093e63',\n",
    "    'alt': '#e76f51',\n",
    "    'light': '#D81159',\n",
    "    'yellow':'#9b7021',\n",
    "    'dark': '#093e63'\n",
    "    }\n",
    "\n",
    "def get_graph_vis(G,\n",
    "                  title,\n",
    "                  file_name=None,\n",
    "                  file_path=None,\n",
    "                  layout=None,\n",
    "                  layout_params={'k':0.15, 'iterations':20},\n",
    "                  figsize=None,\n",
    "                  pos=None,\n",
    "                  start_pos=None,\n",
    "                  fixed_nodes=None,\n",
    "                  return_pos=False,\n",
    "                  edge_alpha=1.0,\n",
    "                  edge_width=1.0,\n",
    "                  node_size=20,\n",
    "                  alt_node_size=15,\n",
    "                  graph_type='alt_bait_prey',\n",
    "                  min_source_margin=0,\n",
    "                  draw_labels=False,\n",
    "                  margin=0.1,\n",
    "                  include_ledgend=False,\n",
    "                  GO=None,\n",
    "                 ):\n",
    "    if figsize is None:\n",
    "        figsize = (10,4)\n",
    "    elif figsize == 'auto' and GO is not None:\n",
    "        leg_width_char = get_max_char_count(GO)\n",
    "        figsize = (4+0.18*leg_width_char, 4)\n",
    "    fig, ax = plt.subplots(figsize=figsize)\n",
    "    #options = {'node_color': 'black', 'node_size': 50, 'width': 1}\n",
    "    if pos is None:\n",
    "        if layout is not None:\n",
    "            pos = layout(G)\n",
    "        if start_pos is not None and fixed_nodes is not None:\n",
    "            pos = nx.spring_layout(G, pos=start_pos, fixed=fixed_nodes, k=layout_params['k'], iterations=layout_params['iterations'])\n",
    "        else:\n",
    "            pos = nx.spring_layout(G, k=layout_params['k'], iterations=layout_params['iterations'])\n",
    "        \n",
    "    nx.draw_networkx_edges(G, pos, edge_color='black', width=edge_width, alpha=edge_alpha, ax=ax)\n",
    "    \n",
    "    if GO is not None:\n",
    "        gene_go_count = get_gene_go_count(GO)\n",
    "        r=0.03\n",
    "        cycle_fact = lambda : itt.cycle([(r*np.cos(x), r*np.sin(x)) for x in range(0, 360, 45)])\n",
    "        gene_cir_pos = {gene:cycle_fact() for gene in gene_go_count}\n",
    "        legend_elements = []\n",
    "        gopos = pos.copy()\n",
    "        for GO_type, GO_terms in GO.items():\n",
    "            for GO_term in GO_terms:\n",
    "                study_items = GO_term['study_items'].split('|')\n",
    "                GO_color = next(GO_colors)\n",
    "                legend_elements.append(Line2D([0], [0], marker='o', label='{}\\n{}'.format(GO_term['go_name'], GO_term['study_items']), color=GO_color))\n",
    "                for gene, count in gene_go_count.items():\n",
    "                    next(gene_cir_pos[gene])\n",
    "                    next(gene_cir_pos[gene])\n",
    "                    gopos[gene] = pos[gene]+next(gene_cir_pos[gene])\n",
    "                    gene_go_count[gene] -= 1\n",
    "                nx.draw_networkx_nodes(G, gopos,\n",
    "                                   nodelist=study_items,\n",
    "                                   node_color=GO_color,\n",
    "                                   node_size=node_size+(node_size*2.0),\n",
    "                                   ax=ax,\n",
    "                                    alpha=0.6\n",
    "                                      )\n",
    "        \n",
    "    nx.draw_networkx_nodes(G, pos,\n",
    "                       nodelist=[x for x,y in G.nodes(data=True) if y['tt_type']=='ref' and y['node_type']=='bait'],\n",
    "                       node_color=color_palette['ref_bait'],\n",
    "                       node_size=node_size,\n",
    "                       ax=ax)\n",
    "\n",
    "    nx.draw_networkx_nodes(G, pos,\n",
    "                       nodelist=[x for x,y in G.nodes(data=True) if y['tt_type']=='ref' and y['node_type']=='prey'],\n",
    "                       node_color=color_palette['ref_prey'],\n",
    "                       node_size=node_size,\n",
    "                       ax=ax)\n",
    "\n",
    "    nx.draw_networkx_nodes(G, pos,\n",
    "                       nodelist=[x for x,y in G.nodes(data=True) if y['tt_type']=='alt'],\n",
    "                       node_color=color_palette['light'],\n",
    "                       node_size=alt_node_size,\n",
    "                       ax=ax)\n",
    "\n",
    "    if draw_labels:\n",
    "        nx.draw_networkx_labels(G, pos, font_size=9, ax=ax)\n",
    "    \n",
    "    ax.axis('off')\n",
    "    \n",
    "    plt.margins(margin)\n",
    "    if file_name is not None and file_path is not None:\n",
    "        plt.savefig(file_path+file_name, dpi=600, transparent=True)\n",
    "    plt.show()\n",
    "    \n",
    "    if GO is not None and include_ledgend:\n",
    "        fig, ax = plt.subplots(figsize=(10, 3))\n",
    "        ax.legend(handles=legend_elements)\n",
    "        ax.axis('off')\n",
    "        ax.set_title(title)\n",
    "        plt.savefig(file_path+file_name.replace('.', '_legend.'), dpi=600, transparent=True)\n",
    "        plt.show()\n",
    "    if return_pos:\n",
    "        return file_name, file_name.replace('.', '_legend.'), pos\n",
    "    return file_name, file_name.replace('.', '_legend.')"
   ]
  },
  {
   "cell_type": "code",
   "execution_count": 16,
   "metadata": {
    "ExecuteTime": {
     "end_time": "2021-06-09T13:37:12.900504Z",
     "start_time": "2021-06-09T13:37:04.162887Z"
    },
    "scrolled": false
   },
   "outputs": [
    {
     "data": {
      "image/png": "[encoded data removed]",
      "text/plain": [
       "<Figure size 288x288 with 1 Axes>"
      ]
     },
     "metadata": {},
     "output_type": "display_data"
    },
    {
     "data": {
      "text/plain": [
       "('full_net.png', 'full_net_legend.png')"
      ]
     },
     "execution_count": 16,
     "metadata": {},
     "output_type": "execute_result"
    }
   ],
   "source": [
    "deg_cen = nx.degree_centrality(G_o)\n",
    "\n",
    "node_types = {}\n",
    "for n in list(G_o.nodes())+list(G_o.nodes()):\n",
    "    node_types[n] = {}\n",
    "    if n in bait_batch_dict:\n",
    "        node_types[n]['node_type'] = 'bait'\n",
    "    else:\n",
    "        node_types[n]['node_type'] = 'prey'\n",
    "nx.set_node_attributes(G_o, node_types)\n",
    "\n",
    "deg = G_o.degree()\n",
    "\n",
    "pos = nx.circular_layout(sorted(G_o.nodes(), key=lambda x: [node_types[x]['node_type'], deg_cen[x]]))\n",
    "\n",
    "get_graph_vis(G_o, '',\n",
    "              layout=nx.circular_layout,\n",
    "              figsize=(4,4),\n",
    "              pos=pos,\n",
    "              edge_alpha=0.01,\n",
    "              node_size=30,\n",
    "              file_path='bioplex_figures/',\n",
    "              file_name='full_net.png',\n",
    "             )"
   ]
  },
  {
   "cell_type": "code",
   "execution_count": 12,
   "metadata": {
    "ExecuteTime": {
     "end_time": "2021-06-09T13:25:37.819619Z",
     "start_time": "2021-06-09T13:25:37.810670Z"
    }
   },
   "outputs": [
    {
     "data": {
      "text/plain": [
       "[('TUBB8P11|IP_673226', 0.0006454944487477407),\n",
       " ('RNF215|IP_293201', 0.0005163955589981926),\n",
       " ('SLC38A10|IP_711679', 0.0005163955589981926),\n",
       " ('SEPT7P8|IP_686636', 0.00038729666924864443),\n",
       " ('BEND4|IP_117582', 0.00038729666924864443),\n",
       " ('ENO1P1|IP_079312', 0.00038729666924864443),\n",
       " ('AC008758.4|IP_691643', 0.00038729666924864443),\n",
       " ('AC092329.4|IP_688853', 0.00038729666924864443),\n",
       " ('UBBP4|IP_710744', 0.00038729666924864443),\n",
       " ('HSPA8P5|IP_763499', 0.0002581977794990963)]"
      ]
     },
     "execution_count": 12,
     "metadata": {},
     "output_type": "execute_result"
    }
   ],
   "source": [
    "sorted([(node, cen) for node, cen in deg_cen.items() if 'IP_' in node], key=lambda x: -x[1])[:10]"
   ]
  },
  {
   "cell_type": "code",
   "execution_count": 17,
   "metadata": {
    "ExecuteTime": {
     "end_time": "2021-06-10T12:33:39.684711Z",
     "start_time": "2021-06-10T12:33:39.432673Z"
    }
   },
   "outputs": [
    {
     "ename": "NameError",
     "evalue": "name 'get_2degneigb' is not defined",
     "output_type": "error",
     "traceback": [
      "\u001b[0;31m---------------------------------------------------------------------------\u001b[0m",
      "\u001b[0;31mNameError\u001b[0m                                 Traceback (most recent call last)",
      "\u001b[0;32m<ipython-input-17-d4b13d46da0d>\u001b[0m in \u001b[0;36m<module>\u001b[0;34m\u001b[0m\n\u001b[1;32m      2\u001b[0m \u001b[0mmargin\u001b[0m \u001b[0;34m=\u001b[0m \u001b[0;36m0.1\u001b[0m\u001b[0;34m\u001b[0m\u001b[0;34m\u001b[0m\u001b[0m\n\u001b[1;32m      3\u001b[0m \u001b[0mnode\u001b[0m \u001b[0;34m=\u001b[0m \u001b[0;34m'UBBP4|IP_710744'\u001b[0m\u001b[0;34m\u001b[0m\u001b[0;34m\u001b[0m\u001b[0m\n\u001b[0;32m----> 4\u001b[0;31m \u001b[0mG_neig\u001b[0m \u001b[0;34m=\u001b[0m \u001b[0mget_2degneigb\u001b[0m\u001b[0;34m(\u001b[0m\u001b[0mG_o\u001b[0m\u001b[0;34m,\u001b[0m \u001b[0mnode\u001b[0m\u001b[0;34m)\u001b[0m\u001b[0;34m\u001b[0m\u001b[0;34m\u001b[0m\u001b[0m\n\u001b[0m\u001b[1;32m      5\u001b[0m file_name, legend = get_graph_vis(\n\u001b[1;32m      6\u001b[0m                 \u001b[0mG_neig\u001b[0m\u001b[0;34m,\u001b[0m\u001b[0;34m\u001b[0m\u001b[0;34m\u001b[0m\u001b[0m\n",
      "\u001b[0;31mNameError\u001b[0m: name 'get_2degneigb' is not defined"
     ]
    }
   ],
   "source": [
    "node_size = 300\n",
    "margin = 0.1\n",
    "node = 'UBBP4|IP_710744'\n",
    "G_neig = get_2degneigb(G_o, node)\n",
    "file_name, legend = get_graph_vis(\n",
    "                G_neig,\n",
    "                '{}'.format(node),figsize=(5,5),\n",
    "                node_size=node_size,\n",
    "                alt_node_size=node_size,\n",
    "                layout_params={'k':0.35, 'iterations':50},\n",
    "                file_name='second_neighb_{}_withalt.svg'.format(node),\n",
    "                file_path='bioplex_figures/subnets/2nd_deg_neighb/',\n",
    "                draw_labels=False,\n",
    "                margin=margin,\n",
    "        )"
   ]
  },
  {
   "cell_type": "code",
   "execution_count": 7,
   "metadata": {
    "ExecuteTime": {
     "end_time": "2021-06-04T17:52:36.111932Z",
     "start_time": "2021-06-04T17:51:24.620358Z"
    }
   },
   "outputs": [],
   "source": [
    "def batch_apsp(batch_nodes):\n",
    "    apsp = {}\n",
    "    for n in batch_nodes:\n",
    "        ss_sp = Counter(nx.single_source_shortest_path_length(G, n).values())\n",
    "        for c in ss_sp:\n",
    "            if c not in apsp:\n",
    "                apsp[c] = 0\n",
    "            apsp[c] += ss_sp[c]\n",
    "                \n",
    "    return apsp\n",
    "\n",
    "# reanalysis APSP\n",
    "G = G_o.copy()\n",
    "n_nodes = 1000\n",
    "nodes_splited = [list(G.nodes())[i:i+n_nodes] for i in range(0, len(G.nodes()), n_nodes)]\n",
    "pool = Pool(8)\n",
    "r = pool.map_async(batch_apsp, nodes_splited)\n",
    "results = r.get()\n",
    "pool.close()\n",
    "pool.join()"
   ]
  },
  {
   "cell_type": "code",
   "execution_count": 8,
   "metadata": {
    "ExecuteTime": {
     "end_time": "2021-06-04T17:52:36.489401Z",
     "start_time": "2021-06-04T17:52:36.116402Z"
    }
   },
   "outputs": [
    {
     "data": {
      "image/png": "[encoded data removed]",
      "text/plain": [
       "<Figure size 432x288 with 1 Axes>"
      ]
     },
     "metadata": {
      "needs_background": "light"
     },
     "output_type": "display_data"
    }
   ],
   "source": [
    "# aggregate results from parallel runs\n",
    "apsp = {}\n",
    "for r in results:\n",
    "    for sp_len in r:\n",
    "        if sp_len in apsp:\n",
    "            apsp[sp_len] += r[sp_len]\n",
    "        else:\n",
    "            apsp[sp_len] = r[sp_len]\n",
    "\n",
    "n_pairs = sum(apsp.values())\n",
    "whole_sp, whole_dens = zip(*[(k, v/n_pairs) for k,v in apsp.items()])\n",
    "average_sp = sum(np.array(whole_sp) * np.array(list(apsp.values()))) / n_pairs\n",
    "fig, ax = plt.subplots()\n",
    "width = 1.0\n",
    "ax.bar(whole_sp,         whole_dens, width, edgecolor='k', color='w', linewidth=2 , alpha=1.0, label='whole network')\n",
    "#ax.bar(np.array(ref_sp), ref_dens,   width, color='#006ba6', alpha=0.8, label='refProts')\n",
    "#ax.bar(np.array(alt_sp), alt_dens,   width, color='#d81159', alpha=0.6, label='altProts')\n",
    "plt.xticks(range(1, 13))\n",
    "plt.xlim(0, 13)\n",
    "#plt.legend()\n",
    "plt.savefig('bioplex_figures/apsp_bar.svg')\n",
    "plt.show()"
   ]
  },
  {
   "cell_type": "code",
   "execution_count": 9,
   "metadata": {
    "ExecuteTime": {
     "end_time": "2021-06-04T17:52:36.505875Z",
     "start_time": "2021-06-04T17:52:36.491842Z"
    }
   },
   "outputs": [],
   "source": [
    "def power_law_discrete_MLE(binned_data, x_min):\n",
    "    binned_data = [x for x in binned_data if x>x_min]\n",
    "    n = len(binned_data)\n",
    "    a = 1+n/(sum(np.log(x/x_min-0.5) for x in binned_data))\n",
    "    return a\n",
    "\n",
    "def power_fit(x_min=12):\n",
    "    G = G_o.copy()\n",
    "    all_degrees = [x for x in dict(G.degree()).values() if x>0]\n",
    "    h = plt.hist(all_degrees, histtype='step', bins=140, density=True)\n",
    "\n",
    "    data_x = h[1][:-1][h[0]>0]\n",
    "    data_y = h[0][h[0]>0]\n",
    "\n",
    "    x = np.linspace(0.1, 187, 10)\n",
    "    a = power_law_discrete_MLE(data_x, x_min)\n",
    "    print(a)\n",
    "    p_x = x**(-a)\n",
    "\n",
    "\n",
    "    fig, ax = plt.subplots(figsize=(3,3))\n",
    "    ax.scatter(data_x, data_y, c='#7a3350', s=4)\n",
    "    ax.plot(x, p_x, 'k', linestyle='dashed')\n",
    "\n",
    "    ax.set_yscale('log')\n",
    "    ax.set_xscale('log')\n",
    "    ax.set_yticks([0.005, 0.01, .05, .01, .5, 1])\n",
    "    ax.set_xticks([5,10,50,100])\n",
    "    ax.get_xaxis().set_major_formatter(mplt.ticker.ScalarFormatter())\n",
    "    ax.get_yaxis().set_major_formatter(mplt.ticker.ScalarFormatter())\n",
    "    ax.set_xlim(0.8, 170)\n",
    "    ax.set_ylim(0, 1)\n",
    "    plt.savefig('bioplex_figures/degree_dist.svg')\n",
    "    plt.show()"
   ]
  },
  {
   "cell_type": "code",
   "execution_count": 10,
   "metadata": {
    "ExecuteTime": {
     "end_time": "2021-06-04T17:52:38.334711Z",
     "start_time": "2021-06-04T17:52:36.507953Z"
    }
   },
   "outputs": [
    {
     "name": "stdout",
     "output_type": "stream",
     "text": [
      "1.8711468501343704\n"
     ]
    },
    {
     "name": "stderr",
     "output_type": "stream",
     "text": [
      "/home/sleblanc/anaconda3/lib/python3.7/site-packages/ipykernel_launcher.py:32: UserWarning: Attempted to set non-positive bottom ylim on a log-scaled axis.\n",
      "Invalid limit will be ignored.\n"
     ]
    },
    {
     "data": {
      "image/png": "[encoded data removed]",
      "text/plain": [
       "<Figure size 432x288 with 1 Axes>"
      ]
     },
     "metadata": {
      "needs_background": "light"
     },
     "output_type": "display_data"
    },
    {
     "data": {
      "image/png": "[encoded data removed]",
      "text/plain": [
       "<Figure size 216x216 with 1 Axes>"
      ]
     },
     "metadata": {
      "needs_background": "light"
     },
     "output_type": "display_data"
    }
   ],
   "source": [
    "power_fit()"
   ]
  },
  {
   "cell_type": "code",
   "execution_count": 11,
   "metadata": {
    "ExecuteTime": {
     "end_time": "2021-06-04T17:52:38.841589Z",
     "start_time": "2021-06-04T17:52:38.336829Z"
    }
   },
   "outputs": [],
   "source": [
    "eig_cen = nx.eigenvector_centrality_numpy(G_o)\n",
    "alt_eig_cen = [x for x in eig_cen.items() if is_alt(x[0])]\n",
    "sorted_eig_cen = sorted([(k, v) for k,v in eig_cen.items()], key=lambda x: x[1])\n",
    "\n",
    "alt_cen = [1 if is_alt(x[0]) else 0 for x in sorted_eig_cen]\n",
    "\n",
    "cm = LinearSegmentedColormap.from_list('whatevs', ['#fff', '#501930'], N=100)"
   ]
  },
  {
   "cell_type": "code",
   "execution_count": 12,
   "metadata": {
    "ExecuteTime": {
     "end_time": "2021-06-04T17:52:40.690635Z",
     "start_time": "2021-06-04T17:52:38.843631Z"
    }
   },
   "outputs": [
    {
     "data": {
      "image/png": "[encoded data removed]",
      "text/plain": [
       "<Figure size 864x144 with 2 Axes>"
      ]
     },
     "metadata": {
      "needs_background": "light"
     },
     "output_type": "display_data"
    }
   ],
   "source": [
    "fig, axs = plt.subplots(2, figsize=(12,2), sharex=True)\n",
    "x = range(len(eig_cen))\n",
    "y = sorted(eig_cen.values())\n",
    "axs[0].plot(y, y, c='k')\n",
    "axs[0].fill_between(x, y, facecolor='grey')\n",
    "axs[0].set_yscale('log')\n",
    "axs[0].set_yticks([1e-15, 1e-5])\n",
    "axs[1].imshow([alt_cen,]*200, cmap=cm)\n",
    "#plt.xticks([0, 4000, 8000])\n",
    "\n",
    "plt.tight_layout()\n",
    "plt.savefig('bioplex_figures/eig_cen.svg', dpi=600)"
   ]
  }
 ],
 "metadata": {
  "kernelspec": {
   "display_name": "Python 3",
   "language": "python",
   "name": "python3"
  },
  "language_info": {
   "codemirror_mode": {
    "name": "ipython",
    "version": 3
   },
   "file_extension": ".py",
   "mimetype": "text/x-python",
   "name": "python",
   "nbconvert_exporter": "python",
   "pygments_lexer": "ipython3",
   "version": "3.7.3"
  }
 },
 "nbformat": 4,
 "nbformat_minor": 4
}
