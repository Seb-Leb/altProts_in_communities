{
 "cells": [
  {
   "cell_type": "code",
   "execution_count": 1,
   "metadata": {
    "ExecuteTime": {
     "end_time": "2021-06-08T14:41:15.986786Z",
     "start_time": "2021-06-08T14:40:50.121863Z"
    }
   },
   "outputs": [],
   "source": [
    "from altProts_in_communities.utils import *\n",
    "from altProts_in_communities.comppass_plus import *"
   ]
  },
  {
   "cell_type": "code",
   "execution_count": 2,
   "metadata": {
    "ExecuteTime": {
     "end_time": "2021-06-08T14:41:26.470705Z",
     "start_time": "2021-06-08T14:41:15.990789Z"
    }
   },
   "outputs": [],
   "source": [
    "BP_Filters_edges = set(frozenset((x['bait_symbol'], x['symbol'] )) for x in BP_noFilters if x['pInt']>0.75)\n",
    "BP_neg = set(frozenset((x['bait_symbol'], x['symbol'] )) for x in BP_noFilters if x['pInt']<0.75)\n",
    "HCIP_training_labels = BP_Filters_edges"
   ]
  },
  {
   "cell_type": "code",
   "execution_count": 3,
   "metadata": {
    "ExecuteTime": {
     "end_time": "2021-06-08T14:41:26.476428Z",
     "start_time": "2021-06-08T14:41:26.473511Z"
    }
   },
   "outputs": [],
   "source": [
    "synonyms = {\n",
    "    'C3orf75':'ELP6', \n",
    "    'FUS|IP_2287811':'FUS|IP_243680'\n",
    "}"
   ]
  },
  {
   "cell_type": "code",
   "execution_count": 4,
   "metadata": {
    "ExecuteTime": {
     "end_time": "2021-06-08T14:41:49.415941Z",
     "start_time": "2021-06-08T14:41:26.478875Z"
    }
   },
   "outputs": [],
   "source": [
    "features_table = []\n",
    "with open('BP2_OP16_features.csv', 'r') as f:\n",
    "    reader = csv.reader(f, delimiter=',')\n",
    "    for n, row in enumerate(reader):\n",
    "        if n==0:\n",
    "            cols = row\n",
    "            cols[0] = 'Experiment_ID'\n",
    "            continue\n",
    "        line = dict(zip(cols, row))\n",
    "        if line['Bait'] in synonyms:\n",
    "            line['Bait'] = synonyms[line['Bait']]\n",
    "        if line['Prey'] in synonyms:\n",
    "            line['Prey'] = synonyms[line['Prey']]\n",
    "        bait_prey = frozenset((line['Bait'], line['Prey']))\n",
    "        line['HCIP_label'] = 1 if bait_prey in HCIP_training_labels else 0\n",
    "        for col in columns_dtypes:\n",
    "            line[col] = columns_dtypes[col](line[col])\n",
    "        features_table.append(line)"
   ]
  },
  {
   "cell_type": "code",
   "execution_count": 5,
   "metadata": {
    "ExecuteTime": {
     "end_time": "2021-06-08T14:42:00.700081Z",
     "start_time": "2021-06-08T14:41:49.418109Z"
    }
   },
   "outputs": [],
   "source": [
    "# split data by batches & format ready for training\n",
    "feats = ['Z_binned','WD_binned', 'batch_Z_binned', 'Entropy_binned','Ratio_binned','total_PSMs_binned','ratio_total_PSMs_binned','pep_ratio_binned']\n",
    "\n",
    "features_table = sorted(features_table, key=lambda x: x['Batch'])\n",
    "for batch, grp in itt.groupby(features_table, key=lambda x: x['Batch']):\n",
    "    batch_data=[[(x['Bait'], x['Prey']), np.array([x[f] for f in feats]), x['HCIP_label']] for x in grp]\n",
    "    pickle.dump(batch_data, open('bioplex_data_batches/{}.pkl'.format(batch), 'wb'))\n",
    "\n",
    "all_batches = list(set(x['Batch'] for x in features_table))"
   ]
  },
  {
   "cell_type": "code",
   "execution_count": 6,
   "metadata": {
    "ExecuteTime": {
     "end_time": "2021-06-08T14:42:00.706100Z",
     "start_time": "2021-06-08T14:42:00.702327Z"
    }
   },
   "outputs": [],
   "source": [
    "CP = ComppassPlus(all_batches)"
   ]
  },
  {
   "cell_type": "code",
   "execution_count": 7,
   "metadata": {
    "ExecuteTime": {
     "end_time": "2021-06-08T14:43:37.905695Z",
     "start_time": "2021-06-08T14:42:00.708642Z"
    }
   },
   "outputs": [],
   "source": [
    "batch_models_dict = CP.compute_models(all_batches, serial=False)\n",
    "pickle.dump(batch_models_dict, open('bioplex_compassplus_models.pkl', 'wb'))"
   ]
  },
  {
   "cell_type": "code",
   "execution_count": 8,
   "metadata": {
    "ExecuteTime": {
     "end_time": "2021-06-08T14:43:37.919596Z",
     "start_time": "2021-06-08T14:43:37.910336Z"
    }
   },
   "outputs": [],
   "source": [
    "# bypass training...\n",
    "batch_models_dict = pickle.load(open('bioplex_compassplus_models.pkl', 'rb'))\n",
    "CP = ComppassPlus(all_batches, batch_models_dict = batch_models_dict)"
   ]
  },
  {
   "cell_type": "code",
   "execution_count": 9,
   "metadata": {
    "ExecuteTime": {
     "end_time": "2021-06-08T14:43:43.333251Z",
     "start_time": "2021-06-08T14:43:37.922256Z"
    }
   },
   "outputs": [],
   "source": [
    "HCIP_pred = CP.predict_all()"
   ]
  },
  {
   "cell_type": "code",
   "execution_count": 10,
   "metadata": {
    "ExecuteTime": {
     "end_time": "2021-06-08T14:43:44.822423Z",
     "start_time": "2021-06-08T14:43:43.335921Z"
    }
   },
   "outputs": [],
   "source": [
    "!cp HCIP_pred_BioPlex_OP16.pkl HCIP_pred_BioPlex_OP16.pkl.back"
   ]
  },
  {
   "cell_type": "code",
   "execution_count": 11,
   "metadata": {
    "ExecuteTime": {
     "end_time": "2021-06-08T14:43:51.886821Z",
     "start_time": "2021-06-08T14:43:44.837510Z"
    }
   },
   "outputs": [],
   "source": [
    "pickle.dump(HCIP_pred, open('HCIP_pred_BioPlex_OP16.pkl', 'wb'))"
   ]
  }
 ],
 "metadata": {
  "kernelspec": {
   "display_name": "Python 3",
   "language": "python",
   "name": "python3"
  },
  "language_info": {
   "codemirror_mode": {
    "name": "ipython",
    "version": 3
   },
   "file_extension": ".py",
   "mimetype": "text/x-python",
   "name": "python",
   "nbconvert_exporter": "python",
   "pygments_lexer": "ipython3",
   "version": "3.7.3"
  }
 },
 "nbformat": 4,
 "nbformat_minor": 4
}
