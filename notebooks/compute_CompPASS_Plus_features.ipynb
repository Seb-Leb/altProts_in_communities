{
 "cells": [
  {
   "cell_type": "code",
   "execution_count": 1,
   "metadata": {
    "ExecuteTime": {
     "end_time": "2021-06-08T14:22:15.033304Z",
     "start_time": "2021-06-08T14:21:48.729026Z"
    }
   },
   "outputs": [],
   "source": [
    "from altProts_in_communities.utils import *\n",
    "from altProts_in_communities.compute_features import *"
   ]
  },
  {
   "cell_type": "code",
   "execution_count": 2,
   "metadata": {
    "ExecuteTime": {
     "end_time": "2021-06-08T14:24:32.801004Z",
     "start_time": "2021-06-08T14:22:15.037023Z"
    }
   },
   "outputs": [],
   "source": [
    "bioplex_psms = pickle.load(open('OP16_bioplex_all_psms.pkl', 'rb'))"
   ]
  },
  {
   "cell_type": "code",
   "execution_count": 3,
   "metadata": {
    "ExecuteTime": {
     "end_time": "2021-06-08T14:24:41.826884Z",
     "start_time": "2021-06-08T14:24:32.812951Z"
    }
   },
   "outputs": [],
   "source": [
    "peptide_counts_dict = {}\n",
    "for bait, exps in bioplex_psms.items():\n",
    "    peptide_counts_dict[bait] = {}\n",
    "    for exp_id, psms in exps['exps'].items():\n",
    "        for prey, psm_dict in psms['psms'].items():\n",
    "            cnt_pep = len(set(x[0] for x in psm_dict['psms']))\n",
    "            cnt_upep = psm_dict['n_upep']\n",
    "            if prey not in peptide_counts_dict[bait]:\n",
    "                peptide_counts_dict[bait][prey] = {\n",
    "                    'cnt_pep':cnt_pep,\n",
    "                    'cnt_upep':cnt_upep, \n",
    "                }\n",
    "            else:\n",
    "                peptide_counts_dict[bait][prey]['cnt_pep']  += cnt_pep\n",
    "                peptide_counts_dict[bait][prey]['cnt_upep'] += cnt_upep"
   ]
  },
  {
   "cell_type": "code",
   "execution_count": 4,
   "metadata": {
    "ExecuteTime": {
     "end_time": "2021-06-08T14:25:02.292778Z",
     "start_time": "2021-06-08T14:24:41.830834Z"
    }
   },
   "outputs": [
    {
     "name": "stdout",
     "output_type": "stream",
     "text": [
      "eliminated by entropy filter: 350279\n"
     ]
    }
   ],
   "source": [
    "min_entropy = 0.5\n",
    "cnt_low_ent  = 0\n",
    "dtypes = {'Experiment.ID':int, 'Bait':sanitize, 'Prey':sanitize, 'AvePSM':float, 'Z':float, 'WD':float, 'Entropy':float}\n",
    "comppass_out = []\n",
    "with open('BioPlex_comppass_output.csv', 'r') as f:\n",
    "    for n,l in enumerate(f):\n",
    "        fix_commas = {txt_field:txt_field.replace(',', '@') for txt_field in re.findall(r'\"([^\"]*)\"', l) if ',' in txt_field}\n",
    "        for txt_field in fix_commas:\n",
    "            l = l.replace(txt_field, fix_commas[txt_field])\n",
    "        ls = l.strip().split(',')\n",
    "        if n==0:\n",
    "            keys = [sanitize(x) for x in ls]\n",
    "            continue\n",
    "        line = dict(zip(keys, ls))\n",
    "        for i in line:\n",
    "            line[i] = dtypes[i](line[i])\n",
    "            if i in {'Bait', 'Prey'}:\n",
    "                line[i] = line[i].replace('@', ',')\n",
    "        if line['Entropy'] < min_entropy:\n",
    "            cnt_low_ent += 1\n",
    "            continue\n",
    "        bait, prey = line['Bait'], line['Prey']\n",
    "        line.update({\n",
    "            'cnt_upeps': peptide_counts_dict[bait][prey]['cnt_upep'],\n",
    "            'cnt_peps':  peptide_counts_dict[bait][prey]['cnt_pep'],\n",
    "            'Prey_Gene': 'unknown' if line['Prey'] not in prot_gene_dict else prot_gene_dict[line['Prey']],\n",
    "            'Batch':     bait_batch_dict[line['Bait']],\n",
    "            'is_alt':    is_alt(line['Prey']),\n",
    "            'excluded_by_binom_test': False\n",
    "        })\n",
    "        comppass_out.append(line)\n",
    "        \n",
    "print('eliminated by entropy filter:', cnt_low_ent)"
   ]
  },
  {
   "cell_type": "code",
   "execution_count": 5,
   "metadata": {
    "ExecuteTime": {
     "end_time": "2021-06-08T14:25:17.759734Z",
     "start_time": "2021-06-08T14:25:02.295349Z"
    }
   },
   "outputs": [
    {
     "name": "stdout",
     "output_type": "stream",
     "text": [
      "Total number of baits 3005\n"
     ]
    }
   ],
   "source": [
    "comppass_out_df = pd.DataFrame(comppass_out)\n",
    "comppass_out_df.to_csv('comppass_out_df.csv')\n",
    "comppass_out_df.head()\n",
    "print('Total number of baits', len(comppass_out_df.Bait.unique()))"
   ]
  },
  {
   "cell_type": "code",
   "execution_count": 6,
   "metadata": {
    "ExecuteTime": {
     "end_time": "2021-06-08T14:26:19.783548Z",
     "start_time": "2021-06-08T14:25:17.762034Z"
    }
   },
   "outputs": [
    {
     "name": "stdout",
     "output_type": "stream",
     "text": [
      "Total number of preys indentified: 8322\n",
      "Number of alt preys indentified: 262\n"
     ]
    }
   ],
   "source": [
    "preys              = comppass_out_df.Prey.unique()\n",
    "print('Total number of preys indentified:',len(preys))\n",
    "print('Number of alt preys indentified:', len(set([x for x in preys if is_alt(x)])))\n",
    "tot_ips            = sum(v for k,v in batch_n_wells.items())\n",
    "batch_prey_ip      = comppass_out_df.groupby(['Prey', 'Batch']).Bait.nunique()\n",
    "prey_tot_ip        = comppass_out_df.groupby('Prey').Bait.nunique().to_dict()\n",
    "prey_batches       = comppass_out_df.groupby('Prey').Batch.unique().to_dict()\n",
    "prey_batch         = comppass_out_df.groupby(['Prey', 'Batch']).count().reset_index()[['Prey', 'Batch']].values\n",
    "prey_batch_freq    = {(p, b) : batch_prey_ip[p][b] / batch_n_wells[b] for p,b in prey_batch}\n",
    "prey_tot_freq      = {p : prey_tot_ip[p] / tot_ips for p in preys}\n",
    "bait_batch_ave_psm = comppass_out_df.groupby(['Batch', 'Bait']).AvePSM.mean().to_dict()"
   ]
  },
  {
   "cell_type": "code",
   "execution_count": 7,
   "metadata": {
    "ExecuteTime": {
     "end_time": "2021-06-08T14:26:27.078236Z",
     "start_time": "2021-06-08T14:26:19.786597Z"
    }
   },
   "outputs": [
    {
     "data": {
      "text/plain": [
       "0.0029132252776136493"
      ]
     },
     "execution_count": 7,
     "metadata": {},
     "output_type": "execute_result"
    }
   ],
   "source": [
    "# pass all preys through binomial filter, adjusting p values to 1% fdr with Bejanimi Hochenberg\n",
    "batch_enriched_preys = []\n",
    "for n,prey in enumerate(preys):\n",
    "    if n>100:break\n",
    "    p_vals = []\n",
    "    p = prey_tot_freq[prey]\n",
    "    for batch in prey_batches[prey]:\n",
    "        p_val = binom_test(batch_prey_ip[prey][batch], batch_n_wells[batch], p, alternative='greater')\n",
    "        p_vals.append(p_val)\n",
    "    bh = sm.stats.multipletests(p_vals, alpha = 0.001, method='fdr_bh')\n",
    "    binom_test_res = list(zip(prey_batches[prey], [prey]*len(prey_batches[prey]),  bh[0]))\n",
    "    batch_enriched_preys += [(x[0], x[1]) for x in binom_test_res if x[2]]\n",
    "\n",
    "bep_set = set(batch_enriched_preys)\n",
    "len(bep_set) / len(comppass_out_df)"
   ]
  },
  {
   "cell_type": "code",
   "execution_count": 8,
   "metadata": {
    "ExecuteTime": {
     "end_time": "2021-06-08T14:26:27.520068Z",
     "start_time": "2021-06-08T14:26:27.082001Z"
    }
   },
   "outputs": [],
   "source": [
    "comppass_out_df = comppass_out_df.set_index(['Batch', 'Prey'])"
   ]
  },
  {
   "cell_type": "code",
   "execution_count": 9,
   "metadata": {
    "ExecuteTime": {
     "end_time": "2021-06-08T14:31:41.236189Z",
     "start_time": "2021-06-08T14:26:27.522681Z"
    }
   },
   "outputs": [
    {
     "name": "stdout",
     "output_type": "stream",
     "text": [
      "processed: 2:   0%|          | 1/2056 [00:00<05:46,  5.93it/s]"
     ]
    },
    {
     "name": "stderr",
     "output_type": "stream",
     "text": [
      "/home/sleblanc/anaconda3/lib/python3.7/site-packages/pandas/core/indexing.py:873: PerformanceWarning: indexing past lexsort depth may impact performance.\n",
      "  return self._getitem_tuple(key)\n",
      "/home/sleblanc/anaconda3/lib/python3.7/site-packages/IPython/core/interactiveshell.py:2877: PerformanceWarning: indexing past lexsort depth may impact performance.\n",
      "  raw_cell, store_history, silent, shell_futures)\n",
      "/home/sleblanc/anaconda3/lib/python3.7/site-packages/IPython/core/async_helpers.py:68: PerformanceWarning: indexing past lexsort depth may impact performance.\n",
      "  coro.send(None)\n"
     ]
    },
    {
     "name": "stdout",
     "output_type": "stream",
     "text": [
      "processed: 2057: 100%|██████████| 2056/2056 [05:13<00:00,  6.55it/s]\n"
     ]
    }
   ],
   "source": [
    "binom_test_exlusion = set()\n",
    "with tqdm(total=len(bep_set), file=sys.stdout) as pbar:\n",
    "    i=0\n",
    "    for bep in list(bep_set):\n",
    "        batch, prey = bep\n",
    "        batch_prey_baits_avepsms = comppass_out_df.loc[bep, ['Bait', 'AvePSM']].values\n",
    "        for bait_prey in batch_prey_baits_avepsms:\n",
    "            bait, avepsm = bait_prey\n",
    "            if  avepsm < bait_batch_ave_psm[(batch, bait)] :\n",
    "                comppass_out_df.loc[bep, 'excluded_by_binom_test'] = True\n",
    "        i+=1\n",
    "        pbar.set_description('processed: %d' % (1 + i))\n",
    "        pbar.update(1)"
   ]
  },
  {
   "cell_type": "code",
   "execution_count": 10,
   "metadata": {
    "ExecuteTime": {
     "end_time": "2021-06-08T14:32:56.563000Z",
     "start_time": "2021-06-08T14:31:41.238961Z"
    }
   },
   "outputs": [],
   "source": [
    "comppass_out_df = comppass_out_df.reset_index()\n",
    "\n",
    "comppass_out_df = comppass_out_df[~comppass_out_df['excluded_by_binom_test']]\n",
    "\n",
    "n_baits_by_prey = dict(comppass_out_df.groupby('Prey').Bait.nunique())\n",
    "prey_tot_psm = dict(comppass_out_df.groupby('Prey').AvePSM.sum())\n",
    "n_baits = comppass_out_df.Bait.nunique()\n",
    "\n",
    "comppass_out_df['Ratio']            = comppass_out_df.apply(lambda x: n_baits_by_prey[x['Prey']]/n_baits, axis=1)\n",
    "comppass_out_df['total_PSMs']       = comppass_out_df.apply(lambda x: prey_tot_psm[x['Prey']], axis=1)\n",
    "comppass_out_df['ratio_total_PSMs'] = comppass_out_df.apply(lambda x: prey_tot_psm[x['Prey']]/x['AvePSM'], axis=1)\n",
    "comppass_out_df['pep_bin']          = comppass_out_df.apply(lambda x: x['cnt_upeps'] if x['cnt_upeps']<10 else 10, axis=1)\n",
    "comppass_out_df['pep_ratio']        = comppass_out_df.apply(lambda x: x['cnt_upeps'] / x['cnt_peps'], axis=1)\n",
    "\n",
    "batch_prey_psms = comppass_out_df.groupby(['Batch', 'Prey']).AvePSM.apply(list)\n",
    "prey_batches    = comppass_out_df.groupby('Prey').Batch.apply(list)"
   ]
  },
  {
   "cell_type": "code",
   "execution_count": 11,
   "metadata": {
    "ExecuteTime": {
     "end_time": "2021-06-08T14:32:56.573343Z",
     "start_time": "2021-06-08T14:32:56.566244Z"
    }
   },
   "outputs": [],
   "source": [
    "def compute_batch_dist(prey):\n",
    "    batch_prey_psm_dist = {}\n",
    "    for batch in prey_batches[prey]:\n",
    "        psm_ls = batch_prey_psms[batch][prey]\n",
    "        if all(x == psm_ls[0] for x in psm_ls): \n",
    "            psm_ls[0] += 0.5\n",
    "        psms = psm_ls + [0]*(batch_n_wells[batch] - len(psm_ls))\n",
    "        batch_prey_psm_dist[(batch, prey)] = (np.mean(psms), np.std(psms))\n",
    "    return batch_prey_psm_dist"
   ]
  },
  {
   "cell_type": "code",
   "execution_count": 12,
   "metadata": {
    "ExecuteTime": {
     "end_time": "2021-06-08T14:37:26.514938Z",
     "start_time": "2021-06-08T14:32:56.575683Z"
    }
   },
   "outputs": [],
   "source": [
    "preys = comppass_out_df.Prey.unique()\n",
    "batch_prey_psm_dists = []\n",
    "with Pool(8) as p:\n",
    "    batch_prey_psm_dists.append(p.map(compute_batch_dist, preys))\n",
    "\n",
    "batch_prey_psm_dist = {}\n",
    "for p in batch_prey_psm_dists[0]:\n",
    "    batch_prey_psm_dist.update(p)"
   ]
  },
  {
   "cell_type": "code",
   "execution_count": 13,
   "metadata": {
    "ExecuteTime": {
     "end_time": "2021-06-08T14:37:50.944819Z",
     "start_time": "2021-06-08T14:37:26.517524Z"
    }
   },
   "outputs": [],
   "source": [
    "# bin features in 1000 equally sized bins\n",
    "comppass_out_df['batch_Z'] = comppass_out_df.apply(lambda x: batch_Z(x['Batch'], x['Prey'], x['AvePSM'], batch_prey_psm_dist), axis=1)\n",
    "for feat in feats:\n",
    "    comppass_out_df[feat+'_binned'] = pd.cut(comppass_out_df[feat], bin_feature(comppass_out_df[feat]), labels=False, retbins=True, right=True)[0]"
   ]
  },
  {
   "cell_type": "code",
   "execution_count": 14,
   "metadata": {
    "ExecuteTime": {
     "end_time": "2021-06-08T14:37:51.031804Z",
     "start_time": "2021-06-08T14:37:50.947731Z"
    }
   },
   "outputs": [
    {
     "data": {
      "text/plain": [
       "262"
      ]
     },
     "execution_count": 14,
     "metadata": {},
     "output_type": "execute_result"
    }
   ],
   "source": [
    "len([x for x in comppass_out_df.Prey.unique() if is_alt(x)])"
   ]
  },
  {
   "cell_type": "code",
   "execution_count": 15,
   "metadata": {
    "ExecuteTime": {
     "end_time": "2021-06-08T14:37:53.752765Z",
     "start_time": "2021-06-08T14:37:51.033878Z"
    }
   },
   "outputs": [],
   "source": [
    "!cp BP2_OP16_features.csv BP2_OP16_features.csv.back"
   ]
  },
  {
   "cell_type": "code",
   "execution_count": 16,
   "metadata": {
    "ExecuteTime": {
     "end_time": "2021-06-08T14:38:14.816996Z",
     "start_time": "2021-06-08T14:37:53.757243Z"
    }
   },
   "outputs": [],
   "source": [
    "comppass_out_df.to_csv('BP2_OP16_features.csv')"
   ]
  }
 ],
 "metadata": {
  "kernelspec": {
   "display_name": "Python 3",
   "language": "python",
   "name": "python3"
  },
  "language_info": {
   "codemirror_mode": {
    "name": "ipython",
    "version": 3
   },
   "file_extension": ".py",
   "mimetype": "text/x-python",
   "name": "python",
   "nbconvert_exporter": "python",
   "pygments_lexer": "ipython3",
   "version": "3.7.3"
  }
 },
 "nbformat": 4,
 "nbformat_minor": 4
}
