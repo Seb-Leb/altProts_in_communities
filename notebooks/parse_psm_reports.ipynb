{
 "cells": [
  {
   "cell_type": "code",
   "execution_count": 3,
   "metadata": {
    "ExecuteTime": {
     "end_time": "2021-06-28T18:52:11.455085Z",
     "start_time": "2021-06-28T18:51:32.845792Z"
    }
   },
   "outputs": [],
   "source": [
    "from altProts_in_communities.utils import *\n",
    "from altProts_in_communities.parse_psms import *"
   ]
  },
  {
   "cell_type": "code",
   "execution_count": 4,
   "metadata": {
    "ExecuteTime": {
     "end_time": "2021-06-28T18:55:46.211654Z",
     "start_time": "2021-06-28T18:52:11.458390Z"
    },
    "code_folding": []
   },
   "outputs": [],
   "source": [
    "if os.path.exists('OP16_bioplex_all_psms.pkl'):\n",
    "    bioplex_psms = pickle.load(open('OP16_bioplex_all_psms.pkl', 'rb'))\n",
    "else:\n",
    "    with Pool(10) as p:\n",
    "        all_psms = p.map(get_all_psms, all_baits)\n",
    "\n",
    "    bioplex_psms = {}\n",
    "    for bait_psms in all_psms:\n",
    "        bioplex_psms.update(bait_psms)\n",
    "\n",
    "    pickle.dump(bioplex_psms, open('OP16_bioplex_all_psms.pkl', 'wb'))"
   ]
  },
  {
   "cell_type": "code",
   "execution_count": 5,
   "metadata": {
    "ExecuteTime": {
     "end_time": "2021-06-28T18:55:46.748111Z",
     "start_time": "2021-06-28T18:55:46.225154Z"
    },
    "code_folding": []
   },
   "outputs": [
    {
     "name": "stdout",
     "output_type": "stream",
     "text": [
      "count unique peptides: 910\n",
      "count altProts: 426\n",
      "count altProt genes: 414\n"
     ]
    }
   ],
   "source": [
    "all_alt_psms = []\n",
    "alt_peptides = []\n",
    "for bait, bait_exps in bioplex_psms.items():\n",
    "    for exp_id, exp_dict in bait_exps['exps'].items():\n",
    "        for prey, prey_dict in exp_dict['psms'].items():\n",
    "            if 'IP_' in prey:\n",
    "                all_alt_psms.extend(prey_dict['psms'])\n",
    "                for pep, spec in prey_dict['psms']:\n",
    "                    alt_peptides.append((prey, bait, pep))\n",
    "\n",
    "unique_altpeps = list(set([x[-1] for x in alt_peptides]))\n",
    "print('count unique peptides:', len(unique_altpeps))\n",
    "print('count altProts:', len(set(x[0] for x in alt_peptides)))\n",
    "print('count altProt genes:', len(set(x[0].split('|')[0] for x in alt_peptides)))\n",
    "with open('peptides_for_nextprot.txt', 'w') as f:\n",
    "    f.write(', '.join(unique_altpeps))"
   ]
  },
  {
   "cell_type": "code",
   "execution_count": 6,
   "metadata": {
    "ExecuteTime": {
     "end_time": "2021-06-28T18:55:46.762181Z",
     "start_time": "2021-06-28T18:55:46.751299Z"
    },
    "code_folding": [
     0
    ]
   },
   "outputs": [
    {
     "name": "stdout",
     "output_type": "stream",
     "text": [
      "count peptides rejected: 18\n"
     ]
    }
   ],
   "source": [
    "# nextprot rejects\n",
    "nexprot_rejects = \"KALSKQEMVSASSSQRGR,QHHCPNTPIILVGTK,LLQDFINGK,MHAQDFTVSAMHGDMDQK,SYSPYDMLESIKK,NTLTGKTITLEVEPSDTIENVK,PIEEIIVQDGK,AVSLSLPR,ALTFWNEEIVPQIK,ILLLAELR,\\\n",
    "IACTGEKLDEREAGITEK,MLNKPIEEIIVQDGK,IHTGEKPNICEECGK,IINKPTAAAIAYGLDK,SGGTLVLVGLGSEMTTVPLLHAA,ESTLHLVLRR,DGNASGTMLLEALDCILPPTRPTDKPLR,LTHSLGWGTGSGMGTLLISK,\\\n",
    "MKIFVKTLTGKTITLEVEPSDTIENVK,KPMQFLGDEEMVRKAMEAVAAQGK,LLELVGQSLLR,VFIEDVIR,DCRATWVVLGHSER,LGLDVEIATYRK,TTGIVMDSGDGFTHTVPIYEGNALPH,PDNVTFEEGALIDPLSVGIHACRR,IINDTENLVR,\\\n",
    "NQLTSNPKNTVFDAK,DVDEVSSLLR,LQQESTFLFHGSKTEDTPDKK,DLQNVNITLRIIFQPVASQLPR,SFNCMPIEGMLSHQLK,DVVLHQTSGHIHNK,ETPVTHLYFGR,IQDEEGIPPDQQR,QQGKVEIIANDQGNR,LGLDVEIATYR,NKPIEEIIVQDGK,\\\n",
    "KTDPSSLGATSASFNFGEK,QYQEVMNSK,SGGTLVLVGLGSEMTTVPLLH,QLEDGRSLSDYNIQKESTLHLVLR,QSKPVTTPEEIAQVAMISANGDK,LEAIREDFLHER,SVMEEVLIPDEDYSLDEIHTEVSK,LAELEDALQK,VRLELTELEAIREDFLHER,\\\n",
    "YPIEHSIITNWDDMEK,TLVLVGLGSEMTTVPLLHAAIR,TLSNYNIQKESTLHLVLR,SGGTLVLVGLGSEMTTVPLLHAAIR,LTADLSAETLQAR,RLTQLSVMEEVLIPDEDYSLDEIHTEVSK,DGNASGTMLLEALDCILPPTRPTDKPLR,EETPVTHLYF,\\\n",
    "LTHSLGWGTGSGMGTLLISK,MRKAMEAVAAQGK,HISEQFTAMFR,STLHLVLRR,DGNASGTMLLEALDCILPPTRPTDK,LRIIFQPVASQLPR,VWFPDVMPL,EDYSLDEIHTEVSK,TFWNEEIVPQIK,ISISFGDLNPFPVR,ESTLHLVLRR,\\\n",
    "GVGISVLEMSHRPSDFAKI,KSGDAAIADMVPGKPMCVESFSDYPPLGR,RALTFWNEEIVPQIK,SGGTLVLVGLGSEMTTVPL,LELTELEAIREDFLHER,EETPVTHLYFGR,MISANGDKEIGNIISDAMK,LYEEEFETFFK,\\\n",
    "GTLVLVGLGSEMTTVPLLHAAIR,EDQTEYLEERK,KPTAAAIAYGLDK,VSEIHMTGPMCLIENTNGR,FQPVASQLPR,LGLDVEIATYRK,QQLDGCVTKCVDDHMHLIPTMTK,SGDAAIADMVPGKPMCVESFSDYPPLGR,IINDTENLVR,IINNAENLVR,\\\n",
    "TPVTHLYFGR,ADDAGAVGGPGGPGGPGMGNR,RHLPVFTYTDER,FGDLNPFPVR,HLPVFTYTDER,LPVFTYTDER,PRPLLLGR,MLNKPIEEIIVQDGK,GILGYTEHQVVSSDFNSNTHS,ADDAGAVGGPGGPGGPGMGNRGGFR,\\\n",
    "AKWYPEVQHHCPNTPIILVGTK,GCVTKCVDDHMHLIPTMTK,LLLVSFDSFR,SSNELVDDLFK,QTLAVGVIK,LPDNVTFEEGALIDPLSVGIHACRR,SGGTLVLVGLGSEMTTVPLLHAAIREVDIK,PIEEIIVQDGK,ALSKQEMVSASSSQRGR,\\\n",
    "LTQLSVMEEVLIPDEDYSLDEIHTEVSK,LISISFGDLNPFPVR,RSGGTLVLVGLGSEMTTVPLLHAAIR,VAHLIEWKGWSAQR,NTLTGKTITLEVEPSDTIENVK,ILLLAELR,HQGVMVGIGQK,ALTFWNEEIVPQIK,FGTINIIHPK,\\\n",
    "NQLTSNPKNTVFDAK,PVTHLYFGR,AVSLSLPR,IIFQPVASQLPR,SGPFGQIYRPDNFVFGQSGAGNNWAK,THINIVVIGHVNSGK,GVVVGDGAVGK,KDGNASGTMLLEALDCILPPTRPTDKPLR,NKPIEEIIVQDGK,LAELEDALQK,\\\n",
    "SFIIKLQR,VEKSYELPDGQVITIGNER,RIIFQPVASQLPR,LGLDVEIATYR,IVSNTSCTTNCLAPLAK,FWEVISDK,VFIEDVIR,EEMVRKAMEAVAAQGK,EWGPIFNILK\"\n",
    "\n",
    "# isobaric\n",
    "exclude_peptides = {'NKPIEEIIVQDGK' ,'PIEEIIVQDGK', 'MLNKPIEEIIVQDGK', 'IINDTENLVR'}\n",
    "\n",
    "# saav peptides not relevant in HEK293T\n",
    "rescued_saav_peptides = pickle.load(open('rescued_saav_peptides.pkl', 'rb'))\n",
    "\n",
    "nexprot_rejects = set(nexprot_rejects.split(',')).union(exclude_peptides).difference(rescued_saav_peptides)\n",
    "print('count peptides rejected:', len(nexprot_rejects))"
   ]
  },
  {
   "cell_type": "code",
   "execution_count": 7,
   "metadata": {
    "ExecuteTime": {
     "end_time": "2021-06-28T18:55:46.812943Z",
     "start_time": "2021-06-28T18:55:46.764562Z"
    },
    "code_folding": []
   },
   "outputs": [
    {
     "name": "stdout",
     "output_type": "stream",
     "text": [
      "all pairs: 1148\n",
      "rejected: 7\n"
     ]
    }
   ],
   "source": [
    "all_pairs, rejected_pairs = set(), set()\n",
    "for alt_bait, pep_grp in itt.groupby(sorted(alt_peptides), key=lambda x: x[:2]):\n",
    "    pep_set = set([x[-1] for x in pep_grp])\n",
    "    cnt_pep = len(pep_set)\n",
    "    cnt_rejected = len(pep_set.intersection(nexprot_rejects))\n",
    "    all_pairs.add(alt_bait)\n",
    "    if cnt_rejected == cnt_pep:\n",
    "        if 'UBBP4' in alt_bait[0]:\n",
    "            print(pep_set.intersection(nexprot_rejects), pep_set)\n",
    "        rejected_pairs.add(alt_bait)\n",
    "print('all pairs:', len(all_pairs))\n",
    "print('rejected:', len(rejected_pairs))"
   ]
  },
  {
   "cell_type": "code",
   "execution_count": 8,
   "metadata": {
    "ExecuteTime": {
     "end_time": "2021-06-28T18:55:46.838497Z",
     "start_time": "2021-06-28T18:55:46.815389Z"
    }
   },
   "outputs": [],
   "source": [
    "all_alt_psms = [x for x in all_alt_psms if x[0] not in nexprot_rejects]\n",
    "pickle.dump(all_alt_psms, open('all_alt_psms.pkl', 'wb'))"
   ]
  },
  {
   "cell_type": "code",
   "execution_count": 9,
   "metadata": {
    "ExecuteTime": {
     "end_time": "2021-06-28T18:56:05.534835Z",
     "start_time": "2021-06-28T18:55:46.841307Z"
    },
    "code_folding": []
   },
   "outputs": [],
   "source": [
    "reports_all_alts = {}\n",
    "for bait, exps in bioplex_psms.items():\n",
    "    for exp_id, psms in exps['exps'].items():\n",
    "        for protgrp_psms in psms['protgrp_psms_valid_clean'].values():\n",
    "            for prot_acc, gene in protgrp_psms['prot_accs_genes']:\n",
    "                if is_alt(prot_acc):\n",
    "                    couple = ('|'.join([gene, prot_acc]), bait)\n",
    "                    if couple in rejected_pairs: continue\n",
    "                    if prot_acc not in reports_all_alts:\n",
    "                        reports_all_alts[prot_acc] = {'baits':set(), 'exp_ids':set(), 'psms':[], 'prot_group':[], 'gene':gene}\n",
    "                    reports_all_alts[prot_acc]['baits'].add(bait)\n",
    "                    reports_all_alts[prot_acc]['exp_ids'].add(exp_id)\n",
    "                    reports_all_alts[prot_acc]['psms'].extend(protgrp_psms['psms'])\n",
    "                    reports_all_alts[prot_acc]['prot_group'].extend(protgrp_psms['prot_accs_genes'])\n",
    "\n",
    "pickle.dump(reports_all_alts, open('reports_all_alts.pkl', 'wb'))"
   ]
  },
  {
   "cell_type": "code",
   "execution_count": 10,
   "metadata": {
    "ExecuteTime": {
     "end_time": "2021-06-28T18:56:06.399156Z",
     "start_time": "2021-06-28T18:56:05.539501Z"
    }
   },
   "outputs": [],
   "source": [
    "reports_alts = {}\n",
    "for bait, exps in bioplex_psms.items():\n",
    "    for exp_id, psms in exps['exps'].items():\n",
    "        for prot_acc, psms_dict in psms['psms'].items():\n",
    "            if is_alt(prot_acc):\n",
    "                if (prot_acc, bait) in rejected_pairs: continue\n",
    "                gene, prot_acc = prot_acc.split('|')\n",
    "                if prot_acc not in reports_alts:\n",
    "                    reports_alts[prot_acc] = {'baits':set(), 'exp_ids':set(), 'psms':[], 'prot_group':[], 'gene':gene}\n",
    "                reports_alts[prot_acc]['baits'].add(bait)\n",
    "                reports_alts[prot_acc]['exp_ids'].add(exp_id)\n",
    "                reports_alts[prot_acc]['psms'].extend(psms_dict['psms'])\n",
    "pickle.dump(reports_alts, open('reports_alts.pkl', 'wb'))"
   ]
  },
  {
   "cell_type": "code",
   "execution_count": 11,
   "metadata": {
    "ExecuteTime": {
     "end_time": "2021-06-28T18:56:06.452969Z",
     "start_time": "2021-06-28T18:56:06.402323Z"
    }
   },
   "outputs": [],
   "source": [
    "for alt_acc, psm_dict in reports_alts.items():\n",
    "    psm_dict['pep_bait_rep_cnts'] = get_pep_bait_rep_cnts(psm_dict['psms'])\n",
    "    psm_dict['bait_rep_cnts']     = Counter([rep_bait_dict[exp] for exp in list(psm_dict['exp_ids'])])\n",
    "    psm_dict['bait_peps']         = get_bait_peps(psm_dict['psms'])"
   ]
  },
  {
   "cell_type": "code",
   "execution_count": 12,
   "metadata": {
    "ExecuteTime": {
     "end_time": "2021-06-28T18:56:06.469520Z",
     "start_time": "2021-06-28T18:56:06.455685Z"
    }
   },
   "outputs": [],
   "source": [
    "alt_detected_pep_cnt = dict([(alt_acc, len(set(pep for pep, spec in d['psms']))) for alt_acc, d in reports_all_alts.items() if len(d['exp_ids']) >= len(d['baits'])*2])\n",
    "pickle.dump(alt_detected_pep_cnt, open('bioplex_altprot_pep_cnt.pkl', 'wb'))\n",
    "\n",
    "alt_detected_peps = [(alt_acc, set(pep for pep, spec in d['psms'])) for alt_acc, d in reports_all_alts.items() if len(d['exp_ids']) >= len(d['baits'])*2]"
   ]
  },
  {
   "cell_type": "code",
   "execution_count": 31,
   "metadata": {
    "ExecuteTime": {
     "end_time": "2021-06-04T17:23:46.199207Z",
     "start_time": "2021-06-04T17:23:46.196385Z"
    }
   },
   "outputs": [],
   "source": [
    "# PepQuery notebook ..."
   ]
  },
  {
   "cell_type": "code",
   "execution_count": 13,
   "metadata": {
    "ExecuteTime": {
     "end_time": "2021-06-28T18:56:06.557007Z",
     "start_time": "2021-06-28T18:56:06.471870Z"
    }
   },
   "outputs": [
    {
     "name": "stdout",
     "output_type": "stream",
     "text": [
      "552 edges involving 280 alts have been validated by PepQuery.\n"
     ]
    }
   ],
   "source": [
    "psms_by_prots = pickle.load(open('BioPlex_PepQ_psms_by_prots.pkl', 'rb'))\n",
    "\n",
    "pepq_alts = []\n",
    "validated_alt_baits = {}\n",
    "pepq_validated_edges = set()\n",
    "for alt_acc, psms in psms_by_prots.items():\n",
    "    gene = prot_gene_dict[alt_acc]\n",
    "    reps_per_bait = {}\n",
    "    for bait, bait_reps in itt.groupby(sorted([(psm['bait'], psm['exp_name']) for psm in psms]), key=lambda x: x[0]):\n",
    "        reps_per_bait[bait] = list(set([x[1] for x in bait_reps]))\n",
    "    for bait in [k for k,v in reps_per_bait.items() if len(v)>=1]:\n",
    "        if alt_acc in validated_alt_baits:\n",
    "            validated_alt_baits[alt_acc][bait] = reps_per_bait[bait]\n",
    "        else:\n",
    "            validated_alt_baits[alt_acc] = {bait:reps_per_bait[bait],}\n",
    "        pepq_alts.append(alt_acc)\n",
    "        alt_gene_acc = '|'.join([alt_acc, gene])\n",
    "        pepq_validated_edges.add(frozenset((bait, alt_gene_acc)))\n",
    "pepq_alts = list(set(pepq_alts))\n",
    "print('{} edges involving {} alts have been validated by PepQuery.'.format(len(pepq_validated_edges), len(pepq_alts)))"
   ]
  },
  {
   "cell_type": "code",
   "execution_count": 14,
   "metadata": {
    "ExecuteTime": {
     "end_time": "2021-06-28T18:56:06.642727Z",
     "start_time": "2021-06-28T18:56:06.559672Z"
    }
   },
   "outputs": [],
   "source": [
    "psm_fields = ['exp_name', 'spectrum_title', 'peptide', 'modification', 'score', 'is_tryptic', 'include_anyway']\n",
    "pepq_val_summary = {}\n",
    "for alt_acc, psms in psms_by_prots.items():\n",
    "    gene = prot_gene_dict[alt_acc]\n",
    "    pepq_val_summary[alt_acc] = {}\n",
    "    if alt_acc in validated_alt_baits: # alts will only be in here if they have been validated, otherwise no entry in that dict..\n",
    "        baits = validated_alt_baits[alt_acc]\n",
    "        for psm in psms:\n",
    "            bait = psm['bait']\n",
    "            if bait in baits:\n",
    "                if bait not in pepq_val_summary[alt_acc]:\n",
    "                    pepq_val_summary[alt_acc][bait] = []\n",
    "                    \n",
    "                spec_peps = set((x['spectrum_title'], x['peptide']) for x in pepq_val_summary[alt_acc][bait])\n",
    "                if (psm['spectrum_title'], psm['peptide']) in spec_peps: continue\n",
    "                val_psm = dict(zip(psm_fields, (psm[k] for k in psm_fields)))    \n",
    "                ptms_scores = [(x['modification'], x['score']) for x in pepq_val_summary[alt_acc][bait] if x['spectrum_title']==psm['spectrum_title'] and psm['peptide']==x['peptide']]\n",
    "                if ptms_scores:\n",
    "                    ptm, score = sorted(ptms_scores, key=lambda x: -x[1])[0]\n",
    "                    val_psm['modification'] = ptm\n",
    "                    val_psm['score'] = score\n",
    "                pepq_val_summary[alt_acc][bait].append(val_psm)"
   ]
  },
  {
   "cell_type": "code",
   "execution_count": 15,
   "metadata": {
    "ExecuteTime": {
     "end_time": "2021-06-28T18:56:06.741945Z",
     "start_time": "2021-06-28T18:56:06.645484Z"
    }
   },
   "outputs": [],
   "source": [
    "# wirte altprot identifications\n",
    "detection_summary = []\n",
    "with open('/home/xroucou_group/echange_de_fichiers/bioplex/bioplex_alt_prot_detection_summary.tsv', 'w') as f:\n",
    "    writer = csv.writer(f, delimiter='\\t')\n",
    "    writer.writerow(['prey', 'gene', 'bait', 'experiment id', 'spectrum title', 'PepQ validated'])\n",
    "    for alt_acc, d in reports_all_alts.items():\n",
    "        if len(d['exp_ids']) >= len(d['baits'])*2:\n",
    "            for pep_seq, spec in d['psms']:\n",
    "                exp_id = spec.split('.')[0]\n",
    "                bait = rep_bait_dict[exp_id]\n",
    "                pepqval = False\n",
    "                if alt_acc in pepq_val_summary and bait in pepq_val_summary[alt_acc]:\n",
    "                    if any([(x['peptide']==pep_seq and x['exp_name']==exp_id) for x in pepq_val_summary[alt_acc][bait]]):\n",
    "                        pepqval = True\n",
    "                writer.writerow([alt_acc, d['gene'], bait, exp_id, spec, pepqval])\n",
    "                detection_summary.append([alt_acc, d['gene'], bait, exp_id, spec, pepqval])\n",
    "pickle.dump(detection_summary, open('detection_summary.pkl', 'wb'))"
   ]
  },
  {
   "cell_type": "code",
   "execution_count": 16,
   "metadata": {
    "ExecuteTime": {
     "end_time": "2021-06-28T18:56:17.314445Z",
     "start_time": "2021-06-28T18:56:06.744527Z"
    },
    "code_folding": [
     1
    ]
   },
   "outputs": [],
   "source": [
    "comppass_scores = {}\n",
    "with open('BP2_OP16_features.csv', 'r') as f:\n",
    "    reader = csv.reader(f)\n",
    "    for n, row in enumerate(reader):\n",
    "        if n==0:\n",
    "            cols = row\n",
    "            continue\n",
    "        feat = dict(zip(cols, row))\n",
    "        comppass_scores[(feat['Bait'], feat['Prey'].split('|')[0])] = {\n",
    "            'Z':feat['Z'],\n",
    "            'WD':feat['WD'],\n",
    "            'entropy':feat['Entropy']\n",
    "        }"
   ]
  },
  {
   "cell_type": "code",
   "execution_count": 17,
   "metadata": {
    "ExecuteTime": {
     "end_time": "2021-06-28T18:56:21.015362Z",
     "start_time": "2021-06-28T18:56:17.318373Z"
    }
   },
   "outputs": [],
   "source": [
    "predictions = pickle.load(open('HCIP_pred_BioPlex_OP16.pkl', 'rb'))\n",
    "\n",
    "clf_scores = {(x[1], x[2].split('|')[0]):x[-1][1] for x in predictions}"
   ]
  },
  {
   "cell_type": "code",
   "execution_count": 18,
   "metadata": {
    "ExecuteTime": {
     "end_time": "2021-06-28T18:56:21.023236Z",
     "start_time": "2021-06-28T18:56:21.018312Z"
    }
   },
   "outputs": [],
   "source": [
    "pseudo_parent_dict = pickle.load(open('pseudo_parent_dict.pkl', 'rb'))"
   ]
  },
  {
   "cell_type": "code",
   "execution_count": 19,
   "metadata": {
    "ExecuteTime": {
     "end_time": "2021-06-28T18:56:22.284461Z",
     "start_time": "2021-06-28T18:56:21.025873Z"
    }
   },
   "outputs": [],
   "source": [
    "all_pepq_peps = []\n",
    "ev2 = []\n",
    "for alt_acc, psm_dict in list(reports_alts.items()):\n",
    "    for bait in psm_dict['baits']:\n",
    "        peps = psm_dict['bait_peps'][bait]\n",
    "        coverage = get_coverage(alt_acc, peps)\n",
    "        non_nested_peps = get_nonnested_peps(alt_acc, peps, margin=2)\n",
    "        peps_2reps = [pep for pep in list(peps) if psm_dict['pep_bait_rep_cnts'][pep][bait]>0]\n",
    "        pepq_peps = set()\n",
    "        if alt_acc in pepq_val_summary and bait in pepq_val_summary[alt_acc]:\n",
    "            pepq_peps = set(psm['peptide'] for psm in pepq_val_summary[alt_acc][bait] if psm['peptide'] not in exclude_peptides)\n",
    "            all_pepq_peps.extend(list(pepq_peps))\n",
    "            \n",
    "        bait_prey = (bait, alt_acc)\n",
    "        if bait_prey in comppass_scores:\n",
    "            Z, WD, s = [comppass_scores[bait_prey][score] for score in ['Z', 'WD', 'entropy']]\n",
    "        else:\n",
    "            Z, WD, s = [0]*3\n",
    "            \n",
    "        if bait_prey in clf_scores:\n",
    "            clf_score = clf_scores[bait_prey]\n",
    "        else:\n",
    "            clf_score = 'NA'\n",
    "        prey_gene = psm_dict['gene']\n",
    "        ev2.append(\n",
    "            {\n",
    "                'Bait':bait, \n",
    "                'Prey':alt_acc.replace('IP_2287811', 'IP_243680'), \n",
    "                'Prey Gene':prey_gene,\n",
    "                'alt-ref same gene': 1 if prey_gene == bait else 0,\n",
    "                'alt-ref pseudogene': 1 if prey_gene in pseudo_parent_dict and pseudo_parent_dict[prey_gene]['parent'] == bait else 0,\n",
    "                'Count Replicates':psm_dict['bait_rep_cnts'][bait], \n",
    "                'Count Total Unique Peptides':len(non_nested_peps), \n",
    "                'Total Unique Peptides':'|'.join(list(non_nested_peps)),\n",
    "                'Detected Coverage':coverage,\n",
    "                'Peptides Set Meets HPP PE1':1 if pepset_is_HPP(alt_acc, non_nested_peps) else 0,\n",
    "                'Count Unique Peptides (min. 2 rep.)':len(peps_2reps), \n",
    "                'Count Unique Peptides Validated PepQuery':len(pepq_peps),\n",
    "                'PepQ Peptides':'|'.join(list(pepq_peps)),\n",
    "                'Z score':Z,\n",
    "                'WD score':WD,\n",
    "                'entropy':s,\n",
    "                'HCIP classifier score':clf_score\n",
    "            }\n",
    "        )"
   ]
  },
  {
   "cell_type": "code",
   "execution_count": 20,
   "metadata": {
    "ExecuteTime": {
     "end_time": "2021-06-28T18:56:22.306954Z",
     "start_time": "2021-06-28T18:56:22.287453Z"
    }
   },
   "outputs": [],
   "source": [
    "cols = (\n",
    "    'Bait',\n",
    "    'Prey',\n",
    "    'Prey Gene',\n",
    "    'alt-ref same gene',\n",
    "    'alt-ref pseudogene',\n",
    "    'Count Replicates',\n",
    "    'Count Total Unique Peptides',\n",
    "    'Total Unique Peptides',\n",
    "    'Detected Coverage',\n",
    "    'Peptides Set Meets HPP PE1',\n",
    "    'Count Unique Peptides Validated PepQuery',\n",
    "    'PepQ Peptides',\n",
    "    'Z score',\n",
    "    'WD score',\n",
    "    'entropy',\n",
    "    'HCIP classifier score'\n",
    ")\n",
    "with open('bioplex_tables/Table_EV2.tsv', 'w') as f:\n",
    "    writer = csv.writer(f, delimiter='\\t')\n",
    "    writer.writerow(cols)\n",
    "    for row in ev2:\n",
    "        writer.writerow([row[col] for col in cols])"
   ]
  },
  {
   "cell_type": "code",
   "execution_count": 21,
   "metadata": {
    "ExecuteTime": {
     "end_time": "2021-06-28T18:56:22.910591Z",
     "start_time": "2021-06-28T18:56:22.309151Z"
    }
   },
   "outputs": [],
   "source": [
    "from openpyxl import Workbook\n",
    "from openpyxl.utils import get_column_letter\n",
    "from openpyxl.styles import PatternFill, Border, Side, Alignment, Protection, Font\n",
    "\n",
    "wb = Workbook()\n",
    "dest_filename = 'bioplex_tables/Table_EV2.xlsx'\n",
    "ws1 = wb.active\n",
    "ws1.title = \"EV2\"\n",
    "ws1.append(cols)\n",
    "for n, row in enumerate(ev2):\n",
    "    row_idx = n+2\n",
    "    ws1.append([row[col] for col in cols])\n",
    "    \n",
    "wb.save(filename = dest_filename)"
   ]
  },
  {
   "cell_type": "code",
   "execution_count": 22,
   "metadata": {
    "ExecuteTime": {
     "end_time": "2021-06-28T18:56:22.922285Z",
     "start_time": "2021-06-28T18:56:22.912984Z"
    }
   },
   "outputs": [
    {
     "data": {
      "text/plain": [
       "68"
      ]
     },
     "execution_count": 22,
     "metadata": {},
     "output_type": "execute_result"
    }
   ],
   "source": [
    "# count alts that meet HPP PE1\n",
    "len(set([x['Prey'] for x in ev2 if x['Peptides Set Meets HPP PE1']>0]))"
   ]
  },
  {
   "cell_type": "code",
   "execution_count": 21,
   "metadata": {
    "ExecuteTime": {
     "end_time": "2021-06-16T20:39:08.857678Z",
     "start_time": "2021-06-16T20:39:02.630762Z"
    }
   },
   "outputs": [],
   "source": [
    "check_pepq = True\n",
    "cnt_upep_dict = {}\n",
    "comppass = []\n",
    "for bait in bioplex_psms:\n",
    "    for exp_id in bioplex_psms[bait]['exps']:\n",
    "        for prey in bioplex_psms[bait]['exps'][exp_id]['psms']:\n",
    "            psm_ls = bioplex_psms[bait]['exps'][exp_id]['psms'][prey]['psms']\n",
    "            if 'KRT' in prey: continue # filter out kreatins\n",
    "            if is_alt(prey):\n",
    "                if check_pepq:\n",
    "                    gene, alt_acc = prey.split('|')\n",
    "                    if alt_acc not in pepq_val_summary \\\n",
    "                    or bait not in pepq_val_summary[alt_acc] \\\n",
    "                    or all(not pep['include_anyway'] for pep in pepq_val_summary[alt_acc][bait]):\n",
    "                        continue\n",
    "                \n",
    "            cnt_psms = len(bioplex_psms[bait]['exps'][exp_id]['psms'][prey]['psms'])\n",
    "            if cnt_psms<1:continue\n",
    "            cnt_upep_dict[(bait, prey, exp_id)] = bioplex_psms[bait]['exps'][exp_id]['psms'][prey]['n_upep']\n",
    "            # Experiment.ID,Replicate,Experiment.Type,Bait,Prey,Spectral.Count\n",
    "            comppass.append((bait_num_dict[bait], exp_id, 'True', bait, prey, cnt_psms))"
   ]
  },
  {
   "cell_type": "code",
   "execution_count": 22,
   "metadata": {
    "ExecuteTime": {
     "end_time": "2021-06-16T20:39:09.457988Z",
     "start_time": "2021-06-16T20:39:08.860566Z"
    }
   },
   "outputs": [
    {
     "data": {
      "text/plain": [
       "263"
      ]
     },
     "execution_count": 22,
     "metadata": {},
     "output_type": "execute_result"
    }
   ],
   "source": [
    "len(set(x[4] for x in comppass if is_alt(x[4])))"
   ]
  },
  {
   "cell_type": "code",
   "execution_count": 24,
   "metadata": {
    "ExecuteTime": {
     "end_time": "2021-06-16T20:39:54.139378Z",
     "start_time": "2021-06-16T20:39:53.076901Z"
    }
   },
   "outputs": [
    {
     "data": {
      "text/plain": [
       "8972"
      ]
     },
     "execution_count": 24,
     "metadata": {},
     "output_type": "execute_result"
    }
   ],
   "source": [
    "len(set(x[4] for x in comppass if not is_alt(x[4])))"
   ]
  },
  {
   "cell_type": "code",
   "execution_count": 16,
   "metadata": {
    "ExecuteTime": {
     "end_time": "2021-06-08T13:42:45.340846Z",
     "start_time": "2021-06-08T13:42:41.354280Z"
    }
   },
   "outputs": [],
   "source": [
    "# write full table for CompPASS\n",
    "with open('BioPlex_psms_comppass.csv', 'w') as f:\n",
    "    writer = csv.writer(f, )\n",
    "    writer.writerow(('Experiment.ID', 'Replicate', 'Experiment.Type', 'Bait', 'Prey', 'Spectral.Count'))\n",
    "    for putative_partners in comppass:\n",
    "        writer.writerow(putative_partners)"
   ]
  }
 ],
 "metadata": {
  "kernelspec": {
   "display_name": "Python 3",
   "language": "python",
   "name": "python3"
  },
  "language_info": {
   "codemirror_mode": {
    "name": "ipython",
    "version": 3
   },
   "file_extension": ".py",
   "mimetype": "text/x-python",
   "name": "python",
   "nbconvert_exporter": "python",
   "pygments_lexer": "ipython3",
   "version": "3.7.3"
  }
 },
 "nbformat": 4,
 "nbformat_minor": 4
}
