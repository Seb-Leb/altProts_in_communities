{
 "cells": [
  {
   "cell_type": "code",
   "execution_count": 1,
   "metadata": {
    "ExecuteTime": {
     "end_time": "2021-06-30T16:29:37.293523Z",
     "start_time": "2021-06-30T16:28:58.687326Z"
    }
   },
   "outputs": [],
   "source": [
    "import pickle\n",
    "from collections import Counter\n",
    "from altProts_in_communities.network_assembly import *\n",
    "from altProts_in_communities.utils import *"
   ]
  },
  {
   "cell_type": "code",
   "execution_count": 2,
   "metadata": {
    "ExecuteTime": {
     "end_time": "2021-06-30T16:29:38.135861Z",
     "start_time": "2021-06-30T16:29:37.296507Z"
    }
   },
   "outputs": [],
   "source": [
    "ev1 = pickle.load(open('ev1.pkl', 'rb'))\n",
    "G_o = pickle.load(open('G_o.pkl', 'rb'))\n",
    "BG = pickle.load(open('biogrid_networkx.pkl', 'rb'))"
   ]
  },
  {
   "cell_type": "code",
   "execution_count": 3,
   "metadata": {
    "ExecuteTime": {
     "end_time": "2021-06-30T16:29:38.177160Z",
     "start_time": "2021-06-30T16:29:38.139125Z"
    }
   },
   "outputs": [
    {
     "data": {
      "text/plain": [
       "278"
      ]
     },
     "execution_count": 3,
     "metadata": {},
     "output_type": "execute_result"
    }
   ],
   "source": [
    "detection_summary = pickle.load(open('detection_summary.pkl', 'rb'))\n",
    "detected_alts = set([x[0] for x in detection_summary if x[-1]])\n",
    "len(detected_alts)"
   ]
  },
  {
   "cell_type": "code",
   "execution_count": 4,
   "metadata": {
    "ExecuteTime": {
     "end_time": "2021-06-30T16:29:38.185933Z",
     "start_time": "2021-06-30T16:29:38.180016Z"
    }
   },
   "outputs": [
    {
     "data": {
      "text/plain": [
       "117"
      ]
     },
     "execution_count": 4,
     "metadata": {},
     "output_type": "execute_result"
    }
   ],
   "source": [
    "alt_pseudos = set([x['altProt accession'] for x in ev1 if 'pseudo' in x['gene biotype']])\n",
    "len(alt_pseudos)"
   ]
  },
  {
   "cell_type": "code",
   "execution_count": 5,
   "metadata": {
    "ExecuteTime": {
     "end_time": "2021-06-30T16:29:38.199376Z",
     "start_time": "2021-06-30T16:29:38.187973Z"
    },
    "code_folding": []
   },
   "outputs": [],
   "source": [
    "# http://www.pseudogene.org/psicube/data/gencode.v10.pgene.parents.txt\n",
    "pseudo_parent_dict = pickle.load(open('pseudo_parent_dict.pkl', 'rb'))"
   ]
  },
  {
   "cell_type": "code",
   "execution_count": 6,
   "metadata": {
    "ExecuteTime": {
     "end_time": "2021-06-30T16:29:38.211383Z",
     "start_time": "2021-06-30T16:29:38.202238Z"
    },
    "code_folding": [
     0
    ]
   },
   "outputs": [],
   "source": [
    "pseudo_parent_refProt_acc = dict([\n",
    "    ('AK2', 'ENSP00000346921.6'), \n",
    "    ('ANXA2', 'ENSP00000346032.3'), \n",
    "    ('ASS1', 'ENSP00000253004.6'), \n",
    "    ('CCT6A', 'ENSP00000275603.4'), \n",
    "    ('CCT8', 'ENSP00000286788.4'), \n",
    "    ('DNAJA1', 'ENSP00000369127.3'),\n",
    "    ('GAPDH', 'ENSP00000229239.5'),\n",
    "    ('GLUL', 'ENSP00000307900.5'),\n",
    "    ('HMGB3', 'ENSP00000359393.3'),\n",
    "    ('HNRNPA1', 'ENSP00000341826.6'),\n",
    "    ('HSP90AA1', 'ENSP00000335153.7'),\n",
    "    ('HSPD1', 'ENSP00000340019.2'),\n",
    "    ('RPS2', 'ENSP00000341885.4'),\n",
    "    ('ST13', 'ENSP00000216218.3')\n",
    "])"
   ]
  },
  {
   "cell_type": "code",
   "execution_count": 7,
   "metadata": {
    "ExecuteTime": {
     "end_time": "2021-06-30T16:29:39.918824Z",
     "start_time": "2021-06-30T16:29:38.213570Z"
    }
   },
   "outputs": [],
   "source": [
    "ensmbl_gene_prot = {}\n",
    "with open('mart_export.txt', 'r') as f:\n",
    "    reader = csv.reader(f, delimiter='\\t')\n",
    "    for n,row in enumerate(reader):\n",
    "        if n==0:\n",
    "            keys = row\n",
    "            continue\n",
    "        line = dict(zip(keys, row))\n",
    "        ensmbl_gene_prot[line['Gene name']] = line['Protein stable ID']"
   ]
  },
  {
   "cell_type": "code",
   "execution_count": 8,
   "metadata": {
    "ExecuteTime": {
     "end_time": "2021-06-30T16:29:40.032505Z",
     "start_time": "2021-06-30T16:29:39.922659Z"
    }
   },
   "outputs": [],
   "source": [
    "psicube_dict = {}\n",
    "with open('gencode.v10.pgene.parents.txt', 'r') as f:\n",
    "    for n,l in enumerate(f):\n",
    "        ls = l.strip().split('\\t')\n",
    "        if n==0:\n",
    "            keys = ls\n",
    "            continue\n",
    "        line = dict(zip(keys, ls))\n",
    "        if 'Parent name' in line:\n",
    "            psicube_dict[line['Name']] = line['Parent name']\n",
    "        elif 'Parent gene' in line:\n",
    "            psicube_dict[line['Name']] = line['Parent gene']"
   ]
  },
  {
   "cell_type": "code",
   "execution_count": 9,
   "metadata": {
    "ExecuteTime": {
     "end_time": "2021-06-30T16:29:40.054822Z",
     "start_time": "2021-06-30T16:29:40.035279Z"
    }
   },
   "outputs": [
    {
     "name": "stdout",
     "output_type": "stream",
     "text": [
      "No parent found: LOC646938|IP_734554\n",
      "No parent found: SULT1C2P2|IP_638493\n",
      "No parent found: AC008758.4|IP_691643\n",
      "No parent found: AL096701.1|IP_651189\n",
      "No parent found: EEF1GP5|IP_558531\n",
      "No parent found: KRT89P|IP_762764\n",
      "No parent found: HLA-V|IP_597081\n",
      "No parent found: AC010677.1|IP_584259\n",
      "No parent found: AL391419.1|IP_556791\n",
      "No parent found: KRT87P|IP_3404123\n",
      "No parent found: AC008481.1|IP_691723\n",
      "No parent found: AC008567.1|IP_689722\n",
      "No parent found: AL355994.2|IP_671823\n",
      "No parent found: FMO5|IP_669446\n",
      "No parent found: AC025470.1|IP_603113\n",
      "No parent found: AL021407.2|IP_595437\n",
      "No parent found: AC110994.1|IP_622877\n",
      "No parent found: AL139100.1|IP_592636\n",
      "pseudo_parent_dict['BRD7P6'] = 'parent':'BRD7', 'prot_acc':'', 'alt_acc':'IP_638355'\n",
      "No parent found: TUBB8P11|IP_673226\n",
      "No parent found: AL355365.1|IP_589156\n",
      "No parent found: KRT89P|IP_3435724\n",
      "No parent found: HSPA8P7|IP_557401\n",
      "No parent found: KLRA1P|IP_763043\n",
      "No parent found: AC010395.2|IP_602155\n",
      "No parent found: AC008481.2|IP_691726\n",
      "No parent found: PSAT1P1|IP_571913\n",
      "No parent found: SORD2P|IP_737297\n",
      "No parent found: AC098590.1|IP_614318\n",
      "No parent found: AL121916.1|IP_665467\n"
     ]
    }
   ],
   "source": [
    "pseudo_parent_prot_pairs = {}\n",
    "missing_parent_genes = []\n",
    "for alt_acc in alt_pseudos:\n",
    "    pseudogene = prot_gene_dict[alt_acc]\n",
    "    pseudo_parent_prot_pairs[(alt_acc, pseudogene)] = {}\n",
    "    \n",
    "    if pseudogene in pseudo_parent_dict:\n",
    "        pseudo_parent_prot_pairs[(alt_acc, pseudogene)].update(pseudo_parent_dict[pseudogene])\n",
    "        \n",
    "    elif pseudogene in psicube_dict:\n",
    "        parent = psicube_dict[pseudogene]\n",
    "        if parent not in pseudo_parent_refProt_acc:\n",
    "            print(\"pseudo_parent_dict['{}'] = 'parent':'{}', 'prot_acc':'', 'alt_acc':'{}'\".format(pseudogene, parent, alt_acc))\n",
    "            continue\n",
    "        pseudo_parent_prot_pairs[(alt_acc, pseudogene)] = {'parent': psicube_dict[pseudogene], 'prot_acc':pseudo_parent_refProt_acc[parent], 'alt_acc':alt_acc}\n",
    "\n",
    "    else:\n",
    "        missing_parent_genes.append(pseudogene)\n",
    "        print(\"No parent found: {}|{}\".format(pseudogene, alt_acc))"
   ]
  },
  {
   "cell_type": "code",
   "execution_count": 10,
   "metadata": {
    "ExecuteTime": {
     "end_time": "2021-06-30T16:29:45.904747Z",
     "start_time": "2021-06-30T16:29:40.057025Z"
    }
   },
   "outputs": [
    {
     "name": "stderr",
     "output_type": "stream",
     "text": [
      "/home/sleblanc/anaconda3/lib/python3.7/site-packages/skbio/util/_testing.py:15: FutureWarning: pandas.util.testing is deprecated. Use the functions in the public API at pandas.testing instead.\n",
      "  import pandas.util.testing as pdt\n"
     ]
    }
   ],
   "source": [
    "#http://scikit-bio.org/docs/0.4.2/generated/skbio.alignment.global_pairwise_align_protein.html#skbio.alignment.global_pairwise_align_protein\n",
    "from skbio.alignment import global_pairwise_align_protein\n",
    "from skbio.sequence import Protein"
   ]
  },
  {
   "cell_type": "code",
   "execution_count": 11,
   "metadata": {
    "ExecuteTime": {
     "end_time": "2021-06-30T16:29:45.995938Z",
     "start_time": "2021-06-30T16:29:45.908931Z"
    },
    "code_folding": [
     0
    ]
   },
   "outputs": [],
   "source": [
    "blosum62 = {\n",
    "    ('W', 'F'): 1, ('L', 'R'): -2, ('S', 'P'): -1, ('V', 'T'): 0,\n",
    "    ('Q', 'Q'): 5, ('N', 'A'): -2, ('Z', 'Y'): -2, ('W', 'R'): -3,\n",
    "    ('Q', 'A'): -1, ('S', 'D'): 0, ('H', 'H'): 8, ('S', 'H'): -1,\n",
    "    ('H', 'D'): -1, ('L', 'N'): -3, ('W', 'A'): -3, ('Y', 'M'): -1,\n",
    "    ('G', 'R'): -2, ('Y', 'I'): -1, ('Y', 'E'): -2, ('B', 'Y'): -3,\n",
    "    ('Y', 'A'): -2, ('V', 'D'): -3, ('B', 'S'): 0, ('Y', 'Y'): 7,\n",
    "    ('G', 'N'): 0, ('E', 'C'): -4, ('Y', 'Q'): -1, ('Z', 'Z'): 4,\n",
    "    ('V', 'A'): 0, ('C', 'C'): 9, ('M', 'R'): -1, ('V', 'E'): -2,\n",
    "    ('T', 'N'): 0, ('P', 'P'): 7, ('V', 'I'): 3, ('V', 'S'): -2,\n",
    "    ('Z', 'P'): -1, ('V', 'M'): 1, ('T', 'F'): -2, ('V', 'Q'): -2,\n",
    "    ('K', 'K'): 5, ('P', 'D'): -1, ('I', 'H'): -3, ('I', 'D'): -3,\n",
    "    ('T', 'R'): -1, ('P', 'L'): -3, ('K', 'G'): -2, ('M', 'N'): -2,\n",
    "    ('P', 'H'): -2, ('F', 'Q'): -3, ('Z', 'G'): -2, ('X', 'L'): -1,\n",
    "    ('T', 'M'): -1, ('Z', 'C'): -3, ('X', 'H'): -1, ('D', 'R'): -2,\n",
    "    ('B', 'W'): -4, ('X', 'D'): -1, ('Z', 'K'): 1, ('F', 'A'): -2,\n",
    "    ('Z', 'W'): -3, ('F', 'E'): -3, ('D', 'N'): 1, ('B', 'K'): 0,\n",
    "    ('X', 'X'): -1, ('F', 'I'): 0, ('B', 'G'): -1, ('X', 'T'): 0,\n",
    "    ('F', 'M'): 0, ('B', 'C'): -3, ('Z', 'I'): -3, ('Z', 'V'): -2,\n",
    "    ('S', 'S'): 4, ('L', 'Q'): -2, ('W', 'E'): -3, ('Q', 'R'): 1,\n",
    "    ('N', 'N'): 6, ('W', 'M'): -1, ('Q', 'C'): -3, ('W', 'I'): -3,\n",
    "    ('S', 'C'): -1, ('L', 'A'): -1, ('S', 'G'): 0, ('L', 'E'): -3,\n",
    "    ('W', 'Q'): -2, ('H', 'G'): -2, ('S', 'K'): 0, ('Q', 'N'): 0,\n",
    "    ('N', 'R'): 0, ('H', 'C'): -3, ('Y', 'N'): -2, ('G', 'Q'): -2,\n",
    "    ('Y', 'F'): 3, ('C', 'A'): 0, ('V', 'L'): 1, ('G', 'E'): -2,\n",
    "    ('G', 'A'): 0, ('K', 'R'): 2, ('E', 'D'): 2, ('Y', 'R'): -2,\n",
    "    ('M', 'Q'): 0, ('T', 'I'): -1, ('C', 'D'): -3, ('V', 'F'): -1,\n",
    "    ('T', 'A'): 0, ('T', 'P'): -1, ('B', 'P'): -2, ('T', 'E'): -1,\n",
    "    ('V', 'N'): -3, ('P', 'G'): -2, ('M', 'A'): -1, ('K', 'H'): -1,\n",
    "    ('V', 'R'): -3, ('P', 'C'): -3, ('M', 'E'): -2, ('K', 'L'): -2,\n",
    "    ('V', 'V'): 4, ('M', 'I'): 1, ('T', 'Q'): -1, ('I', 'G'): -4,\n",
    "    ('P', 'K'): -1, ('M', 'M'): 5, ('K', 'D'): -1, ('I', 'C'): -1,\n",
    "    ('Z', 'D'): 1, ('F', 'R'): -3, ('X', 'K'): -1, ('Q', 'D'): 0,\n",
    "    ('X', 'G'): -1, ('Z', 'L'): -3, ('X', 'C'): -2, ('Z', 'H'): 0,\n",
    "    ('B', 'L'): -4, ('B', 'H'): 0, ('F', 'F'): 6, ('X', 'W'): -2,\n",
    "    ('B', 'D'): 4, ('D', 'A'): -2, ('S', 'L'): -2, ('X', 'S'): 0,\n",
    "    ('F', 'N'): -3, ('S', 'R'): -1, ('W', 'D'): -4, ('V', 'Y'): -1,\n",
    "    ('W', 'L'): -2, ('H', 'R'): 0, ('W', 'H'): -2, ('H', 'N'): 1,\n",
    "    ('W', 'T'): -2, ('T', 'T'): 5, ('S', 'F'): -2, ('W', 'P'): -4,\n",
    "    ('L', 'D'): -4, ('B', 'I'): -3, ('L', 'H'): -3, ('S', 'N'): 1,\n",
    "    ('B', 'T'): -1, ('L', 'L'): 4, ('Y', 'K'): -2, ('E', 'Q'): 2,\n",
    "    ('Y', 'G'): -3, ('Z', 'S'): 0, ('Y', 'C'): -2, ('G', 'D'): -1,\n",
    "    ('B', 'V'): -3, ('E', 'A'): -1, ('Y', 'W'): 2, ('E', 'E'): 5,\n",
    "    ('Y', 'S'): -2, ('C', 'N'): -3, ('V', 'C'): -1, ('T', 'H'): -2,\n",
    "    ('P', 'R'): -2, ('V', 'G'): -3, ('T', 'L'): -1, ('V', 'K'): -2,\n",
    "    ('K', 'Q'): 1, ('R', 'A'): -1, ('I', 'R'): -3, ('T', 'D'): -1,\n",
    "    ('P', 'F'): -4, ('I', 'N'): -3, ('K', 'I'): -3, ('M', 'D'): -3,\n",
    "    ('V', 'W'): -3, ('W', 'W'): 11, ('M', 'H'): -2, ('P', 'N'): -2,\n",
    "    ('K', 'A'): -1, ('M', 'L'): 2, ('K', 'E'): 1, ('Z', 'E'): 4,\n",
    "    ('X', 'N'): -1, ('Z', 'A'): -1, ('Z', 'M'): -1, ('X', 'F'): -1,\n",
    "    ('K', 'C'): -3, ('B', 'Q'): 0, ('X', 'B'): -1, ('B', 'M'): -3,\n",
    "    ('F', 'C'): -2, ('Z', 'Q'): 3, ('X', 'Z'): -1, ('F', 'G'): -3,\n",
    "    ('B', 'E'): 1, ('X', 'V'): -1, ('F', 'K'): -3, ('B', 'A'): -2,\n",
    "    ('X', 'R'): -1, ('D', 'D'): 6, ('W', 'G'): -2, ('Z', 'F'): -3,\n",
    "    ('S', 'Q'): 0, ('W', 'C'): -2, ('W', 'K'): -3, ('H', 'Q'): 0,\n",
    "    ('L', 'C'): -1, ('W', 'N'): -4, ('S', 'A'): 1, ('L', 'G'): -4,\n",
    "    ('W', 'S'): -3, ('S', 'E'): 0, ('H', 'E'): 0, ('S', 'I'): -2,\n",
    "    ('H', 'A'): -2, ('S', 'M'): -1, ('Y', 'L'): -1, ('Y', 'H'): 2,\n",
    "    ('Y', 'D'): -3, ('E', 'R'): 0, ('X', 'P'): -2, ('G', 'G'): 6,\n",
    "    ('G', 'C'): -3, ('E', 'N'): 0, ('Y', 'T'): -2, ('Y', 'P'): -3,\n",
    "    ('T', 'K'): -1, ('A', 'A'): 4, ('P', 'Q'): -1, ('T', 'C'): -1,\n",
    "    ('V', 'H'): -3, ('T', 'G'): -2, ('I', 'Q'): -3, ('Z', 'T'): -1,\n",
    "    ('C', 'R'): -3, ('V', 'P'): -2, ('P', 'E'): -1, ('M', 'C'): -1,\n",
    "    ('K', 'N'): 0, ('I', 'I'): 4, ('P', 'A'): -1, ('M', 'G'): -3,\n",
    "    ('T', 'S'): 1, ('I', 'E'): -3, ('P', 'M'): -2, ('M', 'K'): -1,\n",
    "    ('I', 'A'): -1, ('P', 'I'): -3, ('R', 'R'): 5, ('X', 'M'): -1,\n",
    "    ('L', 'I'): 2, ('X', 'I'): -1, ('Z', 'B'): 1, ('X', 'E'): -1,\n",
    "    ('Z', 'N'): 0, ('X', 'A'): 0, ('B', 'R'): -1, ('B', 'N'): 3,\n",
    "    ('F', 'D'): -3, ('X', 'Y'): -1, ('Z', 'R'): 0, ('F', 'H'): -1,\n",
    "    ('B', 'F'): -3, ('F', 'L'): 0, ('X', 'Q'): -1, ('B', 'B'): 4\n",
    "}\n",
    "\n",
    "BLOSUM62 = {}\n",
    "for aas, s in blosum62.items():\n",
    "    aa1, aa2 = aas\n",
    "    if aa1 not in BLOSUM62:\n",
    "        BLOSUM62[aa1] = {}\n",
    "    if aa2 not in BLOSUM62:\n",
    "        BLOSUM62[aa2] = {}\n",
    "    BLOSUM62[aa1].update({aa2:s})\n",
    "    BLOSUM62[aa2].update({aa1:s})"
   ]
  },
  {
   "cell_type": "code",
   "execution_count": 12,
   "metadata": {
    "ExecuteTime": {
     "end_time": "2021-06-30T16:29:46.009609Z",
     "start_time": "2021-06-30T16:29:45.998155Z"
    }
   },
   "outputs": [],
   "source": [
    "fasta_fields = ['OS', 'GN', 'TA', 'PA']\n",
    "def parse_fasta_header(h):\n",
    "    h = h.split()\n",
    "    acc = h[0].split('|')[0]\n",
    "    res = {}\n",
    "    for f in h[1:]:\n",
    "        for field in fasta_fields:\n",
    "            if f[:2] == field:\n",
    "                res[field] = f[3:]\n",
    "    if 'GN' not in res:\n",
    "        res['GN'] = 'unknown'\n",
    "    if 'PA' in res  and ',' in res['PA']:\n",
    "        res['PA'] = res['PA'].split(',')\n",
    "    return res "
   ]
  },
  {
   "cell_type": "code",
   "execution_count": 13,
   "metadata": {
    "ExecuteTime": {
     "end_time": "2021-06-30T16:30:20.228240Z",
     "start_time": "2021-06-30T16:29:46.011905Z"
    },
    "code_folding": []
   },
   "outputs": [],
   "source": [
    "prot_seq_dict = {}\n",
    "for rec in SeqIO.parse('human-openprot-r1_6-refprots+altprots+isoforms-+uniprot2019_03_01.fasta', 'fasta'):\n",
    "    tt_acc = rec.name.split('|')[0]\n",
    "    prot_seq_dict[tt_acc] = rec.seq\n",
    "    if '.' in tt_acc:\n",
    "        prot_seq_dict[tt_acc.split('.')[0]] = rec.seq\n",
    "    header = parse_fasta_header(rec.description)\n",
    "    \n",
    "    if 'PA' in header:\n",
    "        for pa in header['PA']:\n",
    "            prot_seq_dict[pa.split('.')[0]] = rec.seq"
   ]
  },
  {
   "cell_type": "code",
   "execution_count": 14,
   "metadata": {
    "ExecuteTime": {
     "end_time": "2021-06-30T16:40:09.012905Z",
     "start_time": "2021-06-30T16:30:20.230820Z"
    },
    "code_folding": [],
    "scrolled": true
   },
   "outputs": [
    {
     "name": "stderr",
     "output_type": "stream",
     "text": [
      "/home/sleblanc/anaconda3/lib/python3.7/site-packages/skbio/alignment/_pairwise.py:599: EfficiencyWarning: You're using skbio's python implementation of Needleman-Wunsch alignment. This is known to be very slow (e.g., thousands of times slower than a native C implementation). We'll be adding a faster version soon (see https://github.com/biocore/scikit-bio/issues/254 to track progress on this).\n",
      "  \"to track progress on this).\", EfficiencyWarning)\n"
     ]
    },
    {
     "name": "stdout",
     "output_type": "stream",
     "text": [
      "IP_662403 NPM1P19 NPM1 1\n",
      "IP_762813 PHBP19 PHB 1\n",
      "IP_591826 HSPD1P10 HSPD1 1\n",
      "IP_556050 RAC1P4 RAC2 1\n",
      "IP_3390265 ANXA2P1 ANXA2 1\n",
      "IP_737074 EEF1A1P22 EEF1A1 1\n",
      "missing parent gene: ('IP_734554', 'LOC646938')\n",
      "IP_761275 GAPDHP44 GAPDH 1\n",
      "IP_564999 LDHAP4 LDHA 1\n",
      "UBB in BP2\n",
      "IP_710742 UBBP4 UBB 6\n",
      "TUBB4A in BIOGRID 4\n",
      "IP_557240 TUBB4AP1 TUBB4A 4\n",
      "IP_762589 EEF1A1P4 EEF1A1 1\n",
      "IP_603079 SETP21 SET 2\n",
      "HSP90AA1 in BP2\n",
      "IP_610386 HSP90AA4P HSP90AA1 2\n",
      "IP_735797 GAPDHP61 GAPDH 1\n",
      "IP_758374 EIF4A1P7 EIF4A1 1\n",
      "IP_775646 RPLP0P2 RPLP0 1\n",
      "missing parent gene: ('IP_638493', 'SULT1C2P2')\n",
      "missing parent gene: ('IP_691643', 'AC008758.4')\n",
      "missing parent gene: ('IP_651189', 'AL096701.1')\n",
      "IP_572422 TUBBP1 TUBB 3\n",
      "missing parent gene: ('IP_558531', 'EEF1GP5')\n",
      "IP_672168 GAPDHP46 GAPDH 1\n",
      "IP_736336 ASB9P1 ASB9 1\n",
      "IP_557270 HSPA8P1 HSPA8 7\n",
      "missing parent gene: ('IP_762764', 'KRT89P')\n",
      "IP_591881 GAPDHP63 GAPDH 1\n",
      "IP_571963 AC024451.2 NSFL1C 1\n",
      "IP_789496 DYNC1I2P1 DYNC1I2 1\n",
      "IP_578417 RPL7P59 RPL7 7\n",
      "IP_658154 HSPD1P7 HSPD1 1\n",
      "HSPA5 in BP2\n",
      "IP_672618 AL354702.1 HSPA5 2\n",
      "issue calculating path -  NUS1P2|IP_755876 NUS1\n",
      "IP_760824 AC068993.1 RALA 6\n",
      "missing parent gene: ('IP_597081', 'HLA-V')\n",
      "IP_637160 AL078621.1 SNRPA1 1\n",
      "IP_671420 PSAT1P3 PSAT1 1\n",
      "missing parent gene: ('IP_584259', 'AC010677.1')\n",
      "IP_570964 NPM1P52 NPM1 1\n",
      "IP_560713 GAPDHP1 GAPDH 1\n",
      "IP_579683 RPS27AP12 RPS27A 6\n",
      "IP_637308 RPL23AP29 RPL23A 4\n",
      "IP_761691 HSPD1P4 HSPD1 1\n",
      "IP_755938 RPSAP54 RPSA 1\n",
      "TUBB2B in BP2\n",
      "IP_593099 TUBB2BP1 TUBB2B 4\n",
      "IP_557819 GAPDHP65 GAPDH 1\n",
      "IP_667404 AL390728.1 HSPA8 4\n",
      "IP_635387 GLULP6 GLUL 1\n",
      "missing parent gene: ('IP_556791', 'AL391419.1')\n",
      "HSP90AB1 in BP2\n",
      "IP_755625 HSP90AB6P HSP90AB1 2\n",
      "IP_672870 EEF1A1P11 EEF1A1 1\n",
      "PGAM1 in BP2\n",
      "IP_775497 PGAM1P8 PGAM1 2\n",
      "IP_686636 SEPT7P8 SEPT7 2\n",
      "IP_639798 RPL23AP32 RPL23A 6\n",
      "HNRNPA1 in BP2\n",
      "IP_595308 HNRNPA1P58 HNRNPA1 4\n",
      "IP_723386 RPL18P13 RPL18 3\n",
      "IP_582257 HSPA8P8 HSPA8 5\n",
      "IP_762158 TUBB8P5 TUBB2B 3\n",
      "IP_621894 HSPA8P9 HSPA8 3\n",
      "IP_628102 PGAM1P4 PGAM1 2\n",
      "IP_710744 UBBP4 UBB 2\n",
      "missing parent gene: ('IP_3404123', 'KRT87P')\n",
      "IP_3409528 ENPP7P13 ENPP7 1\n",
      "AK2 - AK2P2|IP_639223 no path\n",
      "AK2 in BP2\n",
      "missing parent gene: ('IP_691723', 'AC008481.1')\n",
      "missing parent gene: ('IP_689722', 'AC008567.1')\n",
      "SLC25A5 - SLC25A5P5|IP_581916 no path\n",
      "SLC25A5 in BP2\n",
      "IP_747029 AL133163.1 RPLP0 1\n",
      "IP_762570 ELOCP31 ELOC 3\n",
      "missing parent gene: ('IP_671823', 'AL355994.2')\n",
      "IP_556449 LDHBP2 LDHB 2\n",
      "IP_789305 ANXA2P3 ANXA2 1\n",
      "IP_755869 GAPDHP69 GAPDH 1\n",
      "missing parent gene: ('IP_669446', 'FMO5')\n",
      "IP_790907 EIF3LP2 EIF3L 2\n",
      "IP_788703 XRCC6P1 XRCC6 1\n",
      "IP_591777 TUBB3P1 TUBB3 1\n",
      "KRT8 - KRT8P41|IP_776992 no path\n",
      "KRT8 in BIOGRID 0\n",
      "missing parent gene: ('IP_603113', 'AC025470.1')\n",
      "missing parent gene: ('IP_595437', 'AL021407.2')\n",
      "IP_557223 HSPA8P20 HSPA8 5\n",
      "issue calculating path -  GAPDHP72|IP_590800 GAPDH\n",
      "missing parent gene: ('IP_622877', 'AC110994.1')\n",
      "SLC25A3 in BIOGRID 2\n",
      "IP_670861 SLC25A3P1 SLC25A3 2\n",
      "IP_623047 EEF1A1P8 EEF1A1 1\n",
      "IP_638538 EEF1A1P12 EEF1A1 5\n",
      "IP_557390 AC239600.2 TUBA1A 3\n",
      "IP_746370 ADAM21P1 ADAM21 1\n",
      "ACTG1 in BIOGRID 5\n",
      "IP_671454 ACTG1P21 ACTG1 5\n",
      "IP_774695 TUBAP2 TUBA1C 6\n",
      "KRT38 - KRT41P|IP_708794 no path\n",
      "KRT38 in BIOGRID 0\n",
      "CCT6A in BP2\n",
      "IP_620044 CCT6P4 CCT6A 2\n",
      "missing parent gene: ('IP_592636', 'AL139100.1')\n",
      "missing parent gene: ('IP_638355', 'BRD7P6')\n",
      "IP_581010 CCT6P3 CCT6A 2\n",
      "missing parent gene: ('IP_673226', 'TUBB8P11')\n",
      "missing parent gene: ('IP_589156', 'AL355365.1')\n",
      "IP_603739 HSPD1P1 HSPD1 1\n",
      "ENO1 - ENO1P1|IP_079312 no path\n",
      "ENO1 in BP2\n",
      "IP_581325 HSPA8P16 HSPA8 5\n",
      "missing parent gene: ('IP_3435724', 'KRT89P')\n",
      "missing parent gene: ('IP_557401', 'HSPA8P7')\n",
      "missing parent gene: ('IP_763043', 'KLRA1P')\n",
      "missing parent gene: ('IP_602155', 'AC010395.2')\n",
      "PPIA in BIOGRID 4\n",
      "IP_623594 PPIAP71 PPIA 4\n",
      "missing parent gene: ('IP_691726', 'AC008481.2')\n",
      "IP_597202 RPSAP2 RPSA 1\n",
      "missing parent gene: ('IP_571913', 'PSAT1P1')\n",
      "IP_557268 HSPA8P1 HSPA8 4\n",
      "missing parent gene: ('IP_737297', 'SORD2P')\n",
      "missing parent gene: ('IP_614318', 'AC098590.1')\n",
      "missing parent gene: ('IP_665467', 'AL121916.1')\n",
      "IP_667401 AL390728.1 HSPA8 5\n",
      "IP_624363 EEF1A1P24 EEF1A1 1\n",
      "IP_3381524 AKR7A2P1 AKR7A2 2\n",
      "IP_619904 MUC20P1 MUC20 1\n",
      "IP_763499 HSPA8P5 HSPA8 3\n"
     ]
    }
   ],
   "source": [
    "G_paths = G_o.copy()\n",
    "sps, alignments = [], []\n",
    "missing_parent_genes = []\n",
    "for pseudo_alt, parent_prot in pseudo_parent_prot_pairs.items():\n",
    "    alt_acc, pseudogene = pseudo_alt\n",
    "    alt_acc_gene = '|'.join([pseudogene, alt_acc])\n",
    "    if 'parent' not in parent_prot:\n",
    "        missing_parent_genes.append(pseudo_alt)\n",
    "        print('missing parent gene:', pseudo_alt)\n",
    "        continue\n",
    "    parent_gene = parent_prot['parent']\n",
    "    sp = 0\n",
    "    seq1 = Protein(altprotseq_dict[alt_acc])\n",
    "    if parent_prot['prot_acc'].split('.')[0] not in prot_seq_dict:\n",
    "        print('not in seq dict:', parent_prot['prot_acc'].split('.')[0])\n",
    "        break\n",
    "    seq2 = str(prot_seq_dict[parent_prot['prot_acc'].split('.')[0]])\n",
    "    if seq2:\n",
    "        seq2 = Protein(seq2)\n",
    "    else:\n",
    "        print('No seq from OP:', parent_prot['prot_acc'])\n",
    "        continue\n",
    "    \n",
    "    NW_score = global_pairwise_align_protein(seq1, seq2, gap_open_penalty=10, gap_extend_penalty=0.5, substitution_matrix=BLOSUM62, penalize_terminal_gaps=False)\n",
    "    pseudo_parent_prot_pairs[pseudo_alt].update({'sortest_path_len':sp, 'NW_score':NW_score[1]})\n",
    "    \n",
    "    if parent_gene in G_paths:\n",
    "        try:\n",
    "            sp = nx.shortest_path_length(G_paths, alt_acc_gene, parent_gene)\n",
    "        except:\n",
    "            print('issue calculating path - ', alt_acc_gene, parent_gene)\n",
    "            continue\n",
    "        \n",
    "    elif parent_gene in G_b:\n",
    "        for n in G_b.neighbors(parent_gene):\n",
    "            if n in G_paths:\n",
    "                G_paths.add_edge(parent_gene, n)\n",
    "        try:\n",
    "            sp = nx.shortest_path_length(G_paths, alt_acc_gene, parent_gene)\n",
    "        except:\n",
    "            print('{} - {} no path'.format(parent_gene, alt_acc_gene))\n",
    "        print(parent_gene, 'in BP2', )\n",
    "        \n",
    "    elif parent_gene in BG:\n",
    "        if sum(n in G_paths for n in BG.neighbors(parent_gene)) == 0: continue# no BioGrid 2nd deg neighbors in G_o\n",
    "        for n in BG.neighbors(parent_gene):\n",
    "            if n in G_paths:\n",
    "                G_paths.add_edge(parent_gene, n)\n",
    "        try:\n",
    "            sp = nx.shortest_path_length(G_paths, alt_acc_gene, parent_gene)\n",
    "        except:\n",
    "            print('{} - {} no path'.format(parent_gene, alt_acc_gene))\n",
    "        print(parent_gene, 'in BIOGRID', sp)\n",
    "        \n",
    "    if sp<1: continue\n",
    "    pseudo_parent_prot_pairs[pseudo_alt].update({'sortest_path_len':sp, 'NW_score':NW_score[1]})\n",
    "    sps.append(sp)\n",
    "    alignments.append(NW_score[1])\n",
    "    print(alt_acc, pseudogene, parent_gene, sp)"
   ]
  },
  {
   "cell_type": "code",
   "execution_count": 15,
   "metadata": {
    "ExecuteTime": {
     "end_time": "2021-06-30T16:40:09.430757Z",
     "start_time": "2021-06-30T16:40:09.016415Z"
    }
   },
   "outputs": [
    {
     "name": "stdout",
     "output_type": "stream",
     "text": [
      "count alt-pseugogene pairs: 80\n"
     ]
    },
    {
     "data": {
      "image/png": "[encoded data removed]",
      "text/plain": [
       "<Figure size 432x288 with 1 Axes>"
      ]
     },
     "metadata": {
      "needs_background": "light"
     },
     "output_type": "display_data"
    }
   ],
   "source": [
    "sps_plot = []\n",
    "for sp in sps:\n",
    "    sps_plot.append(sp+np.random.normal(0, 0.1))\n",
    "print('count alt-pseugogene pairs:', len(sps_plot))\n",
    "fig, ax = plt.subplots()\n",
    "ax.bar(range(1, 8), [max(alignments)+100,]*7, width=1, color=['#dfdfdf','w'], )\n",
    "ax.scatter(sps_plot, alignments, s=12, color='#8F2D56', zorder=10)\n",
    "#ax.set_ylim(0,100)\n",
    "ax.set_xlabel('shortest path length')\n",
    "ax.set_xticks(range(1,8))\n",
    "ax.set_ylabel('NW alignment score')\n",
    "plt.savefig('bioplex_figures/pseudo_alt_sp.svg')\n",
    "plt.show()"
   ]
  },
  {
   "cell_type": "code",
   "execution_count": 23,
   "metadata": {
    "ExecuteTime": {
     "end_time": "2021-06-30T16:56:05.706813Z",
     "start_time": "2021-06-30T16:56:05.695856Z"
    }
   },
   "outputs": [],
   "source": [
    "interpro = pickle.load(open('interpro.pkl', 'rb'))"
   ]
  },
  {
   "cell_type": "code",
   "execution_count": 25,
   "metadata": {
    "ExecuteTime": {
     "end_time": "2021-06-30T16:57:11.798517Z",
     "start_time": "2021-06-30T16:57:11.791251Z"
    }
   },
   "outputs": [],
   "source": [
    "prent_prots = [p['prot_acc'] for p in pseudo_parent_prot_pairs.values() if 'prot_acc' in p and p['prot_acc']]"
   ]
  },
  {
   "cell_type": "code",
   "execution_count": 26,
   "metadata": {
    "ExecuteTime": {
     "end_time": "2021-06-30T16:59:42.742140Z",
     "start_time": "2021-06-30T16:59:27.887794Z"
    },
    "code_folding": [
     0
    ]
   },
   "outputs": [],
   "source": [
    "# interproscan\n",
    "import psycopg2\n",
    "db_prod_conn_str   = \"dbname='annotations' host='altprotdb02.ccs.usherbrooke.ca' port='5435' user='saltorf' password='saltorf'\"\n",
    "\n",
    "def execute_query(Q, conn_str):\n",
    "    conn = psycopg2.connect(conn_str)\n",
    "    C = conn.cursor()\n",
    "    C.execute(Q)\n",
    "    results = C.fetchall()\n",
    "    conn.commit()\n",
    "    conn.close()\n",
    "    return results\n",
    "\n",
    "Q = \"\\\n",
    "SELECT tt.transcript_translation_accession, i.interpro_name, i.interpro_description, i.accession, i.name, i.description \\\n",
    "FROM r_prot_search tt \\\n",
    "INNER JOIN domain_prediction i ON i.protein_seq_id = tt.protein_seq_id \\\n",
    "WHERE tt.openprot_release_id=79 \\\n",
    "AND tt.transcript_translation_accession in ({}); \\\n",
    "\".format(\"'\"+\"', '\".join(list(detected_alts)+prent_prots)+\"'\")\n",
    "result = execute_query(Q, db_prod_conn_str)\n",
    "\n",
    "interpro = {}\n",
    "for acc, hits in itt.groupby(sorted(result, key=lambda x: x[0]), key=lambda x: x[0]):\n",
    "    hits = list(hits)\n",
    "    interpro[acc] = {}\n",
    "    interpro[acc]['ipr_ids'] = set(x[1] for x in hits if x[1] is not None)\n",
    "    interpro[acc]['ipr_desc'] = set(x[2] for x in hits if x[1] is not None)\n",
    "    interpro[acc]['sig_accs'] = [x[3] for x in hits]\n",
    "    interpro[acc]['sig_desc'] = [x[4] if x[4] is not None else x[2] for x in hits]\n",
    "    "
   ]
  },
  {
   "cell_type": "code",
   "execution_count": 27,
   "metadata": {
    "ExecuteTime": {
     "end_time": "2021-06-30T16:59:51.699499Z",
     "start_time": "2021-06-30T16:59:51.681476Z"
    }
   },
   "outputs": [],
   "source": [
    "altpseudo_parent_interpro = []\n",
    "for alt_pseudogene, parent in pseudo_parent_prot_pairs.items():\n",
    "    if 'prot_acc' not in parent or not parent['prot_acc']: continue\n",
    "    alt_acc, pseudogene = alt_pseudogene\n",
    "    alt_interpro, parent_interpro, alt_interpro_id, alt_interpro_desc, parent_interpro_id, parent_interpro_desc = ['NA']*6\n",
    "    if alt_acc in interpro:\n",
    "        alt_interpro_id = '|'.join(interpro[alt_acc]['ipr_ids'])\n",
    "        alt_interpro_desc = '|'.join(interpro[alt_acc]['ipr_desc'])\n",
    "        \n",
    "    if parent['prot_acc'] in interpro:\n",
    "        parent_interpro_id = '|'.join(interpro[parent['prot_acc']]['ipr_ids'])\n",
    "        parent_interpro_desc = '|'.join(interpro[parent['prot_acc']]['ipr_desc'])\n",
    "        \n",
    "    count_shared_interpro = len(set(alt_interpro_id.split('|')).intersection(set(parent_interpro_id.split('|'))))\n",
    "\n",
    "    sp = parent['sortest_path_len'] if 'sortest_path_len' in parent and parent['sortest_path_len']>0 else 'no path'\n",
    "    NW = parent['NW_score']\n",
    "    altpseudo_parent_interpro.append((alt_acc, pseudogene, parent['parent'], parent['prot_acc'], sp, NW, count_shared_interpro, alt_interpro_desc, parent_interpro_desc, alt_interpro_id, parent_interpro_id))"
   ]
  },
  {
   "cell_type": "code",
   "execution_count": 28,
   "metadata": {
    "ExecuteTime": {
     "end_time": "2021-06-30T16:59:54.561832Z",
     "start_time": "2021-06-30T16:59:54.548691Z"
    }
   },
   "outputs": [],
   "source": [
    "cols = ('altProt accession', 'pseudogene', 'parent gene', 'parent refProt', 'shortest path length', 'NW alignment score', \n",
    "        'count shared interproscan', 'altProt interproscan descriptions', 'refProt interproscan descriptions', \n",
    "        'altProt interproscan ids', 'refProt interproscan ids')\n",
    "\n",
    "with open('bioplex_tables/Table_S4.tsv', 'w') as f:\n",
    "    writer = csv.writer(f, delimiter='\\t')\n",
    "    writer.writerow(cols)\n",
    "    for l in sorted(altpseudo_parent_interpro, key=lambda x: x[4] if type(x[4])==int else 100):\n",
    "        writer.writerow(l)"
   ]
  },
  {
   "cell_type": "code",
   "execution_count": 29,
   "metadata": {
    "ExecuteTime": {
     "end_time": "2021-06-30T18:10:57.625855Z",
     "start_time": "2021-06-30T18:10:57.618106Z"
    }
   },
   "outputs": [
    {
     "data": {
      "text/plain": [
       "118"
      ]
     },
     "execution_count": 29,
     "metadata": {},
     "output_type": "execute_result"
    }
   ],
   "source": [
    "alt_coding = set([x['altProt accession'] for x in ev1 if 'protein_coding' in x['gene biotype']])\n",
    "len(alt_coding)"
   ]
  },
  {
   "cell_type": "code",
   "execution_count": 30,
   "metadata": {
    "ExecuteTime": {
     "end_time": "2021-06-30T18:10:58.991373Z",
     "start_time": "2021-06-30T18:10:58.734649Z"
    },
    "collapsed": true
   },
   "outputs": [
    {
     "name": "stdout",
     "output_type": "stream",
     "text": [
      "SLC25A13 in BP2 6\n",
      "XCR1 in BIOGRID XCR1 - IP_2372737 no path\n",
      "NPAS1 in BP2 6\n",
      "CEPT1 in BP2 CEPT1 - IP_679545 no path\n",
      "LRRC4C in BP2 5\n",
      "NAPSA - IP_695602 no path\n",
      "PDSS1 in BP2 5\n",
      "C11orf65 in BP2 7\n",
      "CDK8 - IP_218971 no path\n",
      "RSPO3 in BP2 10\n",
      "ECHDC1 in BP2 ECHDC1 - IP_145280 no path\n",
      "PTPN20 - IP_2320285 no path\n",
      "PIGP in BP2 PIGP - IP_661114 no path\n",
      "FAM91A1 in BP2 6\n",
      "RAB3C in BIOGRID 7\n",
      "RYR2 in BIOGRID RYR2 - IP_079402 no path\n",
      "RUSC1 in BIOGRID 4\n",
      "COL7A1 in BIOGRID 8\n",
      "CD200 in BIOGRID 7\n",
      "NCOA4 - IP_182923 no path\n",
      "SULT4A1 - IP_295454 no path\n",
      "UBE3D in BIOGRID 7\n",
      "KCNC4 in BP2 3\n",
      "C2orf71 in BIOGRID 4\n",
      "FUS in BP2 FUS - IP_243680 no path\n",
      "GIMAP1 in BP2 7\n",
      "FUS - IP_3408961 no path\n",
      "SNCAIP in BP2 7\n",
      "PTPRQ in BIOGRID 5\n",
      "LMCD1 in BIOGRID 6\n",
      "FMO5 in BP2 6\n",
      "RASAL2 - IP_074307 no path\n",
      "KRT13 in BIOGRID KRT13 - IP_255333 no path\n",
      "BEND4 in BIOGRID 5\n",
      "NBPF3 in BP2 NBPF3 - IP_060186 no path\n",
      "RETREG1 - IP_2360322 no path\n",
      "ITGB8 in BP2 7\n",
      "NR3C2 in BP2 NR3C2 - IP_122416 no path\n",
      "AP4S1 in BP2 AP4S1 - IP_224381 no path\n",
      "HMBOX1 in BP2 6\n",
      "CASR in BIOGRID 5\n",
      "ARF3 in BIOGRID ARF3 - IP_209309 no path\n",
      "CRLF1 in BP2 CRLF1 - IP_272387 no path\n",
      "PSD3 in BIOGRID 8\n",
      "ZNF84 in BP2 ZNF84 - IP_767719 no path\n",
      "RPL14 - IP_630937 no path\n",
      "RNF215 in BP2 6\n",
      "COL4A5 in BP2 COL4A5 - IP_302474 no path\n",
      "SVOP in BIOGRID 7\n",
      "POM121 - IP_153108 no path\n",
      "SMPX in BP2 5\n",
      "75 [('KLHDC2', 'KLHDC2|IP_751763', 4), ('SLC25A13', 'SLC25A13|IP_154569', 6), ('PRRC2A', 'PRRC2A|IP_138993', 5), ('NPAS1', 'NPAS1|IP_276857', 6), ('CBR1', 'CBR1|IP_289338', 1)]\n"
     ]
    }
   ],
   "source": [
    "G_paths = G_o.copy()\n",
    "alt_coding_shortest_paths = []\n",
    "processed_pepgrps = []\n",
    "for alt in alt_coding:\n",
    "    gene = prot_gene_dict[alt]\n",
    "    gene_alt = '|'.join([gene, alt])\n",
    "    if gene in G_paths:\n",
    "        try:\n",
    "            alt_coding_shortest_paths.append(\n",
    "                (gene, gene_alt, nx.shortest_path_length(G_paths, gene_alt, gene))\n",
    "            )\n",
    "        except:\n",
    "            print('{} - {} no path'.format(gene, alt))\n",
    "    \n",
    "    elif gene in G_b:\n",
    "        for n in G_b.neighbors(gene):\n",
    "            if n in G_paths:\n",
    "                G_paths.add_edge(gene, n)\n",
    "        try:\n",
    "            sp = nx.shortest_path_length(G_paths, gene_alt, gene)\n",
    "            alt_coding_shortest_paths.append(\n",
    "                (gene, gene_alt, nx.shortest_path_length(G_paths, gene_alt, gene))\n",
    "            )\n",
    "        except:\n",
    "            sp = '{} - {} no path'.format(gene, alt)\n",
    "        print(gene, 'in BP2', sp)\n",
    "                \n",
    "    elif gene in BG:\n",
    "        if sum(n in G_paths for n in BG.neighbors(gene)) == 0: continue# no BioGrid 2nd deg neighbors in G_o\n",
    "        for n in BG.neighbors(gene):\n",
    "            if n in G_paths:\n",
    "                G_paths.add_edge(gene, n)\n",
    "\n",
    "        try:\n",
    "            sp = nx.shortest_path_length(G_paths, gene_alt, gene)\n",
    "            alt_coding_shortest_paths.append(\n",
    "                (gene, gene_alt, nx.shortest_path_length(G_paths, gene_alt, gene))\n",
    "            )\n",
    "        except:\n",
    "            \n",
    "            sp = '{} - {} no path'.format(gene, alt)\n",
    "        print(gene, 'in BIOGRID', sp)\n",
    "print(len(alt_coding_shortest_paths), alt_coding_shortest_paths[:5])"
   ]
  },
  {
   "cell_type": "code",
   "execution_count": 37,
   "metadata": {
    "ExecuteTime": {
     "end_time": "2021-06-30T18:19:37.515057Z",
     "start_time": "2021-06-30T18:19:37.504608Z"
    }
   },
   "outputs": [],
   "source": [
    "ev1 = pickle.load(open('ev1.pkl', 'rb'))"
   ]
  },
  {
   "cell_type": "code",
   "execution_count": 45,
   "metadata": {
    "ExecuteTime": {
     "end_time": "2021-06-30T18:27:35.616316Z",
     "start_time": "2021-06-30T18:27:35.610123Z"
    }
   },
   "outputs": [],
   "source": [
    "coding_types = dict()\n",
    "for trxp in ev1:\n",
    "    gene = trxp['gene']\n",
    "    if gene in coding_types:\n",
    "        coding_types[gene].append(trxp['multi-coding type'])\n",
    "    else:\n",
    "        coding_types[gene] = [trxp['multi-coding type']]\n",
    "\n",
    "multi_codeing_types = dict()\n",
    "for gene, types in coding_types.items():\n",
    "    majority_type = sorted(Counter(types).items(), key=lambda x: -x[1])[0][0]\n",
    "    multi_codeing_types[gene] = majority_type"
   ]
  },
  {
   "cell_type": "code",
   "execution_count": 31,
   "metadata": {
    "ExecuteTime": {
     "end_time": "2021-06-30T18:11:08.196171Z",
     "start_time": "2021-06-30T18:11:07.672760Z"
    }
   },
   "outputs": [
    {
     "data": {
      "image/png": "[encoded data removed]",
      "text/plain": [
       "<Figure size 432x288 with 1 Axes>"
      ]
     },
     "metadata": {
      "needs_background": "light"
     },
     "output_type": "display_data"
    }
   ],
   "source": [
    "sp, cnt = list(zip(*list(Counter([x[-1] for x in alt_coding_shortest_paths]).items())))\n",
    "plt.bar(sp, cnt, color='#8F2D56')\n",
    "plt.xticks(sp)\n",
    "plt.savefig('bioplex_figures/alt_coding_sp_bar.svg')\n",
    "plt.show()"
   ]
  }
 ],
 "metadata": {
  "kernelspec": {
   "display_name": "Python 3",
   "language": "python",
   "name": "python3"
  },
  "language_info": {
   "codemirror_mode": {
    "name": "ipython",
    "version": 3
   },
   "file_extension": ".py",
   "mimetype": "text/x-python",
   "name": "python",
   "nbconvert_exporter": "python",
   "pygments_lexer": "ipython3",
   "version": "3.7.3"
  }
 },
 "nbformat": 4,
 "nbformat_minor": 4
}
